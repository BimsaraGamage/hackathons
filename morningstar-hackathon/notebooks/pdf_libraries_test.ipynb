{
 "cells": [
  {
   "cell_type": "code",
   "execution_count": null,
   "metadata": {},
   "outputs": [],
   "source": [
    "# https://www.bseindia.com/corporates/results.aspx?Code=532648&Company=YES%20BANK%20LTD.&qtr=81.50&RType=\n",
    "# https://www.bseindia.com/bseplus/AnnualReport/532648/5326480314.pdf\n",
    "\n",
    "# pip install pdf2image PyPDF2 tabula-py pdftotree pandas jupyterlab\n",
    "# pip install pdftabextract\n",
    "\n",
    "# pip install git+https://github.com/pdfminer/pdfminer.six.git\n",
    "# https://stackoverflow.com/questions/25665/python-module-for-converting-pdf-to-text?rq=1\n",
    "\n",
    "# https://stackoverflow.com/questions/28532770/extract-identify-tables-from-pdf-python\n",
    "    \n",
    "# tesseract c9c2f555-2f2b-4e01-bc79-b33529dbf91b-152.png out hocr\n",
    "# tesseract c9c2f555-2f2b-4e01-bc79-b33529dbf91b-152.png out pdf\n",
    "# https://github.com/tesseract-ocr/tesseract/wiki\n",
    "# https://stackoverflow.com/questions/29087739/tesseract-ocr-text-order-for-documents-with-tables-or-rows\n",
    "\n",
    "# https://www.ghostscript.com/doc/current/Use.htm"
   ]
  },
  {
   "cell_type": "code",
   "execution_count": 2,
   "metadata": {},
   "outputs": [],
   "source": [
    "from tabula import read_pdf"
   ]
  },
  {
   "cell_type": "code",
   "execution_count": 8,
   "metadata": {},
   "outputs": [
    {
     "data": {
      "text/html": [
       "<div>\n",
       "<style scoped>\n",
       "    .dataframe tbody tr th:only-of-type {\n",
       "        vertical-align: middle;\n",
       "    }\n",
       "\n",
       "    .dataframe tbody tr th {\n",
       "        vertical-align: top;\n",
       "    }\n",
       "\n",
       "    .dataframe thead th {\n",
       "        text-align: right;\n",
       "    }\n",
       "</style>\n",
       "<table border=\"1\" class=\"dataframe\">\n",
       "  <thead>\n",
       "    <tr style=\"text-align: right;\">\n",
       "      <th></th>\n",
       "      <th>As at Particulars Notes</th>\n",
       "      <th>As at</th>\n",
       "      <th>As at.1</th>\n",
       "      <th>Unnamed: 3</th>\n",
       "    </tr>\n",
       "  </thead>\n",
       "  <tbody>\n",
       "    <tr>\n",
       "      <th>0</th>\n",
       "      <td>NaN</td>\n",
       "      <td>March 31, 2017</td>\n",
       "      <td>March 31, 2016</td>\n",
       "      <td>April 01, 2015</td>\n",
       "    </tr>\n",
       "    <tr>\n",
       "      <th>1</th>\n",
       "      <td>ASSETS</td>\n",
       "      <td>NaN</td>\n",
       "      <td>NaN</td>\n",
       "      <td>NaN</td>\n",
       "    </tr>\n",
       "    <tr>\n",
       "      <th>2</th>\n",
       "      <td>I.  Non-current assets</td>\n",
       "      <td>NaN</td>\n",
       "      <td>NaN</td>\n",
       "      <td>NaN</td>\n",
       "    </tr>\n",
       "    <tr>\n",
       "      <th>3</th>\n",
       "      <td>(a) Property, plant and equipment 5</td>\n",
       "      <td>2,877.90</td>\n",
       "      <td>2,815.07</td>\n",
       "      <td>2,601.50</td>\n",
       "    </tr>\n",
       "  </tbody>\n",
       "</table>\n",
       "</div>"
      ],
      "text/plain": [
       "               As at Particulars Notes           As at         As at.1  \\\n",
       "0                                  NaN  March 31, 2017  March 31, 2016   \n",
       "1                               ASSETS             NaN             NaN   \n",
       "2               I.  Non-current assets             NaN             NaN   \n",
       "3  (a) Property, plant and equipment 5        2,877.90        2,815.07   \n",
       "\n",
       "       Unnamed: 3  \n",
       "0  April 01, 2015  \n",
       "1             NaN  \n",
       "2             NaN  \n",
       "3        2,601.50  "
      ]
     },
     "execution_count": 8,
     "metadata": {},
     "output_type": "execute_result"
    }
   ],
   "source": [
    "filename = '137964189.pdf'\n",
    "df = read_pdf(filename, pages=[106])\n",
    "df[:4]"
   ]
  },
  {
   "cell_type": "code",
   "execution_count": null,
   "metadata": {},
   "outputs": [],
   "source": [
    "import io\n",
    " \n",
    "from pdfminer.converter import TextConverter\n",
    "from pdfminer.pdfinterp import PDFPageInterpreter\n",
    "from pdfminer.pdfinterp import PDFResourceManager\n",
    "from pdfminer.pdfpage import PDFPage\n",
    " \n",
    "def extract_text_from_pdf(pdf_path):\n",
    "    resource_manager = PDFResourceManager()\n",
    "    fake_file_handle = io.StringIO()\n",
    "    converter = TextConverter(resource_manager, fake_file_handle)\n",
    "    page_interpreter = PDFPageInterpreter(resource_manager, converter)\n",
    " \n",
    "    with open(pdf_path, 'rb') as fh:\n",
    "        for page in PDFPage.get_pages(fh, \n",
    "                                      caching=True,\n",
    "                                      check_extractable=True):\n",
    "            page_interpreter.process_page(page)\n",
    " \n",
    "        text = fake_file_handle.getvalue()\n",
    " \n",
    "    # close open handles\n",
    "    converter.close()\n",
    "    fake_file_handle.close()\n",
    " \n",
    "    if text:\n",
    "        return text\n",
    "\n",
    "from pdfminer.pdfparser import PDFParser\n",
    "from pdfminer.pdfdocument import PDFDocument\n",
    "\n",
    "# Open a PDF document.\n",
    "fp = open(filename, 'rb')\n",
    "parser = PDFParser(fp)\n",
    "document = PDFDocument(parser)\n",
    "\n",
    "# Get the outlines of the document.\n",
    "outlines = document.get_outlines()\n",
    "for (level,title,dest,a,se) in outlines:\n",
    "    print (level, title)\n",
    "    \n",
    "    \n",
    "# if __name__ == '__main__':\n",
    "#     print(extract_text_from_pdf(filename))"
   ]
  },
  {
   "cell_type": "code",
   "execution_count": 7,
   "metadata": {},
   "outputs": [],
   "source": [
    "!pdf2txt.py -o ValueResearchFundcard.xml ValueResearchFundcard.pdf"
   ]
  },
  {
   "cell_type": "code",
   "execution_count": null,
   "metadata": {},
   "outputs": [],
   "source": [
    "import PyPDF2\n",
    "pdfFileObj = open(filename, 'rb')\n",
    "pdfReader = PyPDF2.PdfFileReader(pdfFileObj)\n",
    "page=pdfReader.numPages\n",
    "print(page)\n",
    "file = open('xx.txt', \"w\", encoding='UTF-8')\n",
    "for i in [1]:\n",
    "    pageObj = pdfReader.getPage(i)\n",
    "    convert=pageObj.extractText()\n",
    "    print(convert)\n",
    "    file.write(convert)\n",
    "file.close()\n",
    "pdfFileObj.close()"
   ]
  },
  {
   "cell_type": "code",
   "execution_count": 22,
   "metadata": {},
   "outputs": [],
   "source": [
    "# https://github.com/HazyResearch/pdftotree\n",
    "import pdftotree\n",
    "\n",
    "pdftotree.parse(filename, html_path=None, model_type=None, model_path=None, favor_figures=True, visualize=False)"
   ]
  },
  {
   "cell_type": "code",
   "execution_count": 24,
   "metadata": {},
   "outputs": [
    {
     "data": {
      "text/plain": [
       "[<PIL.PngImagePlugin.PngImageFile image mode=RGB size=850x1171 at 0x265578D8DD8>]"
      ]
     },
     "execution_count": 24,
     "metadata": {},
     "output_type": "execute_result"
    }
   ],
   "source": [
    "# https://github.com/Belval/pdf2image\n",
    "# https://stackoverflow.com/questions/46184239/python-extract-a-page-from-a-pdf-as-a-jpeg\n",
    "from pdf2image import convert_from_path, convert_from_bytes\n",
    "import os\n",
    "filename = 'test/20037370.pdf'\n",
    "page = 4\n",
    "convert_from_path(filename, dpi=150, output_folder='outputs/', first_page=page, last_page=page, fmt='png')"
   ]
  },
  {
   "cell_type": "code",
   "execution_count": 25,
   "metadata": {},
   "outputs": [
    {
     "data": {
      "text/plain": [
       "0"
      ]
     },
     "execution_count": 25,
     "metadata": {},
     "output_type": "execute_result"
    }
   ],
   "source": [
    "image_path = 'outputs/7c013cdc-1cf4-4bff-abcd-12360b166927-4.png'\n",
    "os.system('tesseract --oem 1 -l eng --psm 6 %s %s pdf' % (image_path, filename))"
   ]
  },
  {
   "cell_type": "code",
   "execution_count": 18,
   "metadata": {},
   "outputs": [],
   "source": [
    "# !pdfimages -f 1 -l 3 -png 137964189.pdf -list"
   ]
  },
  {
   "cell_type": "code",
   "execution_count": 16,
   "metadata": {},
   "outputs": [
    {
     "name": "stderr",
     "output_type": "stream",
     "text": [
      "Syntax Error: No display font for 'ArialUnicode'\n"
     ]
    }
   ],
   "source": [
    "!pdftoppm -f 14 -l 16 -png test/605988.pdf outputs/ds"
   ]
  },
  {
   "cell_type": "code",
   "execution_count": 1,
   "metadata": {},
   "outputs": [],
   "source": [
    "table_pages = [(31, 0.938, 'is', True, False), (37, 0.479, 'cf', False, False), (51, 0.371, 'bs', False, False), (52, 0.436, 'bs', False, False), (53, 0.415, 'bs', False, False), (54, 0.852, 'cf', False, False), (55, 0.337, 'bs', False, False), (56, 0.459, 'bs', False, False), (57, 0.567, 'bs', True, False), (58, 0.978, 'cf', False, False), (60, 0.541, 'is', False, False), (74, 0.704, 'cf', False, False), (78, 0.378, 'cf', False, False), (79, 0.417, 'bs', False, False), (86, 0.627, 'is', True, False), (106, 0.992, 'bs', False, False), (107, 0.994, 'is', False, False), (108, 0.553, 'cf', False, False), (109, 0.986, 'cf', False, False), (110, 0.369, 'is', False, False), (114, 0.885, 'cf', False, True), (115, 0.39, 'cf', False, True), (132, 0.497, 'cf', False, True), (133, 0.97, 'bs', False, True), (134, 0.331, 'bs', False, True), (135, 0.825, 'cf', False, True), (136, 0.625, 'cf', False, True), (137, 0.63, 'cf', False, True), (141, 0.956, 'bs', False, True), (144, 0.932, 'is', False, True), (152, 0.352, 'bs', False, True), (155, 0.428, 'bs', False, True), (157, 0.893, 'cf', False, True), (165, 0.499, 'bs', False, True), (166, 0.641, 'cf', False, True), (169, 0.831, 'cf', False, True), (174, 0.988, 'bs', True, False), (175, 0.982, 'is', True, False), (176, 0.422, 'cf', True, False), (177, 0.985, 'cf', True, False), (178, 0.383, 'is', True, False), (183, 0.886, 'cf', False, False), (195, 0.294, 'bs', True, True), (197, 0.341, 'bs', True, True), (200, 0.553, 'cf', True, True), (201, 0.709, 'bs', True, True), (202, 0.71, 'bs', True, True), (203, 0.933, 'bs', True, True), (204, 0.893, 'cf', True, True), (205, 0.612, 'cf', True, True), (206, 0.803, 'cf', True, True), (207, 0.413, 'cf', True, True), (208, 0.33, 'bs', True, True), (210, 0.695, 'bs', True, True), (213, 0.933, 'is', True, True), (214, 0.885, 'is', True, True), (220, 0.366, 'is', True, True), (221, 0.453, 'bs', True, True), (228, 0.887, 'cf', True, True), (229, 0.732, 'cf', True, True), (237, 0.611, 'cf', True, True), (238, 0.625, 'cf', True, True), (241, 0.854, 'cf', True, True), (242, 0.456, 'cf', True, True), (244, 0.496, 'bs', True, True), (245, 0.575, 'is', True, True), (246, 0.457, 'bs', True, True), (247, 0.462, 'bs', True, True), (251, 0.422, 'is', True, False)]"
   ]
  },
  {
   "cell_type": "code",
   "execution_count": 2,
   "metadata": {},
   "outputs": [],
   "source": [
    "import pandas as pd"
   ]
  },
  {
   "cell_type": "code",
   "execution_count": 18,
   "metadata": {},
   "outputs": [
    {
     "data": {
      "text/html": [
       "<div>\n",
       "<style scoped>\n",
       "    .dataframe tbody tr th:only-of-type {\n",
       "        vertical-align: middle;\n",
       "    }\n",
       "\n",
       "    .dataframe tbody tr th {\n",
       "        vertical-align: top;\n",
       "    }\n",
       "\n",
       "    .dataframe thead th {\n",
       "        text-align: right;\n",
       "    }\n",
       "</style>\n",
       "<table border=\"1\" class=\"dataframe\">\n",
       "  <thead>\n",
       "    <tr style=\"text-align: right;\">\n",
       "      <th></th>\n",
       "      <th>page</th>\n",
       "      <th>prob</th>\n",
       "      <th>type</th>\n",
       "      <th>consolidated</th>\n",
       "      <th>is_note</th>\n",
       "    </tr>\n",
       "  </thead>\n",
       "  <tbody>\n",
       "    <tr>\n",
       "      <th>16</th>\n",
       "      <td>107</td>\n",
       "      <td>0.994</td>\n",
       "      <td>Income statement</td>\n",
       "      <td>False</td>\n",
       "      <td>False</td>\n",
       "    </tr>\n",
       "    <tr>\n",
       "      <th>37</th>\n",
       "      <td>175</td>\n",
       "      <td>0.982</td>\n",
       "      <td>Income statement</td>\n",
       "      <td>True</td>\n",
       "      <td>False</td>\n",
       "    </tr>\n",
       "    <tr>\n",
       "      <th>0</th>\n",
       "      <td>31</td>\n",
       "      <td>0.938</td>\n",
       "      <td>Income statement</td>\n",
       "      <td>True</td>\n",
       "      <td>False</td>\n",
       "    </tr>\n",
       "    <tr>\n",
       "      <th>54</th>\n",
       "      <td>213</td>\n",
       "      <td>0.933</td>\n",
       "      <td>Income statement</td>\n",
       "      <td>True</td>\n",
       "      <td>True</td>\n",
       "    </tr>\n",
       "    <tr>\n",
       "      <th>29</th>\n",
       "      <td>144</td>\n",
       "      <td>0.932</td>\n",
       "      <td>Income statement</td>\n",
       "      <td>False</td>\n",
       "      <td>True</td>\n",
       "    </tr>\n",
       "    <tr>\n",
       "      <th>18</th>\n",
       "      <td>109</td>\n",
       "      <td>0.986</td>\n",
       "      <td>Cashflow statement</td>\n",
       "      <td>False</td>\n",
       "      <td>False</td>\n",
       "    </tr>\n",
       "    <tr>\n",
       "      <th>39</th>\n",
       "      <td>177</td>\n",
       "      <td>0.985</td>\n",
       "      <td>Cashflow statement</td>\n",
       "      <td>True</td>\n",
       "      <td>False</td>\n",
       "    </tr>\n",
       "    <tr>\n",
       "      <th>9</th>\n",
       "      <td>58</td>\n",
       "      <td>0.978</td>\n",
       "      <td>Cashflow statement</td>\n",
       "      <td>False</td>\n",
       "      <td>False</td>\n",
       "    </tr>\n",
       "    <tr>\n",
       "      <th>15</th>\n",
       "      <td>106</td>\n",
       "      <td>0.992</td>\n",
       "      <td>Balance statement</td>\n",
       "      <td>False</td>\n",
       "      <td>False</td>\n",
       "    </tr>\n",
       "    <tr>\n",
       "      <th>36</th>\n",
       "      <td>174</td>\n",
       "      <td>0.988</td>\n",
       "      <td>Balance statement</td>\n",
       "      <td>True</td>\n",
       "      <td>False</td>\n",
       "    </tr>\n",
       "    <tr>\n",
       "      <th>23</th>\n",
       "      <td>133</td>\n",
       "      <td>0.970</td>\n",
       "      <td>Balance statement</td>\n",
       "      <td>False</td>\n",
       "      <td>True</td>\n",
       "    </tr>\n",
       "    <tr>\n",
       "      <th>28</th>\n",
       "      <td>141</td>\n",
       "      <td>0.956</td>\n",
       "      <td>Balance statement</td>\n",
       "      <td>False</td>\n",
       "      <td>True</td>\n",
       "    </tr>\n",
       "    <tr>\n",
       "      <th>47</th>\n",
       "      <td>203</td>\n",
       "      <td>0.933</td>\n",
       "      <td>Balance statement</td>\n",
       "      <td>True</td>\n",
       "      <td>True</td>\n",
       "    </tr>\n",
       "  </tbody>\n",
       "</table>\n",
       "</div>"
      ],
      "text/plain": [
       "    page   prob                type  consolidated  is_note\n",
       "16   107  0.994    Income statement         False    False\n",
       "37   175  0.982    Income statement          True    False\n",
       "0     31  0.938    Income statement          True    False\n",
       "54   213  0.933    Income statement          True     True\n",
       "29   144  0.932    Income statement         False     True\n",
       "18   109  0.986  Cashflow statement         False    False\n",
       "39   177  0.985  Cashflow statement          True    False\n",
       "9     58  0.978  Cashflow statement         False    False\n",
       "15   106  0.992   Balance statement         False    False\n",
       "36   174  0.988   Balance statement          True    False\n",
       "23   133  0.970   Balance statement         False     True\n",
       "28   141  0.956   Balance statement         False     True\n",
       "47   203  0.933   Balance statement          True     True"
      ]
     },
     "execution_count": 18,
     "metadata": {},
     "output_type": "execute_result"
    }
   ],
   "source": [
    "df = pd.DataFrame(table_pages, columns=['page', 'prob', 'type', 'consolidated', 'is_note'])\n",
    "df = df[df.prob>0.9]\n",
    "df['type'] = df['type'].apply(lambda x: x.replace('is', 'Income statement').replace('bs', 'Balance statement').replace('cf', 'Cashflow statement'))\n",
    "df.sort_values(['type', 'prob', 'consolidated'], ascending=False).groupby('type').head(5)"
   ]
  },
  {
   "cell_type": "code",
   "execution_count": 21,
   "metadata": {},
   "outputs": [
    {
     "name": "stdout",
     "output_type": "stream",
     "text": [
      "Income statement\n",
      "Cashflow statement\n",
      "Balance statement\n",
      "Income statement\n",
      "Cashflow statement\n",
      "Balance statement\n",
      "Balance statement\n",
      "Income statement\n",
      "Balance statement\n",
      "Income statement\n",
      "Cashflow statement\n",
      "Balance statement\n",
      "Income statement\n"
     ]
    }
   ],
   "source": [
    "imp_tb_types = ['Income statement', 'Balance statement', 'Cashflow statement']\n",
    "for p_num, tb_type in df[['page', 'type']].values:\n",
    "#     print(p_num, tb_type)\n",
    "    if tb_type in imp_tb_types:\n",
    "        print(tb_type)"
   ]
  },
  {
   "cell_type": "code",
   "execution_count": null,
   "metadata": {},
   "outputs": [],
   "source": []
  },
  {
   "cell_type": "code",
   "execution_count": null,
   "metadata": {},
   "outputs": [],
   "source": []
  }
 ],
 "metadata": {
  "kernelspec": {
   "display_name": "Python 3",
   "language": "python",
   "name": "python3"
  },
  "language_info": {
   "codemirror_mode": {
    "name": "ipython",
    "version": 3
   },
   "file_extension": ".py",
   "mimetype": "text/x-python",
   "name": "python",
   "nbconvert_exporter": "python",
   "pygments_lexer": "ipython3",
   "version": "3.5.0"
  }
 },
 "nbformat": 4,
 "nbformat_minor": 2
}
