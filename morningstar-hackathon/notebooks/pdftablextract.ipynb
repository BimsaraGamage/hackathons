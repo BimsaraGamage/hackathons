{
 "cells": [
  {
   "cell_type": "markdown",
   "metadata": {},
   "source": [
    "# Data Mining OCR PDFs - Using *pdftabextract* to liberate tabular data from scanned documents\n",
    "\n",
    "This is an example on how to use *pdftabextract* for data mining in scanned and OCR-processed documents with rather complex tables and/or few \"optical features\" like column or row borders, which often make it impossible to use like tools like [Tabula](http://tabula.technology/).\n",
    "\n",
    "In this example, only a table from a single page will extracted for demonstration purposes. For a full example that covers several pages, see the `catalog_30s.py` script. There are also some more demonstrations in the `examples` directory.\n",
    "\n",
    "The page that we will process looks like this:\n",
    "\n",
    "![PDF Excerpt p. 3](data/ALA1934_RR-excerpt.pdf-3_1.png)\n",
    "\n",
    "The page has been scanned and processed with Optical Character Recognition (OCR) software like *ABBYY FineReader* or *tesseract* and produced a \"sandwich\" PDF with the scanned document image and the recognized text boxes. Although some software, like FineReader allows to extract tables, this often fails and some more effort in order to liberate the data is necessary. We can use *pdftabextract* together with some other other tools for this.\n",
    "\n",
    "We will use a combination of the following tools in order to reach our goal:\n",
    "\n",
    "* the `pdftohtml` command from *poppler-utils* to extract the texts and scanned images from the PDF\n",
    "* *pdf2xml-viewer* to inspect the text boxes and the generated table grid (more on that later)\n",
    "* `pdftabextract` to write a script that estimates the positions of columns and rows, generates a table grid and fits the text boxes into this grid in order to extract the tabular data\n",
    "\n",
    "The following steps will be performed and described in detail:\n",
    "\n",
    "1. Extract the scanned page images and generate an XML with the OCR texts of the PDF with `pdftohtml`\n",
    "2. View the text boxes and scanned pages with *pdf2xml-viewer*\n",
    "3. Load the XML describing the pages and text boxes\n",
    "4. Detect straight lines in the scanned pages, find out a possible page skew or rotation and fix it\n",
    "5. Detect clusters of vertical lines for identifying the columns of a table\n",
    "6. Find out the row positions of the table by analyzing the y-coordinates' distribution of text boxes\n",
    "7. Create a grid of columns and lines\n",
    "8. Match the text boxes into the grid and hence extract the tabular data in order to export it as Excel and CSV file"
   ]
  },
  {
   "cell_type": "markdown",
   "metadata": {},
   "source": [
    "## 1. Extract the scanned page images and generate an XML with the OCR texts of the PDF with `pdftohtml`\n",
    "\n",
    "The tool `pdftohtml` is part of the software package *[poppler-utils](https://poppler.freedesktop.org/)*. It's available on most Linux distributions and also for OSX via Homebrew or MacPorts. Using the argument `-xml`, it will generate an XML file in *pdf2xml* format with from a sandwich PDF:"
   ]
  },
  {
   "cell_type": "code",
   "execution_count": 43,
   "metadata": {},
   "outputs": [],
   "source": [
    "# tesseract ex1.png - > output1.txt --oem 1 -l eng --psm 6"
   ]
  },
  {
   "cell_type": "markdown",
   "metadata": {},
   "source": [
    "## Find PDF type"
   ]
  },
  {
   "cell_type": "code",
   "execution_count": 71,
   "metadata": {},
   "outputs": [],
   "source": [
    "import PyPDF2"
   ]
  },
  {
   "cell_type": "code",
   "execution_count": 135,
   "metadata": {},
   "outputs": [
    {
     "name": "stdout",
     "output_type": "stream",
     "text": [
      "#####Fonts#####\n",
      "name                                 type              encoding         emb sub uni object ID\n",
      "------------------------------------ ----------------- ---------------- --- --- --- ---------\n",
      "Arial-BoldMT                         TrueType          Custom           no  no  yes     19  0\n",
      "ArialMT                              TrueType          Custom           no  no  yes     24  0\n",
      "TimesNewRomanPSMT                    TrueType          Custom           no  no  yes     29  0\n",
      "ArialMT                              TrueType          Custom           no  no  yes     41  0\n",
      "Arial-ItalicMT                       TrueType          Custom           no  no  yes     46  0\n",
      "ArialMT                              TrueType          Custom           no  no  yes     57  0\n",
      "TimesNewRomanPSMT                    TrueType          Custom           no  no  yes     62  0\n",
      "TimesNewRomanPS-ItalicMT             TrueType          Custom           no  no  yes     67  0\n",
      "Arial-ItalicMT                       TrueType          Custom           no  no  yes     72  0\n",
      "Arial-BoldMT                         TrueType          Custom           no  no  yes     77  0\n",
      "TimesNewRomanPSMT                    TrueType          Custom           no  no  yes     88  0\n",
      "ArialMT                              TrueType          Custom           no  no  yes     93  0\n",
      "TimesNewRomanPSMT                    TrueType          Custom           no  no  yes    103  0\n",
      "ArialMT                              TrueType          Custom           no  no  yes    108  0\n",
      "TimesNewRomanPS-BoldMT               TrueType          Custom           no  no  yes    113  0\n",
      "ArialMT                              TrueType          Custom           no  no  yes    123  0\n",
      "Arial-BoldMT                         TrueType          Custom           no  no  yes    128  0\n",
      "TimesNewRomanPSMT                    TrueType          Custom           no  no  yes    133  0\n",
      "Arial-ItalicMT                       TrueType          Custom           no  no  yes    138  0\n",
      "TimesNewRomanPS-BoldMT               TrueType          Custom           no  no  yes    143  0\n",
      "Arial-BoldMT                         TrueType          Custom           no  no  yes    155  0\n",
      "TimesNewRomanPS-BoldMT               TrueType          Custom           no  no  yes    160  0\n",
      "ArialMT                              TrueType          Custom           no  no  yes    165  0\n",
      "TimesNewRomanPSMT                    TrueType          Custom           no  no  yes    170  0\n",
      "CourierNewPSMT                       TrueType          Custom           no  no  yes    180  0\n",
      "TimesNewRomanPSMT                    TrueType          Custom           no  no  yes    185  0\n",
      "TimesNewRomanPS-BoldMT               TrueType          Custom           no  no  yes    190  0\n",
      "TimesNewRomanPSMT                    TrueType          Custom           no  no  yes    200  0\n",
      "ArialMT                              TrueType          Custom           no  no  yes    205  0\n",
      "Arial-BoldMT                         TrueType          Custom           no  no  yes    215  0\n",
      "ArialMT                              TrueType          Custom           no  no  yes    220  0\n",
      "TimesNewRomanPSMT                    TrueType          Custom           no  no  yes    225  0\n",
      "\n",
      "No. of fonts: 32\n"
     ]
    },
    {
     "data": {
      "text/plain": [
       "32"
      ]
     },
     "execution_count": 135,
     "metadata": {},
     "output_type": "execute_result"
    }
   ],
   "source": [
    "file_path = '../../Samples/Image/128314759.pdf' # image\n",
    "file_path = '../../Samples/Non-Image/173325983.pdf' #sandwich\n",
    "# file_path = '../../Samples/Non-Image/137964189.pdf' #normal\n",
    "# file_path = '../../Samples/Image/138878644.pdf' # image\n",
    "\n",
    "output_dir = 'outputs'\n",
    "def get_font_count_in_pdf(file_path, output_dir):\n",
    "    filename = os.path.basename(file_path).split('.')[0]\n",
    "    cmd_out = os.popen('pdffonts -f 1 -l 10 %s'%file_path).read()\n",
    "    txt_file_path = '%s/%s-fonts.txt'%(output_dir, filename)\n",
    "    print('#####Fonts#####\\n%s'%cmd_out)\n",
    "    with open(txt_file_path, \"w\", encoding='UTF-8') as f:\n",
    "        f.write(cmd_out)\n",
    "\n",
    "    with open(txt_file_path, \"r\", encoding='UTF-8') as f:\n",
    "        font_count = len(f.readlines())-2\n",
    "        print('No. of fonts: %s'%font_count)\n",
    "        return font_count\n",
    "    \n",
    "get_font_count_in_pdf(file_path, output_dir)"
   ]
  },
  {
   "cell_type": "code",
   "execution_count": 184,
   "metadata": {},
   "outputs": [
    {
     "data": {
      "text/plain": [
       "0"
      ]
     },
     "execution_count": 184,
     "metadata": {},
     "output_type": "execute_result"
    }
   ],
   "source": [
    "file_path = '../../Samples/Image/128314759.pdf' # image\n",
    "file_path = '../../Samples/Non-Image/173325983.pdf' #sandwich\n",
    "file_path = '../../Samples/Non-Image/137964189.pdf' #normal\n",
    "# file_path = '../../Samples/Image/138878644.pdf' # image\n",
    "\n",
    "filename = os.path.basename(file_path).split('.')[0]\n",
    "p_num = 4\n",
    "os.system(\"cd data/ && pdftotext -f %s -l %s %s %s -layout\" % (p_num, p_num, '%s.pdf'%(filename), '%s-%s.txt'%(filename, p_num)))"
   ]
  },
  {
   "cell_type": "code",
   "execution_count": 180,
   "metadata": {},
   "outputs": [
    {
     "name": "stderr",
     "output_type": "stream",
     "text": [
      "PdfReadWarning: Xref table not zero-indexed. ID numbers for objects will be corrected. [pdf.py:1736]\n"
     ]
    },
    {
     "name": "stdout",
     "output_type": "stream",
     "text": [
      "255\n"
     ]
    },
    {
     "data": {
      "text/plain": [
       "'˜˚˛˝˙ˆˆˇ\\n\\nARVIND LIMITEDCIN: L17119GJ1931PLC000093\\n'"
      ]
     },
     "execution_count": 180,
     "metadata": {},
     "output_type": "execute_result"
    }
   ],
   "source": [
    "import PyPDF2\n",
    "\n",
    "file_path = '../../Samples/Image/128314759.pdf' # image\n",
    "file_path = '../../Samples/Non-Image/173325983.pdf' #sandwich\n",
    "file_path = '../../Samples/Non-Image/137964189.pdf' #normal\n",
    "# file_path = '../../Samples/Image/138878644.pdf' # image\n",
    "\n",
    "def get_page_texts2(p_num=2):\n",
    "    with open(file_path, 'rb') as f:\n",
    "        pdfReader = PyPDF2.PdfFileReader(f)\n",
    "        pages=pdfReader.numPages\n",
    "        print(pages)\n",
    "        page = min(p_num, pages)\n",
    "        return pdfReader.getPage(page).extractText()\n",
    "    \n",
    "get_page_texts2(0)"
   ]
  },
  {
   "cell_type": "code",
   "execution_count": 203,
   "metadata": {},
   "outputs": [
    {
     "data": {
      "text/plain": [
       "0"
      ]
     },
     "execution_count": 203,
     "metadata": {},
     "output_type": "execute_result"
    }
   ],
   "source": [
    "file_path = '../../Samples/Image/128314759.pdf' # image\n",
    "file_path = '../../Samples/Non-Image/173325983.pdf' #sandwich\n",
    "# file_path = '../../Samples/Non-Image/137964189.pdf' #normal\n",
    "# file_path = '../../Samples/Image/138878644.pdf' # image\n",
    "\n",
    "filename = os.path.basename(file_path).split('.')[0]\n",
    "\n",
    "# os.system(\"cd data/ && pdftohtml -c -hidden -xml -f %s -l %s %s.pdf xxxx/%s.xml\"%(p_num, p_num, filename, filename))\n",
    "os.system(\"cd data/ && pdftohtml -c -hidden -xml %s.pdf xxxx/%s.xml\"%(filename, filename))"
   ]
  },
  {
   "cell_type": "code",
   "execution_count": 309,
   "metadata": {},
   "outputs": [
    {
     "name": "stdout",
     "output_type": "stream",
     "text": [
      "[[['data/xxxx\\\\128314759-10_1.png']], [['data/xxxx\\\\128314759-11_1.png']], [['data/xxxx\\\\128314759-12_1.png']], [['data/xxxx\\\\128314759-13_1.png']], [['data/xxxx\\\\128314759-14_1.png']], [['data/xxxx\\\\128314759-15_1.png']], [['data/xxxx\\\\128314759-16_1.png']], [['data/xxxx\\\\128314759-17_1.png']]]\n",
      "8\n",
      "data/xxxx\\128314759-10_1.pngdata/xxxx\\128314759-11_1.pngdata/xxxx\\128314759-12_1.png\n",
      "data/xxxx\\128314759-13_1.pngdata/xxxx\\128314759-14_1.pngdata/xxxx\\128314759-15_1.png\n",
      "\n",
      "\n",
      "data/xxxx\\128314759-16_1.pngdata/xxxx\\128314759-17_1.png\n",
      "\n",
      "\n",
      "\n",
      "Done\n"
     ]
    }
   ],
   "source": [
    "import glob\n",
    "from multiprocessing.dummy import Pool\n",
    "\n",
    "def image_to_pdf_or_text(image_paths):\n",
    "    for image_path in image_paths:\n",
    "        print(image_path)\n",
    "        filename = image_path.split('.')[0]\n",
    "#         if to_text:\n",
    "#             os.system('tesseract --oem 1 -l eng --psm 6 %s %s'%(image_path, filename)) \n",
    "#         if to_pdf:\n",
    "        os.system('tesseract --oem 1 -l eng --psm 6 %s %s pdf'%(image_path, filename)) \n",
    "    return 0\n",
    "        \n",
    "def multi_run_wrapper(args):\n",
    "    return image_to_pdf_or_text(*args)\n",
    "\n",
    "paths = glob.glob('data/xxxx/*.png')[:8]\n",
    "\n",
    "def divide_range(seq, num):\n",
    "    avg = len(seq) / float(num)\n",
    "    out = list()\n",
    "    last = 0.0\n",
    "    while last < len(seq):\n",
    "        out.append( [ int(last) , int(last + avg) ] )\n",
    "        last += avg\n",
    "    return out\n",
    "\n",
    "pool_size = 8\n",
    "pool = Pool(pool_size)\n",
    "arg_data = list()\n",
    "for n in divide_range(range(len(paths)), pool_size):\n",
    "    final_list = paths[n[0]:n[1]]\n",
    "    arg_data.append([final_list])\n",
    "    \n",
    "print (arg_data)\n",
    "print (len(arg_data))\n",
    "response_data = pool.map(multi_run_wrapper, arg_data)\n",
    "pool.close()\n",
    "pool.join()  \n",
    "print('Done')"
   ]
  },
  {
   "cell_type": "code",
   "execution_count": null,
   "metadata": {},
   "outputs": [],
   "source": []
  },
  {
   "cell_type": "code",
   "execution_count": null,
   "metadata": {},
   "outputs": [],
   "source": []
  },
  {
   "cell_type": "code",
   "execution_count": null,
   "metadata": {},
   "outputs": [],
   "source": []
  },
  {
   "cell_type": "markdown",
   "metadata": {},
   "source": [
    "# Starts here"
   ]
  },
  {
   "cell_type": "code",
   "execution_count": 311,
   "metadata": {},
   "outputs": [
    {
     "data": {
      "text/plain": [
       "0"
      ]
     },
     "execution_count": 311,
     "metadata": {},
     "output_type": "execute_result"
    }
   ],
   "source": [
    "import os\n",
    "filename = '128314759' #image #19\n",
    "filename = '137964189' #normal #104\n",
    "filename = '173325983' #sandwich #11\n",
    "filename = 'bs-106'\n",
    "p_num = p_num_original = 1\n",
    "os.system(\"cd data/ && pdftohtml -c -hidden -xml -f %s -l %s %s.pdf %s.xml \"%(p_num, p_num, filename, filename))\n",
    "# os.system(\"cd data/ && pdftohtml -c -hidden -xml %s.pdf %s.pdf.xml\"%(filename, filename))"
   ]
  },
  {
   "cell_type": "code",
   "execution_count": 312,
   "metadata": {},
   "outputs": [],
   "source": [
    "# !cd data/ && pdftohtml -c -hidden -xml 137964189.pdf 137964189.xml"
   ]
  },
  {
   "cell_type": "code",
   "execution_count": 313,
   "metadata": {},
   "outputs": [
    {
     "data": {
      "text/plain": [
       "{'bottom': 58.0,\n",
       " 'bottomleft': array([54., 58.]),\n",
       " 'bottomright': array([228.,  58.]),\n",
       " 'height': 26,\n",
       " 'left': 54.0,\n",
       " 'right': 228.0,\n",
       " 'top': 32.0,\n",
       " 'topleft': array([54., 32.]),\n",
       " 'topright': array([228.,  32.]),\n",
       " 'value': 'ARVIND LIMITED',\n",
       " 'width': 174,\n",
       " 'xmlnode': <Element 'text' at 0x000001A2CA34C638>}"
      ]
     },
     "execution_count": 313,
     "metadata": {},
     "output_type": "execute_result"
    }
   ],
   "source": [
    "DATAPATH = 'data/'\n",
    "OUTPUTPATH = 'generated_output/'\n",
    "INPUT_XML = '%s.xml'%filename\n",
    "import os\n",
    "from pdftabextract.common import read_xml, parse_pages\n",
    "\n",
    "# Load the XML that was generated with pdftohtml\n",
    "xmltree, xmlroot = read_xml(os.path.join(DATAPATH, INPUT_XML))\n",
    "\n",
    "# parse it and generate a dict of pages\n",
    "pages = parse_pages(xmlroot)\n",
    "pages[p_num]['texts'][0]"
   ]
  },
  {
   "cell_type": "code",
   "execution_count": 314,
   "metadata": {},
   "outputs": [],
   "source": [
    "# os.system(\"cd data/ && head -n 10 %s.xml\"%filename)"
   ]
  },
  {
   "cell_type": "markdown",
   "metadata": {},
   "source": [
    "### Image to sandwich"
   ]
  },
  {
   "cell_type": "code",
   "execution_count": 315,
   "metadata": {},
   "outputs": [],
   "source": [
    "# image_name = '%s-%s_1.png'%(filename, p_num)\n",
    "# v = os.system('cd data/ && tesseract --oem 1 -l eng --psm 6 %s %s pdf'%(image_name, image_name))\n",
    "# v"
   ]
  },
  {
   "cell_type": "markdown",
   "metadata": {},
   "source": [
    "### XML of sandwich"
   ]
  },
  {
   "cell_type": "code",
   "execution_count": 316,
   "metadata": {},
   "outputs": [],
   "source": [
    "# os.system(\"cd data/ && pdftohtml -c -hidden -xml %s.pdf %s.xml\"%(image_name, filename))"
   ]
  },
  {
   "cell_type": "code",
   "execution_count": 317,
   "metadata": {
    "scrolled": true
   },
   "outputs": [
    {
     "name": "stdout",
     "output_type": "stream",
     "text": [
      "128314759.pdf\n",
      "137964189.pdf\n",
      "173325983.pdf\n",
      "bs-106-1.html\n",
      "bs-106-1_1.png\n",
      "bs-106.pdf\n",
      "bs-106.pdf-1_1.png\n",
      "bs-106.pdf.xml\n",
      "bs-106.xml\n",
      "xxxx\n"
     ]
    }
   ],
   "source": [
    "!ls -1 data/"
   ]
  },
  {
   "cell_type": "code",
   "execution_count": 318,
   "metadata": {},
   "outputs": [
    {
     "data": {
      "text/plain": [
       "0"
      ]
     },
     "execution_count": 318,
     "metadata": {},
     "output_type": "execute_result"
    }
   ],
   "source": [
    "os.system(\"cd data/ && head -n 30 %s.xml\"%filename)"
   ]
  },
  {
   "cell_type": "markdown",
   "metadata": {},
   "source": [
    "We generated an XML which consists of several `<page>` elements, containing an `<image>` (the \"background\" image, i.e. the scanned page) and several text boxes (`<text>`) with coordinates and the respective text box value. The images themselves have also been extracted from the PDF."
   ]
  },
  {
   "cell_type": "markdown",
   "metadata": {},
   "source": [
    "## 2. View the text boxes and scanned pages with *pdf2xml-viewer*\n",
    "\n",
    "You can download the [pdf2xml-viewer from its github page](https://github.com/WZBSocialScienceCenter/pdf2xml-viewer). It basically consists of an HTML page that allows you to inspect an XML file in pdf2xml format in your browser. A copy of it resides also in the directory of this example.\n",
    "\n",
    "Change to the directory where pdf2xml-viewer resides (where its *index.html* or *pdf2xml-viewer.html* file is). You should also copy the extracted XML file and images to this location. Now let's start up a minimal local webserver. This can be done very easily with Python:\n",
    "\n",
    "With Python 2.x: `python -m SimpleHTTPServer 8080`\n",
    "\n",
    "Or with Python 3: `python3 -m http.server 8080 --bind 127.0.0.1`\n",
    "\n",
    "Now you open your browser and go to the address http://127.0.0.1:8080. The viewer shows up and you can now enter the\n",
    "file name of your file to load (it must be relative to the directory in which pdf2xml-viewer resides)."
   ]
  },
  {
   "cell_type": "code",
   "execution_count": 64,
   "metadata": {
    "scrolled": true
   },
   "outputs": [],
   "source": [
    "# !python3 -m http.server 8080 --bind 127.0.0.1"
   ]
  },
  {
   "cell_type": "markdown",
   "metadata": {},
   "source": [
    "When you execute the above line you can start up pdf2xml-viewer by visiting http://127.0.0.1:8080/pdf2xml-viewer.html. **However, please note that this will prevent further code execution in this Notebook as long as the minimal webserver is running.** So it's generally a better idea to execute this in a separate Terminal window."
   ]
  },
  {
   "cell_type": "markdown",
   "metadata": {},
   "source": [
    "In pdf2xml-viewer you will now be able to browse through the pages. In the background, you can see the scanned image page and on top of that are the text boxes that were detected during OCR:\n",
    "\n",
    "![pdf2xml-viewer p.3 displayed](nb_images/pdf2xml-viewer-page.png)"
   ]
  },
  {
   "cell_type": "markdown",
   "metadata": {},
   "source": [
    "## 3. Load the XML describing the pages and text boxes\n",
    "\n",
    "We can now start to use `pdftabextract` in Python code in order to load the XML file. By now, you should have installed pdftabextract via *pip* in the Terminal with the command `pip install pdftabextract`.\n",
    "\n",
    "Let's define some constants first that we will need throughout the script."
   ]
  },
  {
   "cell_type": "code",
   "execution_count": 319,
   "metadata": {
    "collapsed": true
   },
   "outputs": [],
   "source": [
    "DATAPATH = 'data/'\n",
    "OUTPUTPATH = 'generated_output/'\n",
    "INPUT_XML = '%s.xml'%filename"
   ]
  },
  {
   "cell_type": "markdown",
   "metadata": {},
   "source": [
    "Now we can load the the XML, parse it and have a look at the third page (the page from which we later want to extract the data)."
   ]
  },
  {
   "cell_type": "code",
   "execution_count": 320,
   "metadata": {
    "collapsed": true
   },
   "outputs": [],
   "source": [
    "import os\n",
    "from pdftabextract.common import read_xml, parse_pages\n",
    "\n",
    "# Load the XML that was generated with pdftohtml\n",
    "xmltree, xmlroot = read_xml(os.path.join(DATAPATH, INPUT_XML))\n",
    "\n",
    "# parse it and generate a dict of pages\n",
    "pages = parse_pages(xmlroot)"
   ]
  },
  {
   "cell_type": "code",
   "execution_count": 321,
   "metadata": {},
   "outputs": [
    {
     "name": "stdout",
     "output_type": "stream",
     "text": [
      "dict_keys(['xmlnode', 'width', 'height', 'number', 'texts', 'image'])\n",
      "bs-106-1_1.png\n"
     ]
    },
    {
     "data": {
      "text/plain": [
       "{'bottom': 58.0,\n",
       " 'bottomleft': array([54., 58.]),\n",
       " 'bottomright': array([228.,  58.]),\n",
       " 'height': 26,\n",
       " 'left': 54.0,\n",
       " 'right': 228.0,\n",
       " 'top': 32.0,\n",
       " 'topleft': array([54., 32.]),\n",
       " 'topright': array([228.,  32.]),\n",
       " 'value': 'ARVIND LIMITED',\n",
       " 'width': 174,\n",
       " 'xmlnode': <Element 'text' at 0x000001A2CA8176D8>}"
      ]
     },
     "execution_count": 321,
     "metadata": {},
     "output_type": "execute_result"
    }
   ],
   "source": [
    "try:\n",
    "    p_num = 1\n",
    "    p = pages[p_num]\n",
    "except:\n",
    "    print('Failed with page no. 1')\n",
    "    p_num = p_num_original\n",
    "    p = pages[p_num]\n",
    "\n",
    "print(p.keys())\n",
    "print(p['image'])\n",
    "p['texts'][0]"
   ]
  },
  {
   "cell_type": "markdown",
   "metadata": {},
   "source": [
    "Each page consists of an *xmlnode* which points to the original XML page element, a page number, the page dimensions, an image (the scanned page) and the text boxes:"
   ]
  },
  {
   "cell_type": "code",
   "execution_count": 322,
   "metadata": {},
   "outputs": [],
   "source": [
    "from pprint import pprint\n",
    "\n",
    "# print (pages[p_num])\n",
    "# print('number', p['number'])\n",
    "# print('width', p['width'])\n",
    "# print('height', p['height'])\n",
    "# print('image', p['image'])\n",
    "# print('the first three text boxes:')\n",
    "# print(p['texts'])"
   ]
  },
  {
   "cell_type": "markdown",
   "metadata": {},
   "source": [
    "The text boxes in `p['texts']` contain the coordinates and dimensions of each text box as well as the content (`value`) and a reference to the original XML node."
   ]
  },
  {
   "cell_type": "markdown",
   "metadata": {},
   "source": [
    "## 4. Detect straight lines in the scanned pages, find out a possible page skew or rotation and fix it\n",
    "\n",
    "We can see on the scanned page image, that columns and table headers are marked with straight lines. We can detect these in order to a) find out if and how much the page is skewed or rotated and b) later use the detected vertical lines to estimate the position of the columns in the table.\n",
    "\n",
    "In order to do so, we can use the image processing module (`pdftabextract.imgproc`) which uses [OpenCV's Hough transform](http://docs.opencv.org/2.4/doc/tutorials/imgproc/imgtrans/hough_lines/hough_lines.html) to detect the lines."
   ]
  },
  {
   "cell_type": "code",
   "execution_count": 323,
   "metadata": {},
   "outputs": [
    {
     "name": "stdout",
     "output_type": "stream",
     "text": [
      "page 1: detecting lines in image file 'data/bs-106-1_1.png'...\n",
      "> found 1066 lines\n"
     ]
    }
   ],
   "source": [
    "import numpy as np\n",
    "from pdftabextract import imgproc\n",
    "\n",
    "# get the image file of the scanned page\n",
    "try:\n",
    "    imgfilebasename = p['image'][:p['image'].rindex('.')]\n",
    "    imgfile = os.path.join(DATAPATH, p['image'])\n",
    "except:\n",
    "    print('Failed rindex')\n",
    "    imgfilebasename = filename + str(p_num)\n",
    "    imgfile = image_name = '%s/%s-%s_1.png'%(DATAPATH, filename, p_num)\n",
    "\n",
    "print(\"page %d: detecting lines in image file '%s'...\" % (p_num, imgfile))\n",
    "\n",
    "# create an image processing object with the scanned page\n",
    "iproc_obj = imgproc.ImageProc(imgfile)\n",
    "\n",
    "# calculate the scaling of the image file in relation to the text boxes coordinate system dimensions\n",
    "page_scaling_x = iproc_obj.img_w / p['width']   # scaling in X-direction\n",
    "page_scaling_y = iproc_obj.img_h / p['height']  # scaling in Y-direction\n",
    "\n",
    "# detect the lines\n",
    "lines_hough = iproc_obj.detect_lines(canny_kernel_size=3, canny_low_thresh=50, canny_high_thresh=150,\n",
    "                                     hough_rho_res=1,\n",
    "                                     hough_theta_res=np.pi/500,\n",
    "                                     hough_votes_thresh=round(0.2 * iproc_obj.img_w))\n",
    "print(\"> found %d lines\" % len(lines_hough))\n"
   ]
  },
  {
   "cell_type": "markdown",
   "metadata": {},
   "source": [
    "The important thing is that we created an `ImageProc` instance using the scanned page image file that is referred to in the `image` key of the page `p`. ImageProc will identify the dimensions of the image file which allows us to calculate the scaling between the image dimensions and the text boxes' coordinate system. It is important to understand that the coordinate system in image space has a different scaling than the coordinate system used to position the text boxes. For example, the image could be scanned with a size of 1000x3000 pixels (`iproc_obj.img_w` by `iproc_obj.img_h`) while the text boxes of a page are positioned on a canvas of size 500x1500 units (`p['width']` by `p['height']`).\n",
    "\n",
    "Now the most crucial step is to detect the lines and use the right parameters for the image processing step. At first, our image will be converted into a binary image with white pixels marking the edges in the image (i.e. the regions with a big change in color intensity) and black pixels showing regions of homogenous color, i.e. low change in color intensity. To achieve this, the [Canny algorithm](http://opencv-python-tutroals.readthedocs.io/en/latest/py_tutorials/py_imgproc/py_canny/py_canny.html) is used. The kernel size is the size of the [Gaussian Filter](https://en.wikipedia.org/wiki/Canny_edge_detector#Gaussian_filter) used to smooth the image and remove pixel noise. The low and high thresholds are used for detecting \"strong\" and \"weak\" edge pixels during [Hysteresis Thresholding](https://en.wikipedia.org/wiki/Canny_edge_detector#Double_threshold).\n",
    "\n",
    "After this, the actual Hough transform is taking place. All white pixels (i.e. edge pixels) are transformed into \"Hough space\" which is a descrete approximation of a [polar coordinate system](https://en.wikipedia.org/wiki/Polar_coordinate_system) with *theta* being the polar angle and *rho* being the distance from the origin or \"pole\". This Hough space can be seen as a 2D map with *theta* being on the y-axis and *rho* on the x-axis. The map must have a certain resolution or size which is given by `hough_rho_res` and `hough_theta_res`. During Hough transform, each edge pixel *p* is then converted to polar coordinate space and *n = PI / `hough_theta_res`* lines (in the above example 500 lines) are simulated to pass through that pixel in *n* different degrees. This forms a sinusoid which will intersect with other sinusoids when other edge pixels are on the same straight line (because this pixels share the same angle or *theta* and distance or *rho* of this straight line). So for each edge pixel, a number of potential lines going through that pixel is simulated and then accumulated on the Hough space map, a process which is called *voting*. The more intersections appear on a certain spot in the Hough map the higher is the *vote*. All votes that are above a certain threshold here given by `hough_votes_thresh` are then considered being straight lines.\n",
    "\n",
    "So `hough_theta_res` defines the minimum line angle that can be detected (in our case: *PI/500 = 0.36°*) and `hough_rho_res` the minimum distance delta. `hough_votes_thresh` is the minimum number of intersections (and hence about the number of edge pixels on a straight line) in the Hough map for a straight line to be detected as such.\n",
    "\n",
    "We should now have a look at the detected lines in order to verify that we chose the right parameters. But at first, let's define a helper function for that because we will need it another time."
   ]
  },
  {
   "cell_type": "code",
   "execution_count": 324,
   "metadata": {},
   "outputs": [],
   "source": [
    "import cv2\n",
    "\n",
    "# helper function to save an image \n",
    "def save_image_w_lines(iproc_obj, imgfilebasename):\n",
    "    img_lines = iproc_obj.draw_lines(orig_img_as_background=True)\n",
    "    img_lines_file = os.path.join(OUTPUTPATH, '%s-lines-orig.png' % imgfilebasename)\n",
    "    \n",
    "    print(\"> saving image with detected lines to '%s'\" % img_lines_file)\n",
    "    cv2.imwrite(img_lines_file, img_lines)"
   ]
  },
  {
   "cell_type": "code",
   "execution_count": 325,
   "metadata": {},
   "outputs": [
    {
     "name": "stdout",
     "output_type": "stream",
     "text": [
      "> saving image with detected lines to 'generated_output/bs-106-1_1-lines-orig.png'\n"
     ]
    }
   ],
   "source": [
    "save_image_w_lines(iproc_obj, imgfilebasename)"
   ]
  },
  {
   "cell_type": "markdown",
   "metadata": {},
   "source": [
    "This is our image with the detected lines:\n",
    "\n",
    "![image after Hough transform](generated_output/ALA1934_RR-excerpt.pdf-3_1-lines-orig.png)"
   ]
  },
  {
   "cell_type": "markdown",
   "metadata": {},
   "source": [
    "We see that the horizontal lines (green) are not straight, whereas the vertical lines (red) are. This means that the page is skewed so that the text boxes in the left are slightly shifted down in relation to those on the right of the same row (this can also be seen in pdf2xml-viewer). In such a dense table, this would bring serious problems during row detection, so we will need to fix this. The method `find_rotation_or_skew` can be used for that."
   ]
  },
  {
   "cell_type": "code",
   "execution_count": 326,
   "metadata": {},
   "outputs": [
    {
     "name": "stdout",
     "output_type": "stream",
     "text": [
      "> no page rotation / skew found\n"
     ]
    }
   ],
   "source": [
    "from math import radians, degrees\n",
    "\n",
    "from pdftabextract.common import ROTATION, SKEW_X, SKEW_Y\n",
    "from pdftabextract.geom import pt\n",
    "from pdftabextract.textboxes import rotate_textboxes, deskew_textboxes\n",
    "\n",
    "# find rotation or skew\n",
    "# the parameters are:\n",
    "# 1. the minimum threshold in radians for a rotation to be counted as such\n",
    "# 2. the maximum threshold for the difference between horizontal and vertical line rotation (to detect skew)\n",
    "# 3. an optional threshold to filter out \"stray\" lines whose angle is too far apart from the median angle of\n",
    "#    all other lines that go in the same direction (no effect here)\n",
    "rot_or_skew_type, rot_or_skew_radians = iproc_obj.find_rotation_or_skew(radians(0.5),    # uses \"lines_hough\"\n",
    "                                                                        radians(1),\n",
    "                                                                        omit_on_rot_thresh=radians(0.5))\n",
    "\n",
    "# rotate back or deskew text boxes\n",
    "needs_fix = True\n",
    "if rot_or_skew_type == ROTATION:\n",
    "    print(\"> rotating back by %f°\" % -degrees(rot_or_skew_radians))\n",
    "    rotate_textboxes(p, -rot_or_skew_radians, pt(0, 0))\n",
    "elif rot_or_skew_type in (SKEW_X, SKEW_Y):\n",
    "    print(\"> deskewing in direction '%s' by %f°\" % (rot_or_skew_type, -degrees(rot_or_skew_radians)))\n",
    "    deskew_textboxes(p, -rot_or_skew_radians, rot_or_skew_type, pt(0, 0))\n",
    "else:\n",
    "    needs_fix = False\n",
    "    print(\"> no page rotation / skew found\")\n"
   ]
  },
  {
   "cell_type": "markdown",
   "metadata": {},
   "source": [
    "We can see that a skew in direction *sy* (meaning vertical direction) is detected. To fix this, `deskew_textboxes` is called with our page `p` as first parameter, then the negated skew (negated in order to \"skew back\"), the skew type (direction) and the origin point about which the deskewing is done (top left corner).\n",
    "\n",
    "We fixed the text boxes in the XML, but we should also fix the actual lines that were detected. This can be done with the method `apply_found_rotation_or_skew`. Additionally, we save the image with the repaired lines."
   ]
  },
  {
   "cell_type": "code",
   "execution_count": 327,
   "metadata": {},
   "outputs": [],
   "source": [
    "if needs_fix:\n",
    "    # rotate back or deskew detected lines\n",
    "    lines_hough = iproc_obj.apply_found_rotation_or_skew(rot_or_skew_type, -rot_or_skew_radians)\n",
    "\n",
    "    save_image_w_lines(iproc_obj, imgfilebasename + '-repaired')"
   ]
  },
  {
   "cell_type": "markdown",
   "metadata": {},
   "source": [
    "![image with repaired lines](generated_output/ALA1934_RR-excerpt.pdf-3_1-repaired-lines-orig.png)\n",
    "\n",
    "As we can see, only the horizontal lines are straightened. Please note that the deskewing is not applied to the original image because this is not necessary for our further processing and hence the repaired lines are now a bit off from the table borders in the original image.\n",
    "\n",
    "We should also save the corrected text boxes' XML so that we can inspect it in pdf2xml-viewer:"
   ]
  },
  {
   "cell_type": "code",
   "execution_count": 328,
   "metadata": {},
   "outputs": [
    {
     "name": "stdout",
     "output_type": "stream",
     "text": [
      "saving repaired XML file to 'generated_output/bs-106.repaired.xml'...\n"
     ]
    }
   ],
   "source": [
    "# save repaired XML (i.e. XML with deskewed textbox positions)\n",
    "output_files_basename = INPUT_XML[:INPUT_XML.rindex('.')]\n",
    "repaired_xmlfile = os.path.join(OUTPUTPATH, output_files_basename + '.repaired.xml')\n",
    "\n",
    "print(\"saving repaired XML file to '%s'...\" % repaired_xmlfile)\n",
    "xmltree.write(repaired_xmlfile)"
   ]
  },
  {
   "cell_type": "markdown",
   "metadata": {},
   "source": [
    "## 5. Detect clusters of vertical lines for identifying the columns of a table\n",
    "\n",
    "We now want to identify the columns of the table on our page. We already obtained the vertical lines by the means of image processing. Now as there are always many close lines detected for single column separator line, we need to cluster these sets of close lines so that we can later calculate the column positions.\n",
    "\n",
    "We can use the `find_clusters` method to which we need to pass the direction of lines that we want to cluster (vertical lines) and a clustering method. Here, we will use a simple technique that orders the lines and arranges them to separate clusters when the gap between them is too big (i.e. exceeds `dist_thresh`). We use the half of the minimum column width for this threshold. We can measure this minimum column width in advance with a graphics editor like *GIMP*.\n",
    "You can also use other, more sophisticated clustering techniques here too, which are implemented in `pdftabextract.clustering`, e.g. hierarchical clustering. But usually this approach here is sufficient."
   ]
  },
  {
   "cell_type": "code",
   "execution_count": 329,
   "metadata": {},
   "outputs": [
    {
     "name": "stdout",
     "output_type": "stream",
     "text": [
      "> found 6 clusters\n",
      "> saving image with detected vertical clusters to 'generated_output/bs-106-1_1-vertical-clusters.png'\n"
     ]
    },
    {
     "data": {
      "text/plain": [
       "True"
      ]
     },
     "execution_count": 329,
     "metadata": {},
     "output_type": "execute_result"
    }
   ],
   "source": [
    "from pdftabextract.clustering import find_clusters_1d_break_dist\n",
    "\n",
    "MIN_COL_WIDTH = 60 # minimum width of a column in pixels, measured in the scanned pages\n",
    "\n",
    "# cluster the detected *vertical* lines using find_clusters_1d_break_dist as simple clustering function\n",
    "# (break on distance MIN_COL_WIDTH/2)\n",
    "# additionally, remove all cluster sections that are considered empty\n",
    "# a cluster is considered empty when the number of text boxes in it is below 10% of the median number of text boxes\n",
    "# per cluster section\n",
    "vertical_clusters = iproc_obj.find_clusters(imgproc.DIRECTION_VERTICAL, find_clusters_1d_break_dist,\n",
    "                                            remove_empty_cluster_sections_use_texts=p['texts'], # use this page's textboxes\n",
    "                                            remove_empty_cluster_sections_n_texts_ratio=0.1,    # 10% rule\n",
    "                                            remove_empty_cluster_sections_scaling=page_scaling_x,  # the positions are in \"scanned image space\" -> we scale them to \"text box space\"\n",
    "                                            dist_thresh=MIN_COL_WIDTH/2)\n",
    "print(\"> found %d clusters\" % len(vertical_clusters))\n",
    "\n",
    "# draw the clusters\n",
    "img_w_clusters = iproc_obj.draw_line_clusters(imgproc.DIRECTION_VERTICAL, vertical_clusters)\n",
    "save_img_file = os.path.join(OUTPUTPATH, '%s-vertical-clusters.png' % imgfilebasename)\n",
    "print(\"> saving image with detected vertical clusters to '%s'\" % save_img_file)\n",
    "cv2.imwrite(save_img_file, img_w_clusters)\n"
   ]
  },
  {
   "cell_type": "code",
   "execution_count": 330,
   "metadata": {},
   "outputs": [
    {
     "name": "stdout",
     "output_type": "stream",
     "text": [
      "> found 12 clusters\n",
      "> saving image with detected vertical clusters to 'generated_output/bs-106-1_1-horizontal-clusters.png'\n"
     ]
    },
    {
     "data": {
      "text/plain": [
       "True"
      ]
     },
     "execution_count": 330,
     "metadata": {},
     "output_type": "execute_result"
    }
   ],
   "source": [
    "from pdftabextract.clustering import find_clusters_1d_break_dist\n",
    "\n",
    "MIN_ROW_WIDTH = 60 # minimum width of a row in pixels, measured in the scanned pages\n",
    "\n",
    "# cluster the detected *horizontal* lines using find_clusters_1d_break_dist as simple clustering function\n",
    "# (break on distance MIN_ROW_WIDTH/2)\n",
    "# additionally, remove all cluster sections that are considered empty\n",
    "# a cluster is considered empty when the number of text boxes in it is below 10% of the median number of text boxes\n",
    "# per cluster section\n",
    "horizontal_clusters = iproc_obj.find_clusters(imgproc.DIRECTION_HORIZONTAL, find_clusters_1d_break_dist,\n",
    "                                            remove_empty_cluster_sections_use_texts=p['texts'], # use this page's textboxes\n",
    "                                            remove_empty_cluster_sections_n_texts_ratio=0.1,    # 10% rule\n",
    "                                            remove_empty_cluster_sections_scaling=page_scaling_y,  # the positions are in \"scanned image space\" -> we scale them to \"text box space\"\n",
    "                                            dist_thresh=MIN_ROW_WIDTH/2)\n",
    "print(\"> found %d clusters\" % len(horizontal_clusters))\n",
    "\n",
    "# draw the clusters\n",
    "img_w_clusters_hoz = iproc_obj.draw_line_clusters(imgproc.DIRECTION_HORIZONTAL, horizontal_clusters)\n",
    "save_img_file = os.path.join(OUTPUTPATH, '%s-horizontal-clusters.png' % imgfilebasename)\n",
    "print(\"> saving image with detected vertical clusters to '%s'\" % save_img_file)\n",
    "cv2.imwrite(save_img_file, img_w_clusters_hoz)\n"
   ]
  },
  {
   "cell_type": "markdown",
   "metadata": {},
   "source": [
    "Here we see the detected clusters marked with different colors:\n",
    "\n",
    "![vertical clusters of p.3](generated_output/ALA1934_RR-excerpt.pdf-3_1-vertical-clusters.png)"
   ]
  },
  {
   "cell_type": "markdown",
   "metadata": {},
   "source": [
    "Now we simply calculate the centers of the clusters, by default taking the median of the cluster values. We also need to divide by the page scaling because the cluster positions are in image space but we need the column positions in \"text box space\"."
   ]
  },
  {
   "cell_type": "code",
   "execution_count": 331,
   "metadata": {},
   "outputs": [
    {
     "name": "stdout",
     "output_type": "stream",
     "text": [
      "found 6 column borders:\n",
      "[140.42576062 486.52342488 517.47092084 608.48029003 714.56812495\n",
      " 819.02907916]\n",
      "found 12 row borders:\n",
      "[  32.09048205   67.65802159  141.79391236  177.66459328  339.0736847\n",
      "  488.00132458  541.56874537  610.7334698   725.53838834  893.94930898\n",
      "  998.68401377 1077.07979876]\n"
     ]
    }
   ],
   "source": [
    "from pdftabextract.clustering import calc_cluster_centers_1d\n",
    "\n",
    "page_colpos = np.array(calc_cluster_centers_1d(vertical_clusters)) / page_scaling_x\n",
    "print('found %d column borders:' % len(page_colpos))\n",
    "print(page_colpos)\n",
    "\n",
    "page_rowpos = np.array(calc_cluster_centers_1d(horizontal_clusters)) / page_scaling_y\n",
    "print('found %d row borders:' % len(page_rowpos))\n",
    "print(page_rowpos)"
   ]
  },
  {
   "cell_type": "markdown",
   "metadata": {},
   "source": [
    "## 6. Find out the row positions of the table by analyzing the y-coordinates' distribution of text boxes\n",
    "\n",
    "For the row or line positions in the table, we can't rely on optical features because there are no row separator lines. However, we can exploit the distinctive distribution of y-coordinates of the text boxes and cluster them in order to get an estimation of the row positions. Another challenge is to find the start and the end of the table. We can do so by analyzing the specific contents of the text boxes for hints that the first row starts (it must start with a population number on the left) or that the text box is the table footer (it has something to do with \"Ala Anzeigen\").\n",
    "\n",
    "We start by finding text boxes of \"usual\" height in the first two columns, because the text boxes in these columns are most reliable in determining the row position."
   ]
  },
  {
   "cell_type": "code",
   "execution_count": 332,
   "metadata": {},
   "outputs": [],
   "source": [
    "# right border of the second column\n",
    "col2_rightborder = page_colpos[2]\n",
    "\n",
    "# calculate median text box height\n",
    "median_text_height = np.median([t['height'] for t in p['texts']])\n",
    "\n",
    "# get all texts in the first two columns with a \"usual\" textbox height\n",
    "# we will only use these text boxes in order to determine the line positions because they are more \"stable\"\n",
    "# otherwise, especially the right side of the column header can lead to problems detecting the first table row\n",
    "text_height_deviation_thresh = median_text_height / 2\n",
    "texts_cols_1_2 = [t for t in p['texts']\n",
    "                  if t['right'] <= col2_rightborder\n",
    "                     and abs(t['height'] - median_text_height) <= text_height_deviation_thresh]"
   ]
  },
  {
   "cell_type": "markdown",
   "metadata": {},
   "source": [
    "Next we get the text boxes' top and bottom border positions, cluster them, and calculate the cluster centers."
   ]
  },
  {
   "cell_type": "code",
   "execution_count": 333,
   "metadata": {},
   "outputs": [
    {
     "name": "stdout",
     "output_type": "stream",
     "text": [
      "number of line positions: 55\n"
     ]
    }
   ],
   "source": [
    "from pdftabextract.clustering import zip_clusters_and_values\n",
    "from pdftabextract.textboxes import border_positions_from_texts, split_texts_by_positions, join_texts\n",
    "from pdftabextract.common import all_a_in_b, DIRECTION_VERTICAL\n",
    "\n",
    "# get all textboxes' top and bottom border positions\n",
    "borders_y = border_positions_from_texts(texts_cols_1_2, DIRECTION_VERTICAL)\n",
    "\n",
    "# break into clusters using half of the median text height as break distance\n",
    "clusters_y = find_clusters_1d_break_dist(borders_y, dist_thresh=median_text_height/2)\n",
    "clusters_w_vals = zip_clusters_and_values(clusters_y, borders_y)\n",
    "\n",
    "# for each cluster, calculate the median as center\n",
    "pos_y = calc_cluster_centers_1d(clusters_w_vals)\n",
    "pos_y.append(p['height'])\n",
    "\n",
    "print('number of line positions:', len(pos_y))"
   ]
  },
  {
   "cell_type": "markdown",
   "metadata": {},
   "source": [
    "Now try to find the first table row by checking when we find the first text box that contains a string which matches a typical row pattern."
   ]
  },
  {
   "cell_type": "code",
   "execution_count": 334,
   "metadata": {
    "scrolled": true
   },
   "outputs": [
    {
     "data": {
      "text/plain": [
       "0"
      ]
     },
     "execution_count": 334,
     "metadata": {},
     "output_type": "execute_result"
    }
   ],
   "source": [
    "import re\n",
    "\n",
    "# a (possibly malformed) population number + space + start of city name\n",
    "pttrn_table_row_beginning = re.compile(r'^[\\d Oo][\\d Oo]{2,} +[A-ZÄÖÜ]')\n",
    "\n",
    "# 1. try to find the top row of the table\n",
    "texts_cols_1_2_per_line = split_texts_by_positions(texts_cols_1_2, pos_y, DIRECTION_VERTICAL,\n",
    "                                                   alignment='middle',\n",
    "                                                   enrich_with_positions=True)\n",
    "\n",
    "# go through the texts line per line\n",
    "for line_texts, (line_top, line_bottom) in texts_cols_1_2_per_line:\n",
    "    line_str = join_texts(line_texts)\n",
    "    if pttrn_table_row_beginning.match(line_str):  # check if the line content matches the given pattern\n",
    "        top_y = line_top\n",
    "        break\n",
    "else:\n",
    "    top_y = 0\n",
    "\n",
    "top_y"
   ]
  },
  {
   "cell_type": "markdown",
   "metadata": {},
   "source": [
    "We find the last table row by checking if we find a \"big\" text box in the lower page area that matches certain words."
   ]
  },
  {
   "cell_type": "code",
   "execution_count": 335,
   "metadata": {},
   "outputs": [
    {
     "name": "stdout",
     "output_type": "stream",
     "text": [
      "1107\n",
      "[147.0, 158.0, 173.0, 183.0, 208.0, 231.0, 246.0, 258.0, 270.0, 292.0, 309.0, 319.5, 335.0, 350.0, 369.0, 407.0, 440.0, 459.0, 471.0, 486.0, 498.0, 515.0, 531.0, 546.5, 557.5, 569.0, 585.0, 599.0, 614.0, 626.0, 638.0, 676.0, 714.0, 733.0, 774.0, 808.0, 829.0, 840.0, 857.0, 872.5, 884.0, 901.0, 924.5, 939.5, 952.0, 965.0, 982.0, 1000.0, 1013.0, 1026.0, 1039.0, 1054.0, 1093.0, 1108.0, 1107]\n"
     ]
    }
   ],
   "source": [
    "# hints for a footer text box\n",
    "words_in_footer = ('anzeige', 'annahme', 'ala')\n",
    "\n",
    "# 2. try to find the bottom row of the table\n",
    "min_footer_text_height = median_text_height * 1.5\n",
    "min_footer_y_pos = p['height'] * 0.7\n",
    "# get all texts in the lower 30% of the page that have are at least 50% bigger than the median textbox height\n",
    "bottom_texts = [t for t in p['texts']\n",
    "                if t['top'] >= min_footer_y_pos and t['height'] >= min_footer_text_height]\n",
    "bottom_texts_per_line = split_texts_by_positions(bottom_texts,\n",
    "                                                 pos_y + [p['height']],   # always down to the end of the page\n",
    "                                                 DIRECTION_VERTICAL,\n",
    "                                                 alignment='middle',\n",
    "                                                 enrich_with_positions=True)\n",
    "# go through the texts at the bottom line per line\n",
    "page_span = page_colpos[-1] - page_colpos[0]\n",
    "min_footer_text_width = page_span * 0.8\n",
    "for line_texts, (line_top, line_bottom) in bottom_texts_per_line:\n",
    "    line_str = join_texts(line_texts)\n",
    "    has_wide_footer_text = any(t['width'] >= min_footer_text_width for t in line_texts)\n",
    "    # check if there's at least one wide text or if all of the required words for a footer match\n",
    "    if has_wide_footer_text or all_a_in_b(words_in_footer, line_str):\n",
    "        bottom_y = line_top\n",
    "        break\n",
    "else:\n",
    "    bottom_y = p['height']\n",
    "\n",
    "print (bottom_y)\n",
    "print (pos_y)"
   ]
  },
  {
   "cell_type": "code",
   "execution_count": 336,
   "metadata": {},
   "outputs": [
    {
     "name": "stdout",
     "output_type": "stream",
     "text": [
      "[  32.09048205   67.65802159  141.79391236  177.66459328  339.0736847\n",
      "  488.00132458  541.56874537  610.7334698   725.53838834  893.94930898\n",
      "  998.68401377 1077.07979876]\n",
      "> page 1: 12 lines between [0.000000, 1107.000000]\n"
     ]
    }
   ],
   "source": [
    "# finally filter the line positions so that only the lines between the table top and bottom are left\n",
    "#page_rowpos = [y for y in pos_y if top_y <= y <= bottom_y]\n",
    "print (page_rowpos)\n",
    "print(\"> page %d: %d lines between [%f, %f]\" % (p_num, len(page_rowpos), top_y, bottom_y))"
   ]
  },
  {
   "cell_type": "markdown",
   "metadata": {},
   "source": [
    "## 7. Create a grid of columns and lines\n",
    "\n",
    "From the column and row positions that we detected, we can now generate a \"page grid\" which should resemble the table layout as close as possible. We then save the grid information as JSON file so that we can display it in pdf2xml-viewer."
   ]
  },
  {
   "cell_type": "code",
   "execution_count": 337,
   "metadata": {},
   "outputs": [],
   "source": [
    "def subsequent_pairs(l):\n",
    "    \"\"\"\n",
    "    Return subsequent pairs of values in a list <l>, i.e. [(x1, x2), (x2, x3), (x3, x4), .. (xn-1, xn)] for a\n",
    "    list [x1 .. xn]\n",
    "    \"\"\"\n",
    "    return [(l[i-1], v) for i, v in enumerate(l) if i > 0]"
   ]
  },
  {
   "cell_type": "code",
   "execution_count": 338,
   "metadata": {},
   "outputs": [
    {
     "name": "stdout",
     "output_type": "stream",
     "text": [
      "[140.42576062 486.52342488 517.47092084 608.48029003 714.56812495\n",
      " 819.02907916] [  32.09048205   67.65802159  141.79391236  177.66459328  339.0736847\n",
      "  488.00132458  541.56874537  610.7334698   725.53838834  893.94930898\n",
      "  998.68401377 1077.07979876]\n",
      "[[array([[140.42576062,  32.09048205],\n",
      "       [486.52342488,  67.65802159]]), array([[486.52342488,  32.09048205],\n",
      "       [517.47092084,  67.65802159]]), array([[517.47092084,  32.09048205],\n",
      "       [608.48029003,  67.65802159]]), array([[608.48029003,  32.09048205],\n",
      "       [714.56812495,  67.65802159]]), array([[714.56812495,  32.09048205],\n",
      "       [819.02907916,  67.65802159]])], [array([[140.42576062,  67.65802159],\n",
      "       [486.52342488, 141.79391236]]), array([[486.52342488,  67.65802159],\n",
      "       [517.47092084, 141.79391236]]), array([[517.47092084,  67.65802159],\n",
      "       [608.48029003, 141.79391236]]), array([[608.48029003,  67.65802159],\n",
      "       [714.56812495, 141.79391236]]), array([[714.56812495,  67.65802159],\n",
      "       [819.02907916, 141.79391236]])], [array([[140.42576062, 141.79391236],\n",
      "       [486.52342488, 177.66459328]]), array([[486.52342488, 141.79391236],\n",
      "       [517.47092084, 177.66459328]]), array([[517.47092084, 141.79391236],\n",
      "       [608.48029003, 177.66459328]]), array([[608.48029003, 141.79391236],\n",
      "       [714.56812495, 177.66459328]]), array([[714.56812495, 141.79391236],\n",
      "       [819.02907916, 177.66459328]])], [array([[140.42576062, 177.66459328],\n",
      "       [486.52342488, 339.0736847 ]]), array([[486.52342488, 177.66459328],\n",
      "       [517.47092084, 339.0736847 ]]), array([[517.47092084, 177.66459328],\n",
      "       [608.48029003, 339.0736847 ]]), array([[608.48029003, 177.66459328],\n",
      "       [714.56812495, 339.0736847 ]]), array([[714.56812495, 177.66459328],\n",
      "       [819.02907916, 339.0736847 ]])], [array([[140.42576062, 339.0736847 ],\n",
      "       [486.52342488, 488.00132458]]), array([[486.52342488, 339.0736847 ],\n",
      "       [517.47092084, 488.00132458]]), array([[517.47092084, 339.0736847 ],\n",
      "       [608.48029003, 488.00132458]]), array([[608.48029003, 339.0736847 ],\n",
      "       [714.56812495, 488.00132458]]), array([[714.56812495, 339.0736847 ],\n",
      "       [819.02907916, 488.00132458]])], [array([[140.42576062, 488.00132458],\n",
      "       [486.52342488, 541.56874537]]), array([[486.52342488, 488.00132458],\n",
      "       [517.47092084, 541.56874537]]), array([[517.47092084, 488.00132458],\n",
      "       [608.48029003, 541.56874537]]), array([[608.48029003, 488.00132458],\n",
      "       [714.56812495, 541.56874537]]), array([[714.56812495, 488.00132458],\n",
      "       [819.02907916, 541.56874537]])], [array([[140.42576062, 541.56874537],\n",
      "       [486.52342488, 610.7334698 ]]), array([[486.52342488, 541.56874537],\n",
      "       [517.47092084, 610.7334698 ]]), array([[517.47092084, 541.56874537],\n",
      "       [608.48029003, 610.7334698 ]]), array([[608.48029003, 541.56874537],\n",
      "       [714.56812495, 610.7334698 ]]), array([[714.56812495, 541.56874537],\n",
      "       [819.02907916, 610.7334698 ]])], [array([[140.42576062, 610.7334698 ],\n",
      "       [486.52342488, 725.53838834]]), array([[486.52342488, 610.7334698 ],\n",
      "       [517.47092084, 725.53838834]]), array([[517.47092084, 610.7334698 ],\n",
      "       [608.48029003, 725.53838834]]), array([[608.48029003, 610.7334698 ],\n",
      "       [714.56812495, 725.53838834]]), array([[714.56812495, 610.7334698 ],\n",
      "       [819.02907916, 725.53838834]])], [array([[140.42576062, 725.53838834],\n",
      "       [486.52342488, 893.94930898]]), array([[486.52342488, 725.53838834],\n",
      "       [517.47092084, 893.94930898]]), array([[517.47092084, 725.53838834],\n",
      "       [608.48029003, 893.94930898]]), array([[608.48029003, 725.53838834],\n",
      "       [714.56812495, 893.94930898]]), array([[714.56812495, 725.53838834],\n",
      "       [819.02907916, 893.94930898]])], [array([[140.42576062, 893.94930898],\n",
      "       [486.52342488, 998.68401377]]), array([[486.52342488, 893.94930898],\n",
      "       [517.47092084, 998.68401377]]), array([[517.47092084, 893.94930898],\n",
      "       [608.48029003, 998.68401377]]), array([[608.48029003, 893.94930898],\n",
      "       [714.56812495, 998.68401377]]), array([[714.56812495, 893.94930898],\n",
      "       [819.02907916, 998.68401377]])], [array([[ 140.42576062,  998.68401377],\n",
      "       [ 486.52342488, 1077.07979876]]), array([[ 486.52342488,  998.68401377],\n",
      "       [ 517.47092084, 1077.07979876]]), array([[ 517.47092084,  998.68401377],\n",
      "       [ 608.48029003, 1077.07979876]]), array([[ 608.48029003,  998.68401377],\n",
      "       [ 714.56812495, 1077.07979876]]), array([[ 714.56812495,  998.68401377],\n",
      "       [ 819.02907916, 1077.07979876]])]]\n",
      "> page 1: grid with 11 rows, 5 columns\n"
     ]
    }
   ],
   "source": [
    "from pdftabextract.extract import make_grid_from_positions\n",
    "print (page_colpos, page_rowpos)\n",
    "grid = make_grid_from_positions(page_colpos, page_rowpos)\n",
    "print(grid)\n",
    "n_rows = len(grid)\n",
    "n_cols = len(grid[0])\n",
    "print(\"> page %d: grid with %d rows, %d columns\" % (p_num, n_rows, n_cols))"
   ]
  },
  {
   "cell_type": "code",
   "execution_count": 339,
   "metadata": {},
   "outputs": [
    {
     "data": {
      "text/plain": [
       "array([[140.42576062,  32.09048205],\n",
       "       [486.52342488,  67.65802159]])"
      ]
     },
     "execution_count": 339,
     "metadata": {},
     "output_type": "execute_result"
    }
   ],
   "source": [
    "# the page grid is a 2D matrix that contains the rectangular table cells\n",
    "# this is the top left table cell:\n",
    "grid[0][0]"
   ]
  },
  {
   "cell_type": "code",
   "execution_count": 340,
   "metadata": {},
   "outputs": [
    {
     "name": "stdout",
     "output_type": "stream",
     "text": [
      "saving page grids JSON file to 'generated_output/bs-106.pagegrids_1.json'\n"
     ]
    }
   ],
   "source": [
    "from pdftabextract.common import save_page_grids\n",
    "\n",
    "page_grids_file = os.path.join(OUTPUTPATH, output_files_basename + '.pagegrids_%s.json'%p_num_original)\n",
    "print(\"saving page grids JSON file to '%s'\" % page_grids_file)\n",
    "save_page_grids({p_num: grid}, page_grids_file)"
   ]
  },
  {
   "cell_type": "markdown",
   "metadata": {},
   "source": [
    "We should now evaluate our page grid using pdf2xml-viewer. At first, we will need to load the XML of the repaired (deskewed) pages and then the JSON file containing the page grid information for page 3. When we select page 3 we should see an output like this:\n",
    "\n",
    "![page grids of p.3 in pdf2xml-viewer](nb_images/pdf2xml-viewer-pagegrid.png)\n",
    "\n",
    "We can see that the rows and columns were detected correctly (decrease the background image visibility for better display) and the deskewed text boxes mostly lie in the correct table cells. So the only thing left now is to finally extract the data by fitting the text boxes in the correct table cells."
   ]
  },
  {
   "cell_type": "markdown",
   "metadata": {},
   "source": [
    "## 8. Match the text boxes into the grid and hence extract the tabular data in order to export it as Excel and CSV file\n",
    "\n",
    "We can use `fit_texts_into_grid` to fit the text boxes into the grid and then transform it to a [pandas](http://pandas.pydata.org/) *DataFrame*."
   ]
  },
  {
   "cell_type": "code",
   "execution_count": 341,
   "metadata": {},
   "outputs": [
    {
     "data": {
      "text/html": [
       "<div>\n",
       "<style scoped>\n",
       "    .dataframe tbody tr th:only-of-type {\n",
       "        vertical-align: middle;\n",
       "    }\n",
       "\n",
       "    .dataframe tbody tr th {\n",
       "        vertical-align: top;\n",
       "    }\n",
       "\n",
       "    .dataframe thead th {\n",
       "        text-align: right;\n",
       "    }\n",
       "</style>\n",
       "<table border=\"1\" class=\"dataframe\">\n",
       "  <thead>\n",
       "    <tr style=\"text-align: right;\">\n",
       "      <th></th>\n",
       "      <th>col1</th>\n",
       "      <th>col2</th>\n",
       "      <th>col3</th>\n",
       "      <th>col4</th>\n",
       "      <th>col5</th>\n",
       "    </tr>\n",
       "  </thead>\n",
       "  <tbody>\n",
       "    <tr>\n",
       "      <th>0</th>\n",
       "      <td>ARVIND LIMITED</td>\n",
       "      <td></td>\n",
       "      <td></td>\n",
       "      <td></td>\n",
       "      <td></td>\n",
       "    </tr>\n",
       "    <tr>\n",
       "      <th>1</th>\n",
       "      <td>Standalone Balance Sheetasat March 31, 2017</td>\n",
       "      <td></td>\n",
       "      <td></td>\n",
       "      <td></td>\n",
       "      <td>Zin Crores</td>\n",
       "    </tr>\n",
       "    <tr>\n",
       "      <th>2</th>\n",
       "      <td>Notes</td>\n",
       "      <td></td>\n",
       "      <td>March31, 2017 Asat</td>\n",
       "      <td>March 31, 2016 Asat</td>\n",
       "      <td>Aprilo1,2015 Asat</td>\n",
       "    </tr>\n",
       "    <tr>\n",
       "      <th>3</th>\n",
       "      <td>Non-current assets (f) Financial assets (g) Ot...</td>\n",
       "      <td>6 7 7 8 8 8 5 3</td>\n",
       "      <td>2,877.90 1,264.92 117.74 80.36 43-45 60.04 58....</td>\n",
       "      <td>- 2,815.07 arr 74.08 318.33 44.65 14.86 23.79 ...</td>\n",
       "      <td>2,601.50 814.00 118.92 40.55, 75.42 86.57 9.40...</td>\n",
       "    </tr>\n",
       "    <tr>\n",
       "      <th>4</th>\n",
       "      <td>Total non-currentassets Current assets (a) Inv...</td>\n",
       "      <td>10 8 8 8 8 8</td>\n",
       "      <td>1,299.24 4,505.18 490.03 290.99 161.61 40.09 8...</td>\n",
       "      <td>4,294.54 4137.20 453.84 189.60 57721 64.76 279...</td>\n",
       "      <td>1040.54 3750.17 484.97 298.66 598.37 316.06 60...</td>\n",
       "    </tr>\n",
       "    <tr>\n",
       "      <th>5</th>\n",
       "      <td>Total current assets (©) Assetsclassified ashe...</td>\n",
       "      <td></td>\n",
       "      <td>2,648.32 2,648.32</td>\n",
       "      <td>: 6,989.67 2,695.13 2,69513</td>\n",
       "      <td>-   2,643.99</td>\n",
       "    </tr>\n",
       "    <tr>\n",
       "      <th>6</th>\n",
       "      <td>EQUITYAND LIABILITIES Equity share capital 4</td>\n",
       "      <td>3</td>\n",
       "      <td>2,983.35 258.36</td>\n",
       "      <td>2,727.89 2,986.13 258.24</td>\n",
       "      <td></td>\n",
       "    </tr>\n",
       "    <tr>\n",
       "      <th>7</th>\n",
       "      <td>Total non-current Non-currentliabilities (a) F...</td>\n",
       "      <td>29 16 5 6</td>\n",
       "      <td></td>\n",
       "      <td>7,429.85 1,332.01 49.08 25.24 2173,</td>\n",
       "      <td>181 7213.04 aa7i3i 18.80 1280 8.60 1.53</td>\n",
       "    </tr>\n",
       "    <tr>\n",
       "      <th>8</th>\n",
       "      <td>Totalcurrentliabilities Summary of significant...</td>\n",
       "      <td>8B 16 65 5 6 7 12</td>\n",
       "      <td></td>\n",
       "      <td>2,573.69 257369 4,521.74   633.46 380.83 29.77...</td>\n",
       "      <td>- 1,488.09 2,479.82    251 584.65 350.65 48.07...</td>\n",
       "    </tr>\n",
       "    <tr>\n",
       "      <th>9</th>\n",
       "      <td>The accompanyingnotesarean integral partof the...</td>\n",
       "      <td>Sanjay S. Lalbhai</td>\n",
       "      <td></td>\n",
       "      <td>For andonbehalf ofthe boardofdirectorsofArvind...</td>\n",
       "      <td>R.V. Bhimani</td>\n",
       "    </tr>\n",
       "  </tbody>\n",
       "</table>\n",
       "</div>"
      ],
      "text/plain": [
       "                                                col1               col2  \\\n",
       "0                                     ARVIND LIMITED                      \n",
       "1        Standalone Balance Sheetasat March 31, 2017                      \n",
       "2                                              Notes                      \n",
       "3  Non-current assets (f) Financial assets (g) Ot...    6 7 7 8 8 8 5 3   \n",
       "4  Total non-currentassets Current assets (a) Inv...       10 8 8 8 8 8   \n",
       "5  Total current assets (©) Assetsclassified ashe...                      \n",
       "6       EQUITYAND LIABILITIES Equity share capital 4                  3   \n",
       "7  Total non-current Non-currentliabilities (a) F...          29 16 5 6   \n",
       "8  Totalcurrentliabilities Summary of significant...  8B 16 65 5 6 7 12   \n",
       "9  The accompanyingnotesarean integral partof the...  Sanjay S. Lalbhai   \n",
       "\n",
       "                                                col3  \\\n",
       "0                                                      \n",
       "1                                                      \n",
       "2                                 March31, 2017 Asat   \n",
       "3  2,877.90 1,264.92 117.74 80.36 43-45 60.04 58....   \n",
       "4  1,299.24 4,505.18 490.03 290.99 161.61 40.09 8...   \n",
       "5                                  2,648.32 2,648.32   \n",
       "6                                    2,983.35 258.36   \n",
       "7                                                      \n",
       "8                                                      \n",
       "9                                                      \n",
       "\n",
       "                                                col4  \\\n",
       "0                                                      \n",
       "1                                                      \n",
       "2                                March 31, 2016 Asat   \n",
       "3  - 2,815.07 arr 74.08 318.33 44.65 14.86 23.79 ...   \n",
       "4  4,294.54 4137.20 453.84 189.60 57721 64.76 279...   \n",
       "5                        : 6,989.67 2,695.13 2,69513   \n",
       "6                           2,727.89 2,986.13 258.24   \n",
       "7                7,429.85 1,332.01 49.08 25.24 2173,   \n",
       "8  2,573.69 257369 4,521.74   633.46 380.83 29.77...   \n",
       "9  For andonbehalf ofthe boardofdirectorsofArvind...   \n",
       "\n",
       "                                                col5  \n",
       "0                                                     \n",
       "1                                         Zin Crores  \n",
       "2                                  Aprilo1,2015 Asat  \n",
       "3  2,601.50 814.00 118.92 40.55, 75.42 86.57 9.40...  \n",
       "4  1040.54 3750.17 484.97 298.66 598.37 316.06 60...  \n",
       "5                                       -   2,643.99  \n",
       "6                                                     \n",
       "7            181 7213.04 aa7i3i 18.80 1280 8.60 1.53  \n",
       "8  - 1,488.09 2,479.82    251 584.65 350.65 48.07...  \n",
       "9                                       R.V. Bhimani  "
      ]
     },
     "execution_count": 341,
     "metadata": {},
     "output_type": "execute_result"
    }
   ],
   "source": [
    "from pdftabextract.extract import fit_texts_into_grid, datatable_to_dataframe\n",
    "\n",
    "datatable = fit_texts_into_grid(p['texts'], grid)\n",
    "    \n",
    "df = datatable_to_dataframe(datatable)\n",
    "\n",
    "df.head(n=10)"
   ]
  },
  {
   "cell_type": "markdown",
   "metadata": {},
   "source": [
    "Of course you would now usually do a lot of parsing, data clean up and validation because with this kind of messy data it will never be 100% perfect. Still this is a good basis to work on. We can export the data now as CSV and Excel:"
   ]
  },
  {
   "cell_type": "code",
   "execution_count": 342,
   "metadata": {},
   "outputs": [
    {
     "name": "stdout",
     "output_type": "stream",
     "text": [
      "saving extracted data to 'generated_output/bs-1061.csv'\n",
      "saving extracted data to 'generated_output/bs-1061.html'\n"
     ]
    }
   ],
   "source": [
    "csv_output_file = os.path.join(OUTPUTPATH, output_files_basename + '%s.csv'%p_num_original)\n",
    "print(\"saving extracted data to '%s'\" % csv_output_file)\n",
    "df.to_csv(csv_output_file, index=False, header=False)\n",
    "\n",
    "html_output_file = os.path.join(OUTPUTPATH, output_files_basename + '%s.html'%p_num_original)\n",
    "print(\"saving extracted data to '%s'\" % html_output_file)\n",
    "df.to_html(html_output_file, index=False, header=False)"
   ]
  },
  {
   "cell_type": "markdown",
   "metadata": {},
   "source": [
    "# END"
   ]
  },
  {
   "cell_type": "code",
   "execution_count": null,
   "metadata": {},
   "outputs": [],
   "source": []
  },
  {
   "cell_type": "code",
   "execution_count": null,
   "metadata": {},
   "outputs": [],
   "source": []
  },
  {
   "cell_type": "code",
   "execution_count": null,
   "metadata": {},
   "outputs": [],
   "source": []
  },
  {
   "cell_type": "code",
   "execution_count": null,
   "metadata": {},
   "outputs": [],
   "source": []
  },
  {
   "cell_type": "code",
   "execution_count": null,
   "metadata": {},
   "outputs": [],
   "source": []
  }
 ],
 "metadata": {
  "kernelspec": {
   "display_name": "Python 3",
   "language": "python",
   "name": "python3"
  },
  "language_info": {
   "codemirror_mode": {
    "name": "ipython",
    "version": 3
   },
   "file_extension": ".py",
   "mimetype": "text/x-python",
   "name": "python",
   "nbconvert_exporter": "python",
   "pygments_lexer": "ipython3",
   "version": "3.5.0"
  }
 },
 "nbformat": 4,
 "nbformat_minor": 2
}
