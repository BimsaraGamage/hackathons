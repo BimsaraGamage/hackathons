{
 "cells": [
  {
   "cell_type": "code",
   "execution_count": 484,
   "metadata": {},
   "outputs": [],
   "source": [
    "import re, os, sys, glob\n",
    "from pathlib import Path\n",
    "from collections import Counter\n",
    "import pickle \n",
    "\n",
    "import pandas as pd\n",
    "import numpy as np\n",
    "\n",
    "from sklearn.pipeline import make_pipeline, Pipeline\n",
    "from sklearn.feature_extraction.text import CountVectorizer, HashingVectorizer, TfidfVectorizer\n",
    "from sklearn.naive_bayes import MultinomialNB\n",
    "from sklearn import metrics\n",
    "\n",
    "pd.options.mode.chained_assignment = None\n",
    "pd.options.display.max_columns = None\n",
    "np.warnings.filterwarnings('ignore')"
   ]
  },
  {
   "cell_type": "code",
   "execution_count": 485,
   "metadata": {},
   "outputs": [
    {
     "name": "stdout",
     "output_type": "stream",
     "text": [
      "train-data\\bs.txt\n",
      "train-data\\cf.txt\n",
      "train-data\\is.txt\n",
      "train-data\\note.txt\n",
      "train-data\\plaintext.txt\n"
     ]
    }
   ],
   "source": [
    "train_data_folder = \"../train-data/\"\n",
    "\n",
    "data = []\n",
    "\n",
    "for path in glob.glob('%s/*.txt'%train_data_folder):\n",
    "    print(path)\n",
    "    filename = os.path.basename(path).split('.')[0]\n",
    "    with open(path, 'r') as f:\n",
    "        text = f.readlines()\n",
    "    for l in text:\n",
    "        data.append((l, filename))"
   ]
  },
  {
   "cell_type": "code",
   "execution_count": 486,
   "metadata": {},
   "outputs": [
    {
     "data": {
      "text/plain": [
       "[('CAPITAL AND LIABILITIES\\n', 'bs'),\n",
       " ('Capital 1 4,605,934 4,564,858\\n', 'bs'),\n",
       " ('Reserves and surplus 2 252,976,864 215,975,735\\n', 'bs')]"
      ]
     },
     "execution_count": 486,
     "metadata": {},
     "output_type": "execute_result"
    }
   ],
   "source": [
    "data[:3]"
   ]
  },
  {
   "cell_type": "code",
   "execution_count": 487,
   "metadata": {},
   "outputs": [],
   "source": [
    "def preprocessor(x):\n",
    "    x = re.sub(r'[0-9\\,]+', 'num', x)\n",
    "    return re.sub(r'[\\n()]+', ' ', x).lower()"
   ]
  },
  {
   "cell_type": "code",
   "execution_count": 488,
   "metadata": {},
   "outputs": [
    {
     "data": {
      "text/html": [
       "<div>\n",
       "<style scoped>\n",
       "    .dataframe tbody tr th:only-of-type {\n",
       "        vertical-align: middle;\n",
       "    }\n",
       "\n",
       "    .dataframe tbody tr th {\n",
       "        vertical-align: top;\n",
       "    }\n",
       "\n",
       "    .dataframe thead th {\n",
       "        text-align: right;\n",
       "    }\n",
       "</style>\n",
       "<table border=\"1\" class=\"dataframe\">\n",
       "  <thead>\n",
       "    <tr style=\"text-align: right;\">\n",
       "      <th></th>\n",
       "      <th>raw</th>\n",
       "      <th>type</th>\n",
       "      <th>clean</th>\n",
       "    </tr>\n",
       "  </thead>\n",
       "  <tbody>\n",
       "    <tr>\n",
       "      <th>0</th>\n",
       "      <td>CAPITAL AND LIABILITIES\\n</td>\n",
       "      <td>bs</td>\n",
       "      <td>capital and liabilities</td>\n",
       "    </tr>\n",
       "    <tr>\n",
       "      <th>1</th>\n",
       "      <td>Capital 1 4,605,934 4,564,858\\n</td>\n",
       "      <td>bs</td>\n",
       "      <td>capital num num num</td>\n",
       "    </tr>\n",
       "    <tr>\n",
       "      <th>2</th>\n",
       "      <td>Reserves and surplus 2 252,976,864 215,975,735\\n</td>\n",
       "      <td>bs</td>\n",
       "      <td>reserves and surplus num num num</td>\n",
       "    </tr>\n",
       "    <tr>\n",
       "      <th>3</th>\n",
       "      <td>Deposits 3 2,007,381,476 1,428,738,567\\n</td>\n",
       "      <td>bs</td>\n",
       "      <td>deposits num num num</td>\n",
       "    </tr>\n",
       "    <tr>\n",
       "      <th>4</th>\n",
       "      <td>Borrowings 4 748,935,808 386,066,730\\n</td>\n",
       "      <td>bs</td>\n",
       "      <td>borrowings num num num</td>\n",
       "    </tr>\n",
       "  </tbody>\n",
       "</table>\n",
       "</div>"
      ],
      "text/plain": [
       "                                                raw type  \\\n",
       "0                         CAPITAL AND LIABILITIES\\n   bs   \n",
       "1                   Capital 1 4,605,934 4,564,858\\n   bs   \n",
       "2  Reserves and surplus 2 252,976,864 215,975,735\\n   bs   \n",
       "3          Deposits 3 2,007,381,476 1,428,738,567\\n   bs   \n",
       "4            Borrowings 4 748,935,808 386,066,730\\n   bs   \n",
       "\n",
       "                               clean  \n",
       "0           capital and liabilities   \n",
       "1               capital num num num   \n",
       "2  reserves and surplus num num num   \n",
       "3              deposits num num num   \n",
       "4            borrowings num num num   "
      ]
     },
     "execution_count": 488,
     "metadata": {},
     "output_type": "execute_result"
    }
   ],
   "source": [
    "df = pd.DataFrame(data, columns=['raw', 'type'])\n",
    "df['clean'] = df.raw.apply(preprocessor)\n",
    "df.head()"
   ]
  },
  {
   "cell_type": "code",
   "execution_count": 489,
   "metadata": {},
   "outputs": [
    {
     "data": {
      "text/plain": [
       "Counter({'bs': 107, 'cf': 102, 'is': 92, 'note': 313, 'plaintext': 93})"
      ]
     },
     "execution_count": 489,
     "metadata": {},
     "output_type": "execute_result"
    }
   ],
   "source": [
    "Counter(df.type)"
   ]
  },
  {
   "cell_type": "code",
   "execution_count": 490,
   "metadata": {},
   "outputs": [
    {
     "data": {
      "text/plain": [
       "0.8656294200848657"
      ]
     },
     "execution_count": 490,
     "metadata": {},
     "output_type": "execute_result"
    }
   ],
   "source": [
    "nb = make_pipeline(TfidfVectorizer(min_df=2, ngram_range=(1, 3), stop_words={'english'}),\n",
    "                   MultinomialNB(alpha=0.1)\n",
    "                    )\n",
    "\n",
    "X = df['clean']\n",
    "y= df.type\n",
    "nb.fit(X, y)\n",
    "y_pred_class = nb.predict(X)\n",
    "# print(y_pred_class)\n",
    "metrics.accuracy_score(y, y_pred_class)"
   ]
  },
  {
   "cell_type": "code",
   "execution_count": 491,
   "metadata": {},
   "outputs": [
    {
     "name": "stdout",
     "output_type": "stream",
     "text": [
      "train-data\\bs.txt\n",
      "train-data\\cf.txt\n",
      "train-data\\is.txt\n",
      "train-data\\note.txt\n",
      "train-data\\plaintext.txt\n"
     ]
    }
   ],
   "source": [
    "train_data_folder = \"train-data/\"\n",
    "\n",
    "data = []\n",
    "\n",
    "for path in glob.glob('%s/*.txt'%train_data_folder):\n",
    "    print(path)\n",
    "    filename = os.path.basename(path).split('.')[0]\n",
    "    with open(path, 'r') as f:\n",
    "        text = f.read()\n",
    "    data.append((text.lower(), filename))"
   ]
  },
  {
   "cell_type": "code",
   "execution_count": 492,
   "metadata": {},
   "outputs": [
    {
     "data": {
      "text/plain": [
       "(\"capital and liabilities\\ncapital 1 4,605,934 4,564,858\\nreserves and surplus 2 252,976,864 215,975,735\\ndeposits 3 2,007,381,476 1,428,738,567\\nborrowings 4 748,935,808 386,066,730\\nother liabilities and provisions 5 110,555,951 115,253,287\\ntotal 3,124,456,033 2,150,599,177\\nassets\\ncash and balances with reserve bank of india 6 114,257,489 69,520,697\\nbalances with banks and money at call and short notice 7 133,086,175 125,973,744\\ninvestments 8 683,989,387 500,317,983\\nadvances 9 2,035,338,628 1,322,626,769\\nfixed assets 10 8,323,917 6,835,385\\nother assets 11 149,460,437 1,25,324,599\\ntotal 3,124,456,033 2,150,599,177\\ncontingent liabilities 12 5,818,296,390 3,795,641,601\\nbills for collection 19,355,641 13,900,033\\n\\nequity and liabilities\\nshareholders' funds\\nshare capital 856.81 856.81 729.53 729.53 529.53 396.20\\nshare capital suspense 48.90 - - - - -\\nreserves and surplus 7,188.96 6,051.15 3,869.24 3,034.44 1,543.22 709.70\\n8,094.67 6,907.96 4,598.77 3,763.97 2,072.75 1,105.90\\nnon-current liabilities\\nlong-term borrowings 15,556.75 11,758.82 11,221.46 5,849.80 3,700.18 1,470.05\\nlong-term provisions 1,198.97 307.23 107.52 29.84 29.01 50.70\\n16,755.72 12,066.05 11,328.98 5,879.64 3,729.19 1,520.75\\ncurrent liabilities\\nshort-term borrowings 200.00 - 200.00 - - -\\nother current liabilities 18,859.36 15,494.17 11,744.57 7,503.99 4,717.35 2,794.26\\nshort-term provisions 377.92 1,172.54 207.44 120.49 61.51 13.76\\n19,437.28 16,666.71 12,152.01 7,624.48 4,778.86 2,808.02\\ntotal 44,287.67 35,640.72 28,079.76 17,268.09 10,580.80 5,434.67\\nassets\\nnon-current assets\\nfixed assets\\n-property, plant and equipment 67.21 59.80 53.18 25.67 24.78 26.23\\n-intangible assets 74.58 62.82 60.18 11.51 1.50 1.50\\n-capital work-in-progress - 7.04 - - - -\\n-intangible assets under development 3.27 23.27 - 24.94 2.31 1.08\\nnon-current investments 2.00 2.00 2.00 2.00 2.02 2.05\\ndeferred tax asset 491.58 484.94 110.31 59.47 32.16 27.01\\nloans and advances 10,435.00 6,376.15 7,712.25 2,703.02 1,586.89 954.16\\nother non-current assets 85.07 119.58 392.42 737.31 447.64 343.95\\n11,158.71 7,135.60 8,330.34 3,563.92 2,097.30 1,355.98\\ncurrent assets\\ncurrent investments 1,665.34 - - - - 2.59\\ntrade receivables - - - - - 0.20\\ncash and bank balances 2,187.71 3,636.88 2,549.15 2,797.74 3,250.31 912.43\\nloan and advances 29,111.30 24,514.53 17,041.64 10,827.49 5,177.17 3,010.54\\nother current assets 164.61 353.71\\n\\n\\nassets\\ni. non-current assets\\n(a) property, plant and equipment 5 2,877.90 2,815.07 2,601.50\\n(b) capital work-in-progress 5 58.32 74.08 75.42\\n(c) investment property 6 117.74 118.33 118.92\\n(d) intangible assets 7 80.36 14.86 9.40\\n(e) intangible assets under development 7 - 23.79 -\\n(f) financial assets\\n(i) investments 8 1,264.92 1,147.71 814.00\\n(ii) loans 8 2.45 2.76 3.81\\n(iii) other financial assets 8 43.45 44.65 40.55\\n(g) other non-current assets 9 60.04 53.29 86.57\\ntotal non-current assets 4,505.18 4,294.54 3,750.17\\nii. current assets\\n(a) inventories 10 1,299.24 1,137.20 1,040.54\\n(b) financial assets\\n(i) trade receivables 8 490.03 453.84 484.97\\n(ii) cash and cash equivalents 8 4.31 14.83 17.69\\n(iii) bank balance other than (iii) above 8 8.97 8.58 27.29\\n(iv) loans 8 353.08 577.21 598.37\\n(v) others financial assets 8 161.61 159.60 116.06\\n(c) current tax assets (net) 11 40.09 64.76 60.41\\n(d) other current assets 9 290.99 279.11 298.66\\n2,648.32 2,695.13 2,643.99\\n(e) assets classified as held for sale 12 - - 139.07\\ntotal current assets 2,648.32 2,695.13 2,783.06\\ntotal assets 7,153.50 6,989.67 6,533.23\\nequity and liabilities\\nequity\\nequity share capital 13 258.36 258.24 258.24\\nother equity 14 2,983.35 2,727.89 2,543.03\\ntotal equity 3,241.71 2,986.13 2,801.27\\nliabilities\\ni. non-current liabilities\\n(a) financial liabilities\\n(i) borrowings 15 1,085.10 1,332.01 1,171.31\\n(ii) other financial liabilities 15 1.01 1.81 1.53\\n(b) long-term provisions 16 27.18 21.73 18.80\\n(c) deferred tax liabilities (net) 29 68.34 49.06 8.60\\n(d) government grants 17 30.78 25.24 12.80\\ntotal non-current liabilities 1,212.41 1,429.85 1,213.04\\nii. current liabilities\\n(a) financial liabilities\\n(i) borrowings 15 1,750.26 1,521.74 1,488.09\\n(ii) trade payables 15 667.73 633.46 584.65\\n(iii) other financial liabilities 15 211.96 380.83 350.65\\n(b) other current liabilities 18 58.36 29.77 48.07\\n(c) short-term provisions 16 6.38 4.51 5.52\\n(d) government grants 17 4.69 3.38 2.84\\n2,699.38 2,573.69 2,479.82\\n(e) liabilities directly associated with assets classified as held for sale 12 - - 39.10\\ntotal current liabilities\\n\\n\",\n",
       " 'bs')"
      ]
     },
     "execution_count": 492,
     "metadata": {},
     "output_type": "execute_result"
    }
   ],
   "source": [
    "data[0]"
   ]
  },
  {
   "cell_type": "code",
   "execution_count": 493,
   "metadata": {},
   "outputs": [
    {
     "data": {
      "text/html": [
       "<div>\n",
       "<style scoped>\n",
       "    .dataframe tbody tr th:only-of-type {\n",
       "        vertical-align: middle;\n",
       "    }\n",
       "\n",
       "    .dataframe tbody tr th {\n",
       "        vertical-align: top;\n",
       "    }\n",
       "\n",
       "    .dataframe thead th {\n",
       "        text-align: right;\n",
       "    }\n",
       "</style>\n",
       "<table border=\"1\" class=\"dataframe\">\n",
       "  <thead>\n",
       "    <tr style=\"text-align: right;\">\n",
       "      <th></th>\n",
       "      <th>raw</th>\n",
       "      <th>type</th>\n",
       "      <th>clean</th>\n",
       "    </tr>\n",
       "  </thead>\n",
       "  <tbody>\n",
       "    <tr>\n",
       "      <th>0</th>\n",
       "      <td>capital and liabilities\\ncapital 1 4,605,934 4...</td>\n",
       "      <td>bs</td>\n",
       "      <td>capital and liabilities capital num num num re...</td>\n",
       "    </tr>\n",
       "    <tr>\n",
       "      <th>1</th>\n",
       "      <td>cash flow from operating activities\\nnet profi...</td>\n",
       "      <td>cf</td>\n",
       "      <td>cash flow from operating activities net profit...</td>\n",
       "    </tr>\n",
       "    <tr>\n",
       "      <th>2</th>\n",
       "      <td>income\\ninterest earned 13 202,674,216 164,246...</td>\n",
       "      <td>is</td>\n",
       "      <td>income interest earned num num num other incom...</td>\n",
       "    </tr>\n",
       "    <tr>\n",
       "      <th>3</th>\n",
       "      <td>cash flow from financing activities\\nincrease ...</td>\n",
       "      <td>note</td>\n",
       "      <td>cash flow from financing activities increase i...</td>\n",
       "    </tr>\n",
       "    <tr>\n",
       "      <th>4</th>\n",
       "      <td>resolved further that, for the purpose of\\ngiv...</td>\n",
       "      <td>plaintext</td>\n",
       "      <td>resolved further thatnum for the purpose of gi...</td>\n",
       "    </tr>\n",
       "  </tbody>\n",
       "</table>\n",
       "</div>"
      ],
      "text/plain": [
       "                                                 raw       type  \\\n",
       "0  capital and liabilities\\ncapital 1 4,605,934 4...         bs   \n",
       "1  cash flow from operating activities\\nnet profi...         cf   \n",
       "2  income\\ninterest earned 13 202,674,216 164,246...         is   \n",
       "3  cash flow from financing activities\\nincrease ...       note   \n",
       "4  resolved further that, for the purpose of\\ngiv...  plaintext   \n",
       "\n",
       "                                               clean  \n",
       "0  capital and liabilities capital num num num re...  \n",
       "1  cash flow from operating activities net profit...  \n",
       "2  income interest earned num num num other incom...  \n",
       "3  cash flow from financing activities increase i...  \n",
       "4  resolved further thatnum for the purpose of gi...  "
      ]
     },
     "execution_count": 493,
     "metadata": {},
     "output_type": "execute_result"
    }
   ],
   "source": [
    "df = pd.DataFrame(data, columns=['raw', 'type'])\n",
    "df['clean'] = df.raw.apply(preprocessor)\n",
    "df"
   ]
  },
  {
   "cell_type": "code",
   "execution_count": 494,
   "metadata": {},
   "outputs": [],
   "source": [
    "# vect = HashingVectorizer(non_negative=True)\n",
    "# X = vect.fit_transform(df['clean'])\n",
    "# y= df.type\n",
    "# nb = MultinomialNB()\n",
    "# nb.fit(X, y)\n",
    "# y_pred_class = nb.predict(X)\n",
    "# print(y_pred_class)\n",
    "# metrics.accuracy_score(y, y_pred_class)"
   ]
  },
  {
   "cell_type": "markdown",
   "metadata": {},
   "source": [
    "# Testing"
   ]
  },
  {
   "cell_type": "code",
   "execution_count": 495,
   "metadata": {},
   "outputs": [
    {
     "name": "stdout",
     "output_type": "stream",
     "text": [
      "['bs' 'cf' 'is' 'note' 'plaintext']\n",
      "[[0.979 0.008 0.006 0.006 0.   ]\n",
      " [0.    0.999 0.    0.    0.   ]\n",
      " [0.003 0.001 0.993 0.003 0.   ]\n",
      " [0.    0.    0.    1.    0.   ]\n",
      " [0.    0.    0.    0.    1.   ]]\n",
      "[0.97918304 0.99949679 0.99311478 0.99996408 1.        ]\n",
      "Accuracy: 1.0\n"
     ]
    }
   ],
   "source": [
    "X = df['clean']\n",
    "y= df.type\n",
    "y_pred_class = nb.predict(X)\n",
    "y_pred_class_proba = nb.predict_proba(X)\n",
    "print(y_pred_class)\n",
    "print(np.round(y_pred_class_proba, 3))\n",
    "print(np.max(y_pred_class_proba, axis=1))\n",
    "print('Accuracy: %s'%metrics.accuracy_score(y, y_pred_class))"
   ]
  },
  {
   "cell_type": "code",
   "execution_count": 498,
   "metadata": {},
   "outputs": [],
   "source": [
    "pickle.dump(nb, open('models/mindf2.pkl', 'wb'))"
   ]
  },
  {
   "cell_type": "code",
   "execution_count": 497,
   "metadata": {},
   "outputs": [
    {
     "name": "stdout",
     "output_type": "stream",
     "text": [
      " particulars for the year ended march num num for the year ended march num num c  cash flow from financing activities financing of hedging contract  num.num  num.num interest costs  num.num   num.num net cash from / used  in financing activities  iii   num.num   num.num net increase / decrease  in cash & cash equivalents  i+ ii+ iii  num.num num.num cash & cash equivalents at the beginning of the year num.num num.num cash & cash equivalents at the end of the year num.num num.num notes : num   cash and cash equivalents include cash and bank balances in current accounts and deposit accounts.  refer note no. num  d num  previous year figures have been regrouped wherever necessary to correspond with the figures of the current year. as per our attached report of even date. for and on behalf of for and on behalf of the board of directors khimji kunverji & co. aptech limited chartered accountants firm registration no. numw anil pant c. y. pal managing director & ceo vice chairman shivji k vikamsey  din :num   din: num partner m.no num place : mumbai t. k. ravishankar ketan shah date : may num num executive vice president & cfo company secretary \n",
      "Probability: 0.936842242249499\n"
     ]
    },
    {
     "data": {
      "text/plain": [
       "'cf'"
      ]
     },
     "execution_count": 497,
     "metadata": {},
     "output_type": "execute_result"
    }
   ],
   "source": [
    "test =\"\"\"\n",
    "Particulars For the year ended\n",
    "March 31, 2017\n",
    "For the year ended\n",
    "March 31, 2016\n",
    "(C) CASH FLOW FROM FINANCING ACTIVITIES\n",
    "Financing of hedging contract (6.71) 20.17\n",
    "Interest Costs (4.11) (27.57)\n",
    "Net Cash from /(Used) in Financing Activities (III) (10.82) (7.40)\n",
    "Net Increase /(Decrease) in Cash & Cash equivalents (I+ II+ III) 605.75 62.86\n",
    "Cash & Cash equivalents at the beginning of the year 941.89 879.03\n",
    "Cash & Cash equivalents at the end of the year 1,547.64 941.89\n",
    "Notes :\n",
    "1 ) Cash and Cash equivalents include cash and bank balances in current accounts and deposit accounts. (Refer Note no. 8 (d))\n",
    "2) Previous year figures have been regrouped wherever necessary to correspond with the figures of the current year.\n",
    "As per our attached report of even date.\n",
    "For and on behalf of For and on behalf of the Board of Directors\n",
    "KHIMJI KUNVERJI & CO. APTECH LIMITED\n",
    "Chartered Accountants\n",
    "(Firm Registration No. 105146W)\n",
    "ANIL PANT C. Y. PAL\n",
    "Managing Director & CEO Vice Chairman\n",
    "SHIVJI K VIKAMSEY (Din :07565631) (Din: 00106536)\n",
    "Partner\n",
    "(M.No 2242)\n",
    "Place : Mumbai T. K. RAVISHANKAR KETAN SHAH\n",
    "Date : May 24, 2017 Executive Vice President & CFO Company Secretary\n",
    "\"\"\"\n",
    "\n",
    "\n",
    "def predict_table_type(x):\n",
    "    x = preprocessor(x)\n",
    "    print(x)\n",
    "    print('Probability: %s'%np.max(nb.predict_proba([x])))\n",
    "    return nb.predict([x])[0]\n",
    "    \n",
    "predict_table_type(test)"
   ]
  },
  {
   "cell_type": "code",
   "execution_count": null,
   "metadata": {},
   "outputs": [],
   "source": []
  },
  {
   "cell_type": "code",
   "execution_count": null,
   "metadata": {},
   "outputs": [],
   "source": []
  },
  {
   "cell_type": "code",
   "execution_count": null,
   "metadata": {},
   "outputs": [],
   "source": []
  },
  {
   "cell_type": "code",
   "execution_count": null,
   "metadata": {},
   "outputs": [],
   "source": []
  },
  {
   "cell_type": "code",
   "execution_count": null,
   "metadata": {},
   "outputs": [],
   "source": []
  }
 ],
 "metadata": {
  "kernelspec": {
   "display_name": "Python 3",
   "language": "python",
   "name": "python3"
  },
  "language_info": {
   "codemirror_mode": {
    "name": "ipython",
    "version": 3
   },
   "file_extension": ".py",
   "mimetype": "text/x-python",
   "name": "python",
   "nbconvert_exporter": "python",
   "pygments_lexer": "ipython3",
   "version": "3.5.0"
  }
 },
 "nbformat": 4,
 "nbformat_minor": 2
}
