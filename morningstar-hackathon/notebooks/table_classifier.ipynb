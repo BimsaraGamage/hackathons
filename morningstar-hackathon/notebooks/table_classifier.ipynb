{
 "cells": [
  {
   "cell_type": "code",
   "execution_count": 1,
   "metadata": {},
   "outputs": [
    {
     "name": "stderr",
     "output_type": "stream",
     "text": [
      "/usr/local/Cellar/python3/3.6.2/Frameworks/Python.framework/Versions/3.6/lib/python3.6/importlib/_bootstrap.py:205: RuntimeWarning: numpy.dtype size changed, may indicate binary incompatibility. Expected 96, got 88\n",
      "  return f(*args, **kwds)\n"
     ]
    }
   ],
   "source": [
    "import re, os, sys, glob\n",
    "from pathlib import Path\n",
    "from collections import Counter\n",
    "import pickle \n",
    "\n",
    "import pandas as pd\n",
    "import numpy as np\n",
    "\n",
    "from sklearn.pipeline import make_pipeline, Pipeline\n",
    "from sklearn.feature_extraction.text import CountVectorizer, HashingVectorizer, TfidfVectorizer\n",
    "from sklearn.naive_bayes import MultinomialNB\n",
    "from sklearn import metrics\n",
    "\n",
    "from lime import lime_text\n",
    "from lime.lime_text import LimeTextExplainer\n",
    "\n",
    "%matplotlib inline\n",
    "import matplotlib.pyplot as plt\n",
    "plt.rcParams[\"figure.figsize\"] = (5, 8)\n",
    "\n",
    "pd.options.mode.chained_assignment = None\n",
    "pd.options.display.max_columns = None\n",
    "np.warnings.filterwarnings('ignore')"
   ]
  },
  {
   "cell_type": "code",
   "execution_count": 2,
   "metadata": {},
   "outputs": [
    {
     "name": "stdout",
     "output_type": "stream",
     "text": [
      "../train-data/note.txt\n",
      "../train-data/cf.txt\n",
      "../train-data/bs.txt\n",
      "../train-data/is.txt\n",
      "../train-data/plaintext.txt\n"
     ]
    }
   ],
   "source": [
    "train_data_folder = \"../train-data/\"\n",
    "\n",
    "data = []\n",
    "\n",
    "for path in glob.glob('%s/*.txt'%train_data_folder):\n",
    "    print(path)\n",
    "    filename = os.path.basename(path).split('.')[0]\n",
    "    with open(path, 'r', encoding='utf-8', errors='ignore') as f:\n",
    "        text = f.readlines()\n",
    "    for l in text:\n",
    "        data.append((l, filename))"
   ]
  },
  {
   "cell_type": "code",
   "execution_count": 3,
   "metadata": {},
   "outputs": [
    {
     "data": {
      "text/plain": [
       "[('CASH FLOW FROM FINANCING ACTIVITIES\\n', 'note'),\n",
       " ('Increase in Borrowings 241,003,504 43,568,618\\n', 'note'),\n",
       " ('Tier II Debt raised 70,000,000 -\\n', 'note')]"
      ]
     },
     "execution_count": 3,
     "metadata": {},
     "output_type": "execute_result"
    }
   ],
   "source": [
    "data[:3]"
   ]
  },
  {
   "cell_type": "code",
   "execution_count": 4,
   "metadata": {},
   "outputs": [],
   "source": [
    "def preprocessor(x):\n",
    "    x = re.sub(r'[0-9\\,]+', 'num', x)\n",
    "    return re.sub(r'[\\n()]+', ' ', x).lower()"
   ]
  },
  {
   "cell_type": "code",
   "execution_count": 5,
   "metadata": {},
   "outputs": [
    {
     "data": {
      "text/html": [
       "<div>\n",
       "<style scoped>\n",
       "    .dataframe tbody tr th:only-of-type {\n",
       "        vertical-align: middle;\n",
       "    }\n",
       "\n",
       "    .dataframe tbody tr th {\n",
       "        vertical-align: top;\n",
       "    }\n",
       "\n",
       "    .dataframe thead th {\n",
       "        text-align: right;\n",
       "    }\n",
       "</style>\n",
       "<table border=\"1\" class=\"dataframe\">\n",
       "  <thead>\n",
       "    <tr style=\"text-align: right;\">\n",
       "      <th></th>\n",
       "      <th>raw</th>\n",
       "      <th>type</th>\n",
       "      <th>clean</th>\n",
       "    </tr>\n",
       "  </thead>\n",
       "  <tbody>\n",
       "    <tr>\n",
       "      <th>0</th>\n",
       "      <td>CASH FLOW FROM FINANCING ACTIVITIES\\n</td>\n",
       "      <td>note</td>\n",
       "      <td>cash flow from financing activities</td>\n",
       "    </tr>\n",
       "    <tr>\n",
       "      <th>1</th>\n",
       "      <td>Increase in Borrowings 241,003,504 43,568,618\\n</td>\n",
       "      <td>note</td>\n",
       "      <td>increase in borrowings num num</td>\n",
       "    </tr>\n",
       "    <tr>\n",
       "      <th>2</th>\n",
       "      <td>Tier II Debt raised 70,000,000 -\\n</td>\n",
       "      <td>note</td>\n",
       "      <td>tier ii debt raised num -</td>\n",
       "    </tr>\n",
       "    <tr>\n",
       "      <th>3</th>\n",
       "      <td>Innovative Perpetual Debt raised 54,150,000 30...</td>\n",
       "      <td>note</td>\n",
       "      <td>innovative perpetual debt raised num num</td>\n",
       "    </tr>\n",
       "    <tr>\n",
       "      <th>4</th>\n",
       "      <td>Tier II Debt repaid during the year (2,489,000...</td>\n",
       "      <td>note</td>\n",
       "      <td>tier ii debt repaid during the year  num   num</td>\n",
       "    </tr>\n",
       "  </tbody>\n",
       "</table>\n",
       "</div>"
      ],
      "text/plain": [
       "                                                 raw  type  \\\n",
       "0              CASH FLOW FROM FINANCING ACTIVITIES\\n  note   \n",
       "1    Increase in Borrowings 241,003,504 43,568,618\\n  note   \n",
       "2                 Tier II Debt raised 70,000,000 -\\n  note   \n",
       "3  Innovative Perpetual Debt raised 54,150,000 30...  note   \n",
       "4  Tier II Debt repaid during the year (2,489,000...  note   \n",
       "\n",
       "                                             clean  \n",
       "0             cash flow from financing activities   \n",
       "1                  increase in borrowings num num   \n",
       "2                       tier ii debt raised num -   \n",
       "3        innovative perpetual debt raised num num   \n",
       "4  tier ii debt repaid during the year  num   num   "
      ]
     },
     "execution_count": 5,
     "metadata": {},
     "output_type": "execute_result"
    }
   ],
   "source": [
    "df = pd.DataFrame(data, columns=['raw', 'type'])\n",
    "df['clean'] = df.raw.apply(preprocessor)\n",
    "df.head()"
   ]
  },
  {
   "cell_type": "code",
   "execution_count": 6,
   "metadata": {},
   "outputs": [
    {
     "data": {
      "text/plain": [
       "Counter({'note': 313, 'cf': 102, 'bs': 107, 'is': 92, 'plaintext': 93})"
      ]
     },
     "execution_count": 6,
     "metadata": {},
     "output_type": "execute_result"
    }
   ],
   "source": [
    "Counter(df.type)"
   ]
  },
  {
   "cell_type": "code",
   "execution_count": 7,
   "metadata": {},
   "outputs": [
    {
     "data": {
      "text/plain": [
       "0.867043847241867"
      ]
     },
     "execution_count": 7,
     "metadata": {},
     "output_type": "execute_result"
    }
   ],
   "source": [
    "nb = make_pipeline(TfidfVectorizer(min_df=2, ngram_range=(1, 3), stop_words={'english'}),\n",
    "                   MultinomialNB(alpha=0.1)\n",
    "                    )\n",
    "\n",
    "X = df['clean']\n",
    "y= df.type\n",
    "nb.fit(X, y)\n",
    "y_pred_class = nb.predict(X)\n",
    "# print(y_pred_class)\n",
    "metrics.accuracy_score(y, y_pred_class)"
   ]
  },
  {
   "cell_type": "code",
   "execution_count": 8,
   "metadata": {},
   "outputs": [
    {
     "name": "stdout",
     "output_type": "stream",
     "text": [
      "../train-data/note.txt\n",
      "../train-data/cf.txt\n",
      "../train-data/bs.txt\n",
      "../train-data/is.txt\n",
      "../train-data/plaintext.txt\n"
     ]
    }
   ],
   "source": [
    "train_data_folder = \"../train-data/\"\n",
    "\n",
    "data = []\n",
    "\n",
    "for path in glob.glob('%s/*.txt'%train_data_folder):\n",
    "    print(path)\n",
    "    filename = os.path.basename(path).split('.')[0]\n",
    "    with open(path, 'r', encoding='utf-8', errors='ignore') as f:\n",
    "        text = f.read()\n",
    "    data.append((text.lower(), filename))"
   ]
  },
  {
   "cell_type": "code",
   "execution_count": 9,
   "metadata": {},
   "outputs": [
    {
     "data": {
      "text/plain": [
       "(\"cash flow from financing activities\\nincrease in borrowings 241,003,504 43,568,618\\ntier ii debt raised 70,000,000 -\\ninnovative perpetual debt raised 54,150,000 30,000,000\\ntier ii debt repaid during the year (2,489,000) (3,786,000)\\nproceeds from issue of share capital (net of share issue expense) 1,420,167 49,576,625\\ndividend paid during the year (5,488,101) (4,209,981)\\ntax on dividend paid (1,117,377) (857,152)\\nnet cash generated from/(used in) financing activities (c) 357,479,193 114,292,110\\neffect of exchange fluctuation on translation reserve (d) 65,803 (37,234)\\nnet increase in cash and cash equivalents (a+b+c+d) 51,849,223 113,310,194\\ncash and cash equivalents as at april 1st 195,494,441 82,184,247\\ncash and cash equivalents as at mar 31st 247,343,664 195,494,441\\nnotes to the cash flow statement:\\ncash and cash equivalents includes the following\\ncash and balances with reserve bank of india 114,257,489 69,520,697\\nbalances with banks and money at call and short notice 133,086,175 125,973,744\\ncash and cash equivalents as at march 31st 247,343,664 195,494,441\\nschedule 3 - deposits\\na. i. demand deposits\\ni) from banks 14,602,217 10,543,996\\nii) from others 273,655,030 180,334,205\\nii. savings bank deposit 443,504,509 327,818,301\\niii. term deposits\\ni) from banks 112,971,241 78,421,060\\nii) from others (incl. cds issued) 1,162,648,479 831,621,005\\ntotal 2,007,381,476 1,428,738,567\\nb. i. deposits of branches in india 2,006,449,601 1,428,635,283\\nii. deposits of branches outside india 931,875 103,284\\ntotal 2,007,381,476 1,428,738,567\\n(` in thousands)\\nas at\\nmar 31, 2018\\nas at\\nmar 31, 2017\\nschedule 4 - borrowings\\ni. innovative perpetual debt instruments (ipdi) and tier ii debt\\na. borrowing in india\\ni) ipdi 91,560,000 37,410,000\\nii) tier ii borrowings 152,339,000 84,828,000\\ntotal (a) 243,899,000 122,238,000\\nb. borrowings outside india\\ni) ipdi 325,875 324,250\\nii) tier ii borrowings 11,172,824 10,969,876\\ntotal (b) 11,498,699 11,294,126\\ntotal (a+b) 255,397,699 133,532,126\\nii. other borrowings(1)\\na. borrowings in india\\ni) reserve bank of india 15,000,000 -\\nii) other banks 15,811,399 21,818,909\\niii) other institutions and agencies(2) 187,167,910 81,117,555\\ntotal (a) 217,979,309 102,936,464\\nb. borrowings outside india(3) 275,558,800 149,598,140\\nschedule 5 - other liabilities and provisions\\ni. bills payable 9,151,490 5,925,696\\nii. inter-office adjustments (net) - -\\niii. interest accrued 21,932,830 14,787,213\\niv. others (including provisions)\\n- provision for standard advances 9,493,909 7,806,482\\n- country risk provision - -\\n- others 69,977,722 86,733,896\\ntotal 110,555,951 115,253,287\\n(` in thousands)\\nas at\\nmar 31, 2018\\nas at\\nmar 31, 2017\\nschedule 6 - cash and balances with reserve bank of india\\ni. cash in hand 6,226,739 5,705,440\\nii. balances with reserve bank of india\\n- in current account 108,030,750 63,815,257\\n- in other account - -\\ntotal 114,257,489 69,520,697\\n(` in thousands)\\nas at\\nmar 31, 2018\\nas at\\nmar 31, 2017\\nschedule 7 - balances with banks and money at call and\\nshort notice\\ni. in india\\nbalances with banksi)\\nin current accounts 781,586 615,101\\nii) in other deposit accounts 83 77\\nmoney at call and short notice\\ni) with banks - 6,400,000\\nii) with other institutions - -\\niii) lending under reverse repo (rbi & banks) 112,009,654 77,533,403\\ntotal (i) 112,791,323 84,548,581\\nii. outside india\\ni) in current account 14,494,277 22,618,582\\nii) in other deposit account - -\\niii) money at call and short notice\\nschedule 8 - investments (net of provisions)\\na. investments in india\\ni) government securities 488,860,831 354,804,669\\nii) other approved securities - -\\niii) shares 643,782 2,369,461\\niv) debentures and bonds 145,045,609 110,453,002\\nv) subsidiaries and/or joint ventures 1,055,000 500,000\\nvi) others (cps, cds, security receipts, pass through certificates etc) 38,030,003 30,438,101\\ntotal (i) 673,635,225 498,565,233\\nb. investments outside india\\ni) government securities 3,445,612 322,750\\nii) debentures and bonds 6,908,550 1,430,000\\ntotal (ii) 10,354,162 1,752,750\\ntotal (i+ii) 683,989,387 500,317,983\\n(` in thousands)\\nas at\\nmar 31, 2018\\nas at\\nmar 31, 2017\\nschedule 9 - advances\\na. i) bills purchased and discounted 24,244,084 15,592,229\\nii) cash credit, overdrafts and loans payable on demand 381,074,691 285,619,143\\niii) term loans 1,630,019,853 1,021,415,397\\ntotal 2,035,338,628 1,322,626,769\\nb. i) secured by tangible assets (includes advances secured by fixed\\ndeposits and book debt)\\n1,477,676,098 971,727,832\\nii) covered by bank/government guarantees 5,996,099 9,982,743\\niii) unsecured(1) 551,666,431 340,916,194\\ntotal 2,035,338,628 1,322,626,769\\n1 includes advances of `337,552,952 thousands (march 31, 2017:\\n`194,674,665 thousands) for which security documentation is either being\\nobtained or being registered. there are no outstanding advances as at\\nmarch 31, 2018 and march 31, 2017 for which only intangible securities\\nsuch as charge over the rights, licenses, authority, etc has been taken.\\nc. i. advances in india\\ni) priority sectors 446,472,144 291,727,756\\nii) public sector 1,524,237 611,812\\niii) banks 1,214,227 1,336,192\\niv) others 1,442,062,406 968,611,004\\nii. advances outside india\\ni) due from banks 1,716,986 803,409\\nii) due from others\\n(a) bills purchased and discounted - -\\n(b) syndicated loans 142,348,628 59,536,596\\n(c) others\\nschedule 10 - fixed assets\\ni. premises\\nat cost as on march 31st of preceding year 378,031 -\\nadditions during the year - 378,031\\ndeductions during the year - -\\naccumulated depreciation to date (8,402) (2,101)\\ntotal (i) 369,629 375,930\\nii. other fixed assets (including furniture and fixtures\\nand software)\\nat cost as on march 31st of preceding year 11,745,713 8,509,222\\nadditions during the year 3,931,501 3,338,916\\ndeductions during the year (444,470) (102,425)\\naccumulated depreciation to date (7,994,083) (6,033,004)\\ntotal (ii) 7,238,661 5,712,709\\ntotal (i+ii) 7,608,290 6,088,639\\ncapital work-in-progress 715,627 746,746\\ntotal 8,323,917 6,835,385\\n(` in thousands)\\nas at\\nmar 31, 2018\\nas at\\nmar 31, 2017\\nschedule 11 - other assets\\ni. interest accrued 25,152,344 20,753,822\\nii. advance tax and tax deducted at source (net of provision) 1,674,968 1,170,481\\niii. deferred tax asset [refer sch 18.6.18] 8,717,588 6,029,821\\niv. non-banking assets aquired in satisfaction of claims 364,790 427,230\\nv. others 113,550,747 96,943,245\\ntotal 149,460,437 125,324,599\\n(` in thousands)\\nas at\\nmar 31, 2018\\nas at\\nmar 31, 2017\\nschedule 12 - contingent liabilities\\ni. claims against the bank not acknowledged as debts 116,436 59,375\\nii. liability for partly paid investments - -\\niii. liability on account of outstanding forward exchange contracts 3,000,448,825 1,633,440,599\\niv. liability on account of outstanding derivative contracts\\n- single currency interest rate swap 1,141,440,348 900,717,664\\n- others 783,747,908 557,600,726\\nv. guarantees given on behalf on constituents\\n- in india 314,307,933 238,664,671\\n- outside india - -\\nvi. acceptances, endorsement and other obligations 411,689,385 319,204,078\\nvii. other items for which the bank is contingently liable\\n- purchase of securities pending settlement 9,068,982 2,375,682\\n- capital commitment 2,936,618 1,664,143\\n- amount deposited with rbi under depositor education and awareness\\nfund (deaf)\\n13,533 4,702\\n- foreign exchange contracts (tom & spot) 154,526,423 141,909,961\\ntotal 5,818,296,390 3,795,641,601\\ncontingent liability on account of outstanding forward exchange contracts and single currency interest rate swap as on march 31, 2018\\nincludes notional amount of `2,315,099,034 thousands and `318,672,816 thousands (previous year: `1,168,538,967 thousands and\\n`195,660,885 thousands) guaranteed by ccil representing 77.16% and 27.92% (previous year: 71.54% and 21.72%) of total outstanding\\nforward exchange contracts and single currency interest rate swaps respectively.\\n(` in thousands)\\nfor the year ended\\nmar 31, 2018\\nfor the year ended\\nmar 31, 2017\\nschedule 13 - interest earned\\ni. interest/discount on advances/bills 154,782,364 122,097,659\\nii. income on investments 41,025,311 37,968,422\\niii. interest on balances with reserve bank of india and other inter-bank funds 5,160,730 2,578,210\\niv. others 1,705,811 1,602,146\\ntotal 202,674,216 164,246,437\\n(` in thousands)\\nfor the year ended\\nmar 31, 2018\\nfor the year ended\\nmar 31, 2017\\nschedule 14 - other income\\ni. commission, exchange and brokerage 41,379,643 31,399,553\\nii. profit on the sale of investments (net) 5,134,739 7,112,679\\niii. profit/(loss) on the revaluation of investments (net) - -\\niv. profit/(loss) on sale of land, building and other assets (12,892) 182\\nv. profit on exchange transactions (net) 2,315,709 1,018,902\\nvi. income earned by way of dividends etc. from subsidiaries, companies and/or\\njoint ventures abroad/in india\\n- -\\nvii. miscellaneous income 3,421,136 2,036,253\\ntotal 52,238,335 41,567,569\\n(` in thousands)\\nfor the year ended\\nmar 31, 2018\\nfor the year ended\\nmar 31, 2017\\nschedule 15 - interest expended\\ni. interest on deposits 93,834,137 82,040,497\\nii. interest on reserve bank of india/inter-bank borrowings/tier i and tier\\nii debt instruments\\n29,840,501 22,242,771\\niii. others\\nschedule 16 - operating expenses\\ni. payments to and provisions for employees 21,889,199 18,050,433\\nii. rent, taxes and lighting 4,543,758 3,791,818\\niii. printing and stationery 368,753 271,801\\niv. advertisement and publicity 959,102 1,004,685\\nv. depreciation on bank's property 2,309,704 1,712,519\\nvi. directors' fees, allowances and expenses 19,848 29,152\\nvii. auditors' fees and expenses 13,685 13,000\\nviii. law charges 60,940 36,745\\nix. postage, telegrams, telephones, etc. 604,220 485,551\\nx. repairs and maintenance 345,426 202,262\\nxi. insurance 1,512,106 1,196,321\\nxii. other expenditure 19,501,057 14,371,123\\ntotal 52,127,798 41,165,410\\n(` in thousands)\\nfor the year ended\\nmar 31, 2018\\nfor the year ended\\nmar 31, 2017\\nschedule 17 - provisions & contingencies\\ni. provision for taxation [refer sch 18.6.1] 19,697,457 17,140,211\\nii. provision for investments 2,599,443 522,117\\niii. provision for standard advances 1,687,427 831,396\\niv. provision/write off for non performing advances 10,788,287 6,634,414\\nv. other provisions 462,878 (53,873)\\n\\npower and fuel 495.25 493.65\\nstores consumed 473.33 463.66\\ninsurance 9.96 10.70\\nprocessing charges 300.62 295.75\\nprinting, stationery & communication 32.62 26.29\\nrent 358.91 264.34\\ncommission, brokerage & discount 139.01 106.41\\nrates and taxes 34.34 27.89\\nrepairs :\\nto building 4.40 4.22\\nto machineries (including spares consumption) 134.36 124.34\\nto others 64.86 42.94\\nfreight, insurance & clearing charge 107.66 92.00\\nexcise duty expense 36.42 26.26\\nlegal & professional charges 49.95 36.29\\nconveyance & travelling expense 61.68 52.31\\nadvertisement and publicity 162.05 176.81\\ndirectors sitting fees 0.05 0.04\\nmiscellaneous labour charges 162.63 127.41\\nroyalty on sales 115.56 88.59\\nallowances for doubtful debts/advances 5.15 8.55\\nbad debt written off 1.65 0.33\\nsundry debits written off 1.88 0.63\\nshare of loss from limited liability partnership - 0.07\\nauditors remuneration 3.36 3.54\\nbank charges 23.65 23.98\\nspend on csr activities 9.12 7.27\\nexchange difference (net) (15.21) 5.55\\nfixed assets written off 1.29 0.68\\nprovision for product warranties / guarantees 5.33 15.32\\nmiscellaneous expenses 206.63 159.26\\n\\naccelerated depreciation for tax purposes 1.29 2.33 3.52\\nimpact of fair valuation of land (47.27) (37.66) (27.36)\\nprovision for doubtful debt (including allowance for ecl) (5.61) (4.88) (1.85)\\nexpenditure allowable on payment basis (6.16) (5.47) (6.72)\\nexpenditure allowable over the period (section 35d / 35dd) 0.38 (0.03) -\\nunused losses available for offsetting against future taxable income (143.13) (8.44) (24.21)\\nunused tax credit available for offsetting against future taxable income (11.65) (12.39) (4.30)\\nimpact of deferment of revenue, net of related cost - (108.06) (88.76)\\ndeferred tax on unrealised profit (13.20) (7.11) -\\nothers (0.42) (9.78) (8.16)\\n(225.77) (191.49) (157.84)\\ndetails of deferred tax liabilities\\naccelerated depreciation for tax purposes 169.52 141.24 116.07\\nimpact of fair valuation of land 178.35 181.49 181.71\\nprovision for doubtful debt (including allowance for ecl) (3.97) (2.44) (2.30)\\nexpenditure allowable on payment basis (8.96) (9.48) (6.78)\\nexpenditure allowable over the period (section 35d / 35dd) (9.98) (10.33) (11.46)\\nunused tax credit available for offsetting against future taxable income (240.81) (231.90) (242.65)\\nimpact of deferment of revenue, net of related cost - - -\\ndeferred tax on unrealised profit (4.40) - (5.49)\\nothers 1.91 \",\n",
       " 'note')"
      ]
     },
     "execution_count": 9,
     "metadata": {},
     "output_type": "execute_result"
    }
   ],
   "source": [
    "data[0]"
   ]
  },
  {
   "cell_type": "code",
   "execution_count": 10,
   "metadata": {},
   "outputs": [
    {
     "data": {
      "text/html": [
       "<div>\n",
       "<style scoped>\n",
       "    .dataframe tbody tr th:only-of-type {\n",
       "        vertical-align: middle;\n",
       "    }\n",
       "\n",
       "    .dataframe tbody tr th {\n",
       "        vertical-align: top;\n",
       "    }\n",
       "\n",
       "    .dataframe thead th {\n",
       "        text-align: right;\n",
       "    }\n",
       "</style>\n",
       "<table border=\"1\" class=\"dataframe\">\n",
       "  <thead>\n",
       "    <tr style=\"text-align: right;\">\n",
       "      <th></th>\n",
       "      <th>raw</th>\n",
       "      <th>type</th>\n",
       "      <th>clean</th>\n",
       "    </tr>\n",
       "  </thead>\n",
       "  <tbody>\n",
       "    <tr>\n",
       "      <th>0</th>\n",
       "      <td>cash flow from financing activities\\nincrease ...</td>\n",
       "      <td>note</td>\n",
       "      <td>cash flow from financing activities increase i...</td>\n",
       "    </tr>\n",
       "    <tr>\n",
       "      <th>1</th>\n",
       "      <td>cash flow from operating activities\\nnet profi...</td>\n",
       "      <td>cf</td>\n",
       "      <td>cash flow from operating activities net profit...</td>\n",
       "    </tr>\n",
       "    <tr>\n",
       "      <th>2</th>\n",
       "      <td>capital and liabilities\\ncapital 1 4,605,934 4...</td>\n",
       "      <td>bs</td>\n",
       "      <td>capital and liabilities capital num num num re...</td>\n",
       "    </tr>\n",
       "    <tr>\n",
       "      <th>3</th>\n",
       "      <td>income\\ninterest earned 13 202,674,216 164,246...</td>\n",
       "      <td>is</td>\n",
       "      <td>income interest earned num num num other incom...</td>\n",
       "    </tr>\n",
       "    <tr>\n",
       "      <th>4</th>\n",
       "      <td>resolved further that, for the purpose of\\ngiv...</td>\n",
       "      <td>plaintext</td>\n",
       "      <td>resolved further thatnum for the purpose of gi...</td>\n",
       "    </tr>\n",
       "  </tbody>\n",
       "</table>\n",
       "</div>"
      ],
      "text/plain": [
       "                                                 raw       type  \\\n",
       "0  cash flow from financing activities\\nincrease ...       note   \n",
       "1  cash flow from operating activities\\nnet profi...         cf   \n",
       "2  capital and liabilities\\ncapital 1 4,605,934 4...         bs   \n",
       "3  income\\ninterest earned 13 202,674,216 164,246...         is   \n",
       "4  resolved further that, for the purpose of\\ngiv...  plaintext   \n",
       "\n",
       "                                               clean  \n",
       "0  cash flow from financing activities increase i...  \n",
       "1  cash flow from operating activities net profit...  \n",
       "2  capital and liabilities capital num num num re...  \n",
       "3  income interest earned num num num other incom...  \n",
       "4  resolved further thatnum for the purpose of gi...  "
      ]
     },
     "execution_count": 10,
     "metadata": {},
     "output_type": "execute_result"
    }
   ],
   "source": [
    "df = pd.DataFrame(data, columns=['raw', 'type'])\n",
    "df['clean'] = df.raw.apply(preprocessor)\n",
    "df"
   ]
  },
  {
   "cell_type": "code",
   "execution_count": 11,
   "metadata": {},
   "outputs": [],
   "source": [
    "# vect = HashingVectorizer(non_negative=True)\n",
    "# X = vect.fit_transform(df['clean'])\n",
    "# y= df.type\n",
    "# nb = MultinomialNB()\n",
    "# nb.fit(X, y)\n",
    "# y_pred_class = nb.predict(X)\n",
    "# print(y_pred_class)\n",
    "# metrics.accuracy_score(y, y_pred_class)"
   ]
  },
  {
   "cell_type": "markdown",
   "metadata": {},
   "source": [
    "# Testing"
   ]
  },
  {
   "cell_type": "code",
   "execution_count": 12,
   "metadata": {},
   "outputs": [
    {
     "name": "stdout",
     "output_type": "stream",
     "text": [
      "['note' 'cf' 'bs' 'is' 'plaintext']\n",
      "[[0.    0.    0.    1.    0.   ]\n",
      " [0.    1.    0.    0.    0.   ]\n",
      " [0.979 0.008 0.006 0.006 0.   ]\n",
      " [0.003 0.001 0.993 0.003 0.   ]\n",
      " [0.    0.    0.    0.    1.   ]]\n",
      "[0.99996441 0.9995002  0.97923128 0.99314885 1.        ]\n",
      "Accuracy: 1.0\n"
     ]
    }
   ],
   "source": [
    "X = df['clean']\n",
    "y= df.type\n",
    "y_pred_class = nb.predict(X)\n",
    "y_pred_class_proba = nb.predict_proba(X)\n",
    "print(y_pred_class)\n",
    "print(np.round(y_pred_class_proba, 3))\n",
    "print(np.max(y_pred_class_proba, axis=1))\n",
    "print('Accuracy: %s'%metrics.accuracy_score(y, y_pred_class))"
   ]
  },
  {
   "cell_type": "code",
   "execution_count": 15,
   "metadata": {},
   "outputs": [],
   "source": [
    "pickle.dump(nb, open('../models/mindf2.pkl', 'wb'))"
   ]
  },
  {
   "cell_type": "code",
   "execution_count": 16,
   "metadata": {},
   "outputs": [
    {
     "name": "stdout",
     "output_type": "stream",
     "text": [
      " particulars for the year ended march num num for the year ended march num num c  cash flow from financing activities financing of hedging contract  num.num  num.num interest costs  num.num   num.num net cash from / used  in financing activities  iii   num.num   num.num net increase / decrease  in cash & cash equivalents  i+ ii+ iii  num.num num.num cash & cash equivalents at the beginning of the year num.num num.num cash & cash equivalents at the end of the year num.num num.num notes : num   cash and cash equivalents include cash and bank balances in current accounts and deposit accounts.  refer note no. num  d num  previous year figures have been regrouped wherever necessary to correspond with the figures of the current year. as per our attached report of even date. for and on behalf of for and on behalf of the board of directors khimji kunverji & co. aptech limited chartered accountants firm registration no. numw anil pant c. y. pal managing director & ceo vice chairman shivji k vikamsey  din :num   din: num partner m.no num place : mumbai t. k. ravishankar ketan shah date : may num num executive vice president & cfo company secretary \n",
      "Probability: 0.9384744945244003\n"
     ]
    },
    {
     "data": {
      "text/plain": [
       "'cf'"
      ]
     },
     "execution_count": 16,
     "metadata": {},
     "output_type": "execute_result"
    }
   ],
   "source": [
    "test =\"\"\"\n",
    "Particulars For the year ended\n",
    "March 31, 2017\n",
    "For the year ended\n",
    "March 31, 2016\n",
    "(C) CASH FLOW FROM FINANCING ACTIVITIES\n",
    "Financing of hedging contract (6.71) 20.17\n",
    "Interest Costs (4.11) (27.57)\n",
    "Net Cash from /(Used) in Financing Activities (III) (10.82) (7.40)\n",
    "Net Increase /(Decrease) in Cash & Cash equivalents (I+ II+ III) 605.75 62.86\n",
    "Cash & Cash equivalents at the beginning of the year 941.89 879.03\n",
    "Cash & Cash equivalents at the end of the year 1,547.64 941.89\n",
    "Notes :\n",
    "1 ) Cash and Cash equivalents include cash and bank balances in current accounts and deposit accounts. (Refer Note no. 8 (d))\n",
    "2) Previous year figures have been regrouped wherever necessary to correspond with the figures of the current year.\n",
    "As per our attached report of even date.\n",
    "For and on behalf of For and on behalf of the Board of Directors\n",
    "KHIMJI KUNVERJI & CO. APTECH LIMITED\n",
    "Chartered Accountants\n",
    "(Firm Registration No. 105146W)\n",
    "ANIL PANT C. Y. PAL\n",
    "Managing Director & CEO Vice Chairman\n",
    "SHIVJI K VIKAMSEY (Din :07565631) (Din: 00106536)\n",
    "Partner\n",
    "(M.No 2242)\n",
    "Place : Mumbai T. K. RAVISHANKAR KETAN SHAH\n",
    "Date : May 24, 2017 Executive Vice President & CFO Company Secretary\n",
    "\"\"\"\n",
    "\n",
    "\n",
    "def predict_table_type(x):\n",
    "    x = preprocessor(x)\n",
    "    print(x)\n",
    "    print('Probability: %s'%np.max(nb.predict_proba([x])))\n",
    "    return nb.predict([x])[0]\n",
    "    \n",
    "predict_table_type(test)"
   ]
  },
  {
   "cell_type": "markdown",
   "metadata": {},
   "source": [
    "## Lime"
   ]
  },
  {
   "cell_type": "code",
   "execution_count": 17,
   "metadata": {},
   "outputs": [],
   "source": [
    "class_names = y_pred_class\n",
    "num_classes = len(class_names)\n",
    "explainer = LimeTextExplainer(class_names=class_names)"
   ]
  },
  {
   "cell_type": "code",
   "execution_count": 18,
   "metadata": {},
   "outputs": [
    {
     "data": {
      "text/plain": [
       "(5,)"
      ]
     },
     "execution_count": 18,
     "metadata": {},
     "output_type": "execute_result"
    }
   ],
   "source": [
    "X.shape"
   ]
  },
  {
   "cell_type": "code",
   "execution_count": 19,
   "metadata": {},
   "outputs": [
    {
     "name": "stdout",
     "output_type": "stream",
     "text": [
      "Document id: 1\n",
      "Predicted class = cf\n",
      "Predicted class = [[1.15059052e-04 9.99500204e-01 2.19538272e-05 3.62782117e-04\n",
      "  1.16234714e-09]]\n",
      "True class: cf\n"
     ]
    }
   ],
   "source": [
    "idx = 1\n",
    "num_features = 20\n",
    "exp = explainer.explain_instance(X[idx], nb.predict_proba, num_features=num_features, labels=range(num_classes))\n",
    "print('Document id: %d' % idx)\n",
    "print('Predicted class =', nb.predict([X[idx]]).reshape(1,-1)[0,0])\n",
    "print('Predicted class =', nb.predict_proba([X[idx]]))\n",
    "print('True class: %s' % y[idx])"
   ]
  },
  {
   "cell_type": "code",
   "execution_count": 20,
   "metadata": {},
   "outputs": [
    {
     "name": "stdout",
     "output_type": "stream",
     "text": [
      "\n",
      "Explanation for class note\n",
      "('num', 0.05063286428603319)\n",
      "('cash', -0.01639165340585938)\n",
      "('of', -0.01534284433876041)\n",
      "('from', -0.012261974894159701)\n",
      "('activities', -0.012120324693821672)\n",
      "('year', -0.010655818017018356)\n",
      "('decrease', -0.009246395223362357)\n",
      "('equivalents', -0.008558493205313907)\n",
      "('increase', -0.007983744353293713)\n",
      "('the', -0.007874910015330807)\n",
      "('in', -0.007460740185033556)\n",
      "('flow', -0.00629431841928258)\n",
      "('and', -0.006103346017453579)\n",
      "('at', -0.005911344582366781)\n",
      "('financing', -0.00553077819823157)\n",
      "('debt', -0.005509148188514269)\n",
      "('net', -0.00521216547599253)\n",
      "('as', -0.005049815643584147)\n",
      "('assets', 0.002518178500806804)\n",
      "('borrowings', 0.001837588020329917)\n",
      "\n",
      "Explanation for class cf\n",
      "('num', -0.14234050911679538)\n",
      "('cash', 0.05659642971561317)\n",
      "('decrease', 0.0362444983549196)\n",
      "('of', 0.03451304082209294)\n",
      "('activities', 0.032202614749206944)\n",
      "('from', 0.030090952727978494)\n",
      "('equivalents', 0.02974763637974655)\n",
      "('increase', 0.023983376486016506)\n",
      "('flow', 0.019591138468001517)\n",
      "('year', 0.019335802473940473)\n",
      "('investments', 0.01801011934358916)\n",
      "('propertynum', 0.017418879906955703)\n",
      "('the', 0.017255577035692162)\n",
      "('period', 0.015406807135382191)\n",
      "('in', 0.015232251246208804)\n",
      "('financing', 0.01522827996779417)\n",
      "('net', 0.01489897942666735)\n",
      "('investing', 0.014890516727952245)\n",
      "('equipment', 0.014103132088695902)\n",
      "('annexure', 0.014014068834587997)\n",
      "\n",
      "Explanation for class bs\n",
      "('num', 0.02465119279584505)\n",
      "('cash', -0.012057590313769545)\n",
      "('activities', -0.005730140870336585)\n",
      "('equivalents', -0.005205459302808576)\n",
      "('investments', -0.005030282992952034)\n",
      "('decrease', -0.004322991462030377)\n",
      "('at', -0.003957281537830931)\n",
      "('from', -0.0035221507214536494)\n",
      "('increase', -0.003449306079871064)\n",
      "('and', -0.003323885282669133)\n",
      "('assets', -0.0030881405316627534)\n",
      "('flow', -0.0027815599393628517)\n",
      "('as', -0.0027487058041964904)\n",
      "('the', -0.0027312236835412363)\n",
      "('deposits', -0.0025810247286621605)\n",
      "('propertynum', -0.0025524510100301736)\n",
      "('in', -0.0024136300406308983)\n",
      "('fluctuation', -0.0023855986599129303)\n",
      "('net', -0.00234908426464778)\n",
      "('financing', -0.002327494140287853)\n",
      "\n",
      "Explanation for class is\n",
      "('num', 0.06768034238644917)\n",
      "('cash', -0.02719603681420232)\n",
      "('decrease', -0.022076903387591558)\n",
      "('of', -0.01696760896660533)\n",
      "('equivalents', -0.015794795811218017)\n",
      "('activities', -0.014283662987682397)\n",
      "('from', -0.013136179750624416)\n",
      "('increase', -0.012712979784373803)\n",
      "('assets', -0.010710943685340472)\n",
      "('current', -0.01048754439793784)\n",
      "('investing', -0.009969668930071902)\n",
      "('propertynum', -0.009853319606139471)\n",
      "('equipment', -0.009845745689302554)\n",
      "('flow', -0.009725373933271171)\n",
      "('investments', -0.009626305793453112)\n",
      "('period', -0.009374770885633175)\n",
      "('sale', -0.008867262580676409)\n",
      "('annexure', -0.008718036281354122)\n",
      "('financing', -0.007016638957913882)\n",
      "('on', 0.0020376665909749487)\n",
      "\n",
      "Explanation for class plaintext\n",
      "('num', -0.00016034112028108234)\n",
      "('cash', -0.00013903318750884097)\n",
      "('from', -0.00012614704885465864)\n",
      "('activities', -0.00012490304022129767)\n",
      "('tier', -0.00011701284387154531)\n",
      "('equivalents', -0.00011399840739303246)\n",
      "('balances', -0.00011239604406252515)\n",
      "('raised', -0.00010679288129484361)\n",
      "('generated', -0.00010341455559403539)\n",
      "('year', -9.617675769123505e-05)\n",
      "('short', -9.553934131589492e-05)\n",
      "('flow', -9.525303393968169e-05)\n",
      "('period', -9.429868263299729e-05)\n",
      "('provision', -9.063617340581822e-05)\n",
      "('and', 8.026449978107281e-05)\n",
      "('of', 6.412530344924261e-05)\n",
      "('the', 5.5378042527565403e-05)\n",
      "('to', 1.6249272953339184e-05)\n",
      "('processing', -1.4003247314290195e-05)\n",
      "('in', -3.9840646021421014e-06)\n"
     ]
    }
   ],
   "source": [
    "for i in range(num_classes):\n",
    "    print('\\nExplanation for class %s' % class_names[i])\n",
    "    print('\\n'.join(map(str, exp.as_list(label=i))))"
   ]
  },
  {
   "cell_type": "markdown",
   "metadata": {},
   "source": [
    "## Explain only top labels"
   ]
  },
  {
   "cell_type": "code",
   "execution_count": 21,
   "metadata": {},
   "outputs": [
    {
     "name": "stdout",
     "output_type": "stream",
     "text": [
      "[1, 3]\n"
     ]
    }
   ],
   "source": [
    "top_labels = 2\n",
    "exp = explainer.explain_instance(X[idx], nb.predict_proba, num_features=num_features, top_labels=top_labels)\n",
    "best_labels = exp.available_labels()\n",
    "print(best_labels)"
   ]
  },
  {
   "cell_type": "code",
   "execution_count": 22,
   "metadata": {},
   "outputs": [
    {
     "name": "stdout",
     "output_type": "stream",
     "text": [
      "\n",
      "Explanation for class cf\n",
      "('num', -0.15117049486635706)\n",
      "('cash', 0.05936382537344393)\n",
      "('from', 0.03550797742880096)\n",
      "('decrease', 0.03483541604583637)\n",
      "('of', 0.03413185213918625)\n",
      "('increase', 0.02792380204068949)\n",
      "('the', 0.024796607970090635)\n",
      "('equivalents', 0.023912633140612195)\n",
      "('activities', 0.022071553635151158)\n",
      "('investments', 0.019769014386792367)\n",
      "('used', 0.01925630984431086)\n",
      "('operating', 0.018432800140705443)\n",
      "('flow', 0.018009048772780666)\n",
      "('borrowings', 0.01789670189417865)\n",
      "('investing', 0.017251424382359708)\n",
      "('exchange', 0.016604447228832152)\n",
      "('period', 0.015983368576619687)\n",
      "('net', 0.015628913531493958)\n",
      "('numst', 0.015620612598478623)\n",
      "('on', 0.015550632471639498)\n",
      "\n",
      "Explanation for class is\n",
      "('num', 0.07257413408978819)\n",
      "('cash', -0.026194053338074157)\n",
      "('decrease', -0.020658953394087253)\n",
      "('from', -0.01615981972411156)\n",
      "('of', -0.015920901871147905)\n",
      "('increase', -0.01479148625753964)\n",
      "('assets', -0.01303241925933619)\n",
      "('equivalents', -0.012801162947438865)\n",
      "('investing', -0.011682546794777742)\n",
      "('investments', -0.011080213282314474)\n",
      "('activities', -0.009614274273038037)\n",
      "('current', -0.009567884552102147)\n",
      "('the', -0.00950191585823048)\n",
      "('flow', -0.009270267509993857)\n",
      "('used', -0.00926184595923214)\n",
      "('equipment', -0.008766026952127557)\n",
      "('borrowings', -0.008684199982080766)\n",
      "('sale', -0.008531501958628306)\n",
      "('operating', -0.00811986227597173)\n",
      "('share', -0.007558375887342372)\n"
     ]
    }
   ],
   "source": [
    "for i in best_labels:\n",
    "    print('\\nExplanation for class %s' % class_names[i])\n",
    "    print('\\n'.join(map(str, exp.as_list(label=i))))"
   ]
  },
  {
   "cell_type": "code",
   "execution_count": 23,
   "metadata": {},
   "outputs": [
    {
     "data": {
      "image/png": "[encoded data removed]",
      "text/plain": [
       "<matplotlib.figure.Figure at 0x1167eac18>"
      ]
     },
     "metadata": {},
     "output_type": "display_data"
    },
    {
     "data": {
      "image/png": "[encoded data removed]",
      "text/plain": [
       "<matplotlib.figure.Figure at 0x10a12b198>"
      ]
     },
     "metadata": {},
     "output_type": "display_data"
    }
   ],
   "source": [
    "plt.rcParams[\"figure.figsize\"] = (5, 8)\n",
    "\n",
    "for i in best_labels:\n",
    "    fig = exp.as_pyplot_figure(label=i)"
   ]
  },
  {
   "cell_type": "code",
   "execution_count": 25,
   "metadata": {},
   "outputs": [],
   "source": [
    "# exp.show_in_notebook(labels=1)"
   ]
  },
  {
   "cell_type": "code",
   "execution_count": null,
   "metadata": {},
   "outputs": [],
   "source": []
  },
  {
   "cell_type": "code",
   "execution_count": null,
   "metadata": {},
   "outputs": [],
   "source": []
  },
  {
   "cell_type": "code",
   "execution_count": null,
   "metadata": {},
   "outputs": [],
   "source": []
  },
  {
   "cell_type": "code",
   "execution_count": null,
   "metadata": {},
   "outputs": [],
   "source": []
  },
  {
   "cell_type": "code",
   "execution_count": null,
   "metadata": {},
   "outputs": [],
   "source": []
  },
  {
   "cell_type": "code",
   "execution_count": null,
   "metadata": {},
   "outputs": [],
   "source": []
  }
 ],
 "metadata": {
  "kernelspec": {
   "display_name": "Python 3",
   "language": "python",
   "name": "python3"
  },
  "language_info": {
   "codemirror_mode": {
    "name": "ipython",
    "version": 3
   },
   "file_extension": ".py",
   "mimetype": "text/x-python",
   "name": "python",
   "nbconvert_exporter": "python",
   "pygments_lexer": "ipython3",
   "version": "3.6.2"
  }
 },
 "nbformat": 4,
 "nbformat_minor": 2
}
