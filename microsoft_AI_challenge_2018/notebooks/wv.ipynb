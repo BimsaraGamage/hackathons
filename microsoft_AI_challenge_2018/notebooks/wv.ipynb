{
 "cells": [
  {
   "cell_type": "code",
   "execution_count": 11,
   "metadata": {},
   "outputs": [],
   "source": [
    "import re, os\n",
    "from multiprocessing.dummy import Pool\n",
    "\n",
    "import numpy as np\n",
    "import pandas as pd\n",
    "from tqdm import tqdm\n",
    "from nltk import word_tokenize\n",
    "from nltk import download\n",
    "from nltk.corpus import stopwords\n",
    "from scipy import spatial\n",
    "\n",
    "# download('punkt') #tokenizer, run once\n",
    "# download('stopwords') #stopwords dictionary, run once\n",
    "\n",
    "np.random.seed = 0\n",
    "\n",
    "pd.set_option('display.max_rows', 500)\n",
    "pd.set_option('display.max_columns', 500)\n",
    "pd.set_option('display.width', 1000)\n",
    "pd.set_option('max_colwidth', 1000)\n",
    "pd.set_option('display.expand_frame_repr', False)\n",
    "\n",
    "os.chdir(r'C:\\Users\\pbhavsa\\OneDrive - MORNINGSTAR INC\\git\\msai')"
   ]
  },
  {
   "cell_type": "code",
   "execution_count": 14,
   "metadata": {},
   "outputs": [
    {
     "data": {
      "text/html": [
       "<div>\n",
       "<style scoped>\n",
       "    .dataframe tbody tr th:only-of-type {\n",
       "        vertical-align: middle;\n",
       "    }\n",
       "\n",
       "    .dataframe tbody tr th {\n",
       "        vertical-align: top;\n",
       "    }\n",
       "\n",
       "    .dataframe thead th {\n",
       "        text-align: right;\n",
       "    }\n",
       "</style>\n",
       "<table border=\"1\" class=\"dataframe\">\n",
       "  <thead>\n",
       "    <tr style=\"text-align: right;\">\n",
       "      <th></th>\n",
       "      <th>0</th>\n",
       "      <th>1</th>\n",
       "      <th>2</th>\n",
       "      <th>3</th>\n",
       "      <th>4</th>\n",
       "    </tr>\n",
       "  </thead>\n",
       "  <tbody>\n",
       "    <tr>\n",
       "      <th>0</th>\n",
       "      <td>100126</td>\n",
       "      <td>how do i achieve my sphr certificate</td>\n",
       "      <td>Applications can be completed online at the Human Resources Certification Institutes website. The cost of the SPHR Certification exam itself is $425, but depending on your method of preparation, total costs can vary.</td>\n",
       "      <td>0</td>\n",
       "      <td>7</td>\n",
       "    </tr>\n",
       "    <tr>\n",
       "      <th>1</th>\n",
       "      <td>100075</td>\n",
       "      <td>how much fat is in a bubba burger</td>\n",
       "      <td>Meat and meat products. Beef. Bubba Burgers, Gluten Free, Original (32 oz.) Bubba Burgers, Gluten Free, Original (32 oz.) FREE: You can’t exercise your way out of a bad diet. FoodFacts shows you how to. change the way you eat, by showing you what's in the food you're eating. Allergens &amp; Ingredients 1 Allergic.</td>\n",
       "      <td>0</td>\n",
       "      <td>9</td>\n",
       "    </tr>\n",
       "    <tr>\n",
       "      <th>2</th>\n",
       "      <td>1004</td>\n",
       "      <td>do spiders eat other animals</td>\n",
       "      <td>Spider - Description. 1  1: pedipalp 2: trichobothria 3: carapace of prosoma (cephalothorax) 2  15: sternum of prosoma 16: pedicel (also called pedicle) 3  Spiders are chelicerates and therefore arthropods. 4  Spiders and scorpions are members of one chelicerate group, the arachnids.</td>\n",
       "      <td>0</td>\n",
       "      <td>5</td>\n",
       "    </tr>\n",
       "    <tr>\n",
       "      <th>3</th>\n",
       "      <td>100490</td>\n",
       "      <td>definition of chiropractic</td>\n",
       "      <td>chiropractic [(keye-ruh-prak-tik)] A system of treating disease and musculoskeletal disorders that involves manipulation of the backbone and other body parts. In chiropractic, disorders of the nerves are considered the cause of illness.</td>\n",
       "      <td>0</td>\n",
       "      <td>7</td>\n",
       "    </tr>\n",
       "    <tr>\n",
       "      <th>4</th>\n",
       "      <td>10283</td>\n",
       "      <td>the ________ is divided into the parasympathetic nervous system and the sympathetic nervous system.</td>\n",
       "      <td>What is the sympathetic nervous system? The sympathetic nervous system, also part of the autonomic nervous system, originates in the spinal cord; specifically in the thoracic and lumbar regions. It controls the body's fight or flight responses, or how the body reacts to perceived danger. Sympathetic vs Parasympathetic Responses</td>\n",
       "      <td>0</td>\n",
       "      <td>3</td>\n",
       "    </tr>\n",
       "  </tbody>\n",
       "</table>\n",
       "</div>"
      ],
      "text/plain": [
       "        0                                                                                                    1                                                                                                                                                                                                                                                                                                                                          2  3  4\n",
       "0  100126                                                                 how do i achieve my sphr certificate                                                                                                                   Applications can be completed online at the Human Resources Certification Institutes website. The cost of the SPHR Certification exam itself is $425, but depending on your method of preparation, total costs can vary.  0  7\n",
       "1  100075                                                                    how much fat is in a bubba burger                    Meat and meat products. Beef. Bubba Burgers, Gluten Free, Original (32 oz.) Bubba Burgers, Gluten Free, Original (32 oz.) FREE: You can’t exercise your way out of a bad diet. FoodFacts shows you how to. change the way you eat, by showing you what's in the food you're eating. Allergens & Ingredients 1 Allergic.  0  9\n",
       "2    1004                                                                         do spiders eat other animals                                               Spider - Description. 1  1: pedipalp 2: trichobothria 3: carapace of prosoma (cephalothorax) 2  15: sternum of prosoma 16: pedicel (also called pedicle) 3  Spiders are chelicerates and therefore arthropods. 4  Spiders and scorpions are members of one chelicerate group, the arachnids.  0  5\n",
       "3  100490                                                                           definition of chiropractic                                                                                               chiropractic [(keye-ruh-prak-tik)] A system of treating disease and musculoskeletal disorders that involves manipulation of the backbone and other body parts. In chiropractic, disorders of the nerves are considered the cause of illness.  0  7\n",
       "4   10283  the ________ is divided into the parasympathetic nervous system and the sympathetic nervous system.  What is the sympathetic nervous system? The sympathetic nervous system, also part of the autonomic nervous system, originates in the spinal cord; specifically in the thoracic and lumbar regions. It controls the body's fight or flight responses, or how the body reacts to perceived danger. Sympathetic vs Parasympathetic Responses  0  3"
      ]
     },
     "execution_count": 14,
     "metadata": {},
     "output_type": "execute_result"
    }
   ],
   "source": [
    "df = pd.read_csv('data/data_p.tsv', sep='\\t', header=None)\n",
    "df.head()"
   ]
  },
  {
   "cell_type": "code",
   "execution_count": 171,
   "metadata": {},
   "outputs": [],
   "source": [
    "#Initialize Global variables\n",
    "GloveEmbeddings = {}\n",
    "max_query_words = 12\n",
    "max_passage_words = 50\n",
    "emb_dim = 300\n",
    "embeddingFileName = \"glove.6B/glove.6B.%sd.txt\"%emb_dim\n",
    "\n",
    "stop_words = stopwords.words('english')\n",
    "\n",
    "inputfile = 'data/data_p.tsv'\n",
    "trainFileName = \"data/traindata.tsv\"\n",
    "validationFileName = \"data/validationdata.tsv\"\n",
    "EvaluationFileName = \"data/eval1_unlabelled.tsv\""
   ]
  },
  {
   "cell_type": "code",
   "execution_count": 220,
   "metadata": {},
   "outputs": [],
   "source": [
    "def preprocess(text):\n",
    "    text = text.lower()\n",
    "    doc = word_tokenize(text)\n",
    "    doc = [word for word in doc if word not in stop_words]\n",
    "    doc = [word for word in doc if word.isalpha()] #restricts string to alphabetic characters only\n",
    "    return doc\n",
    "\n",
    "def loadEmbeddings(embeddingfile):\n",
    "    global GloveEmbeddings,emb_dim\n",
    "\n",
    "    fe = open(embeddingfile,\"r\",encoding=\"utf-8\",errors=\"ignore\")\n",
    "    for line in fe:\n",
    "        tokens= line.strip().split()\n",
    "        word = tokens[0]\n",
    "        vec = tokens[1:]\n",
    "        vec = \" \".join(vec)\n",
    "        GloveEmbeddings[word]=vec\n",
    "    #Add Zerovec, this will be useful to pad zeros, it is better to experiment with padding any non-zero constant values also.\n",
    "    GloveEmbeddings[\"zerovec\"] = \"0.0 \"*emb_dim\n",
    "    fe.close()\n",
    "    \n",
    "def get_average_wv(words):\n",
    "    feature_vector = []\n",
    "    for word in words:\n",
    "        if(word in GloveEmbeddings):\n",
    "            vec = [float(v) for v in GloveEmbeddings[word].strip().split()]\n",
    "            feature_vector.append(vec)\n",
    "        else:\n",
    "            vec = [float(v) for v in GloveEmbeddings[\"zerovec\"].strip().split()]\n",
    "            feature_vector.append(vec)\n",
    "    return np.average(feature_vector, axis=0)"
   ]
  },
  {
   "cell_type": "code",
   "execution_count": 173,
   "metadata": {},
   "outputs": [
    {
     "data": {
      "text/plain": [
       "['meat',\n",
       " 'meat',\n",
       " 'products',\n",
       " 'beef',\n",
       " 'bubba',\n",
       " 'burgers',\n",
       " 'gluten',\n",
       " 'free',\n",
       " 'original',\n",
       " 'oz',\n",
       " 'bubba',\n",
       " 'burgers',\n",
       " 'gluten',\n",
       " 'free',\n",
       " 'original',\n",
       " 'oz',\n",
       " 'free',\n",
       " 'exercise',\n",
       " 'way',\n",
       " 'bad',\n",
       " 'diet',\n",
       " 'foodfacts',\n",
       " 'shows',\n",
       " 'change',\n",
       " 'way',\n",
       " 'eat',\n",
       " 'showing',\n",
       " 'food',\n",
       " 'eating',\n",
       " 'allergens',\n",
       " 'ingredients',\n",
       " 'allergic']"
      ]
     },
     "execution_count": 173,
     "metadata": {},
     "output_type": "execute_result"
    }
   ],
   "source": [
    "text = df.iloc[1,2]\n",
    "preprocess(text)"
   ]
  },
  {
   "cell_type": "code",
   "execution_count": 174,
   "metadata": {},
   "outputs": [],
   "source": [
    "loadEmbeddings(embeddingFileName)\n",
    "# get_average_wv(['how', 'are', 'you'])"
   ]
  },
  {
   "cell_type": "code",
   "execution_count": 175,
   "metadata": {},
   "outputs": [],
   "source": [
    "def TextDataToWV(inputfile):\n",
    "    global GloveEmbeddings,emb_dim,max_query_words,max_passage_words\n",
    "    \n",
    "    f = open(inputfile,\"r\",encoding=\"utf-8\",errors=\"ignore\")  # Format of the file : query_id \\t query \\t passage \\t label \\t passage_id \n",
    "    n_lines = sum(1 for row in f)\n",
    "    f = open(inputfile,\"r\",encoding=\"utf-8\",errors=\"ignore\")\n",
    "    print(n_lines)\n",
    "    query_vectors = np.zeros((n_lines, emb_dim), dtype=np.float32)\n",
    "    passage_vectors = np.zeros((n_lines, emb_dim), dtype=np.float32)\n",
    "    \n",
    "    i=0\n",
    "    for line in tqdm(f):\n",
    "        tokens = line.strip().lower().split(\"\\t\")\n",
    "        query_id,query,passage,label = tokens[0],tokens[1],tokens[2],tokens[3]\n",
    "\n",
    "        #****Query Processing****\n",
    "#         words = re.split('\\W+', query)\n",
    "#         words = [x for x in words if x] # to remove empty words\n",
    "        words = preprocess(query)\n",
    "        word_count = len(words)\n",
    "        remaining = max_query_words - word_count\n",
    "        if(remaining>0):\n",
    "            words += [\"zerovec\"]*remaining # Pad zero vecs if the word count is less than max_query_words\n",
    "        words = words[:max_query_words] # trim extra words\n",
    "        #create Query Feature vector\n",
    "        query_feature_vector = get_average_wv(words)\n",
    "        query_vectors[i,:] = query_feature_vector \n",
    "        \n",
    "        #***** Passage Processing **********\n",
    "#         words = re.split('\\W+', passage)\n",
    "#         words = [x for x in words if x] # to remove empty words\n",
    "        words = preprocess(passage)\n",
    "        word_count = len(words)\n",
    "        remaining = max_passage_words - word_count\n",
    "        if(remaining>0):\n",
    "            words += [\"zerovec\"]*remaining # Pad zero vecs if the word count is less than max_passage_words\n",
    "        words = words[:max_passage_words] # trim extra words\n",
    "        #create Passage Feature vector\n",
    "        passage_feature_vector = get_average_wv(words)\n",
    "        passage_vectors[i,:] = passage_feature_vector\n",
    "        i+=1\n",
    "    \n",
    "    f.close()    \n",
    "     \n",
    "    np.save('data/query_vectors', query_vectors)\n",
    "    np.save('data/passage_vectors', passage_vectors)"
   ]
  },
  {
   "cell_type": "code",
   "execution_count": 176,
   "metadata": {},
   "outputs": [],
   "source": [
    "# TextDataToWV(inputfile)"
   ]
  },
  {
   "cell_type": "code",
   "execution_count": 177,
   "metadata": {},
   "outputs": [
    {
     "data": {
      "text/plain": [
       "array([[-7.72671700e-02,  1.33255005e-01,  9.02333297e-03,\n",
       "        -7.70941675e-02,  7.58008361e-02,  1.72386672e-02,\n",
       "         3.05008329e-02, -5.26166670e-02,  1.49550006e-01,\n",
       "         8.28561634e-02,  1.40221670e-01,  5.81533350e-02,\n",
       "         3.75550017e-02, -6.95841685e-02, -1.55074997e-02,\n",
       "         4.92458344e-02, -1.14083337e-02,  1.57451667e-02,\n",
       "         8.12449977e-02, -4.87955846e-02,  4.62933332e-02,\n",
       "         4.21416685e-02, -4.47116680e-02, -9.65033323e-02,\n",
       "         4.80137505e-02, -1.34985000e-01, -8.72633308e-02,\n",
       "        -1.46935835e-01, -6.41416665e-03,  2.81416662e-02,\n",
       "         3.87683332e-01,  7.53149986e-02, -2.05016673e-01,\n",
       "        -5.38025014e-02,  1.44632503e-01, -3.01900003e-02,\n",
       "         1.09588332e-01,  7.19183311e-02, -3.43233347e-02,\n",
       "        -1.04147501e-01,  3.09166673e-04, -1.88608333e-01,\n",
       "         2.36416664e-02,  3.53191681e-02, -1.49660841e-01,\n",
       "        -1.05861664e-01,  6.53624982e-02,  1.40525833e-01,\n",
       "         7.68377036e-02,  6.98000006e-03]], dtype=float32)"
      ]
     },
     "execution_count": 177,
     "metadata": {},
     "output_type": "execute_result"
    }
   ],
   "source": [
    "query_vectors = np.load('data/query_vectors.npy')\n",
    "a[:1]"
   ]
  },
  {
   "cell_type": "code",
   "execution_count": 178,
   "metadata": {},
   "outputs": [
    {
     "data": {
      "text/plain": [
       "array([[ 5.2754842e-02,  2.4805017e-02,  6.0253602e-02, -1.6258260e-02,\n",
       "        -3.8344037e-02,  1.2528920e-02, -5.3626139e-02, -1.7626020e-01,\n",
       "         2.8071639e-01,  3.2800280e-02,  7.9087563e-02, -5.4271478e-02,\n",
       "         1.1345578e-01, -8.1654683e-02,  1.0957960e-01, -2.1444101e-02,\n",
       "        -4.9717382e-02,  2.1745481e-02,  2.7835939e-02, -1.4682667e-01,\n",
       "         1.5809610e-01, -7.6202601e-02,  3.8391132e-02, -4.5927040e-02,\n",
       "        -6.9674239e-03, -2.1974353e-01, -9.0616062e-02, -1.7701054e-01,\n",
       "        -5.2986581e-02,  5.3307880e-02,  9.4379401e-01,  4.0093000e-04,\n",
       "        -1.2065554e-01, -1.9842941e-01,  6.9153823e-02,  5.6132529e-02,\n",
       "         1.1889410e-01,  1.8512060e-01,  4.5860078e-02, -5.5571720e-02,\n",
       "         1.1778220e-02, -1.5297364e-01,  9.6865021e-02,  2.0596980e-01,\n",
       "        -1.3228372e-01, -6.8142161e-02,  9.1977268e-02,  2.3333991e-01,\n",
       "         4.2583983e-02,  6.6842481e-02]], dtype=float32)"
      ]
     },
     "execution_count": 178,
     "metadata": {},
     "output_type": "execute_result"
    }
   ],
   "source": [
    "passage_vectors = np.load('data/passage_vectors.npy')\n",
    "a[:1]"
   ]
  },
  {
   "cell_type": "code",
   "execution_count": 186,
   "metadata": {},
   "outputs": [
    {
     "data": {
      "text/plain": [
       "array([100126, 100075,   1004, 100490,  10283,  10726, 100798, 100744,\n",
       "       100724, 100164, 100819, 100341,  10682,  10220,  10161,  10432,\n",
       "       100107, 100941, 100694, 100762, 100825, 100555,  10691, 100855,\n",
       "        10603,  10027,  10349, 100870, 100734, 101075, 101073, 101006,\n",
       "       100024,  10372, 100172,  10651,  10652,  10391, 100849,  10143,\n",
       "       100390, 100977,  10709,  10052, 100869, 100163, 100542,  10335,\n",
       "       100636,  10159], dtype=int64)"
      ]
     },
     "execution_count": 186,
     "metadata": {},
     "output_type": "execute_result"
    }
   ],
   "source": [
    "df.iloc[:,0][:50].values"
   ]
  },
  {
   "cell_type": "code",
   "execution_count": 269,
   "metadata": {},
   "outputs": [
    {
     "data": {
      "text/html": [
       "<div>\n",
       "<style scoped>\n",
       "    .dataframe tbody tr th:only-of-type {\n",
       "        vertical-align: middle;\n",
       "    }\n",
       "\n",
       "    .dataframe tbody tr th {\n",
       "        vertical-align: top;\n",
       "    }\n",
       "\n",
       "    .dataframe thead th {\n",
       "        text-align: right;\n",
       "    }\n",
       "</style>\n",
       "<table border=\"1\" class=\"dataframe\">\n",
       "  <thead>\n",
       "    <tr style=\"text-align: right;\">\n",
       "      <th></th>\n",
       "      <th>index</th>\n",
       "      <th>query_id</th>\n",
       "      <th>query</th>\n",
       "      <th>passage_text</th>\n",
       "      <th>label</th>\n",
       "      <th>passage_id</th>\n",
       "      <th>cs</th>\n",
       "    </tr>\n",
       "  </thead>\n",
       "  <tbody>\n",
       "    <tr>\n",
       "      <th>0</th>\n",
       "      <td>6</td>\n",
       "      <td>100798</td>\n",
       "      <td>how long before a bearded dragon starts to grow</td>\n",
       "      <td>The average is 15 to 18 inches - however, there are exceptions.</td>\n",
       "      <td>0</td>\n",
       "      <td>9</td>\n",
       "      <td>0</td>\n",
       "    </tr>\n",
       "    <tr>\n",
       "      <th>1</th>\n",
       "      <td>921</td>\n",
       "      <td>100798</td>\n",
       "      <td>how long before a bearded dragon starts to grow</td>\n",
       "      <td>Bearded dragons reach sexual maturity between the ages of 8 months and 18 months. Determining the gender of your bearded dragon before maturity isn't easy. When grown, males are larger than females, with notably bigger heads.</td>\n",
       "      <td>1</td>\n",
       "      <td>4</td>\n",
       "      <td>0</td>\n",
       "    </tr>\n",
       "    <tr>\n",
       "      <th>2</th>\n",
       "      <td>294742</td>\n",
       "      <td>100798</td>\n",
       "      <td>cost of access card</td>\n",
       "      <td>HID 1326 ProxCard II is the value-priced industry choice for prox card access control. Designed for 125 kHz access control, HID 1326 ProxCard II offers 26 bits standard, more than 137 million possible codes, up to 24” read range, and a vertical clamshell card format.</td>\n",
       "      <td>0</td>\n",
       "      <td>9</td>\n",
       "      <td>0</td>\n",
       "    </tr>\n",
       "    <tr>\n",
       "      <th>3</th>\n",
       "      <td>295345</td>\n",
       "      <td>100798</td>\n",
       "      <td>cost of access card</td>\n",
       "      <td>Card Access Control Average Costs. Expect to pay an average of $1,500 to $2,500 per door for a high quality system for up to 150 people. If you’re looking for a card access service that will service 150+ employees and have two to three access doors it will cost upwards of $2,500 to $3,500.</td>\n",
       "      <td>1</td>\n",
       "      <td>0</td>\n",
       "      <td>0</td>\n",
       "    </tr>\n",
       "    <tr>\n",
       "      <th>4</th>\n",
       "      <td>295608</td>\n",
       "      <td>100798</td>\n",
       "      <td>cost of access card</td>\n",
       "      <td>HID 1326 ProxCard II is the value-priced industry choice for prox card access control. Designed for 125 kHz access control, HID 1326 ProxCard II offers 26 bits standard, more than 137 million possible codes, up to 24” read range, and a vertical clamshell card format. Standard 26-Bit/H10301 Format.</td>\n",
       "      <td>0</td>\n",
       "      <td>8</td>\n",
       "      <td>0</td>\n",
       "    </tr>\n",
       "  </tbody>\n",
       "</table>\n",
       "</div>"
      ],
      "text/plain": [
       "    index  query_id                                            query                                                                                                                                                                                                                                                                                                passage_text  label  passage_id  cs\n",
       "0       6    100798  how long before a bearded dragon starts to grow                                                                                                                                                                                                                                             The average is 15 to 18 inches - however, there are exceptions.      0           9   0\n",
       "1     921    100798  how long before a bearded dragon starts to grow                                                                           Bearded dragons reach sexual maturity between the ages of 8 months and 18 months. Determining the gender of your bearded dragon before maturity isn't easy. When grown, males are larger than females, with notably bigger heads.      1           4   0\n",
       "2  294742    100798                              cost of access card                                 HID 1326 ProxCard II is the value-priced industry choice for prox card access control. Designed for 125 kHz access control, HID 1326 ProxCard II offers 26 bits standard, more than 137 million possible codes, up to 24” read range, and a vertical clamshell card format.      0           9   0\n",
       "3  295345    100798                              cost of access card          Card Access Control Average Costs. Expect to pay an average of $1,500 to $2,500 per door for a high quality system for up to 150 people. If you’re looking for a card access service that will service 150+ employees and have two to three access doors it will cost upwards of $2,500 to $3,500.      1           0   0\n",
       "4  295608    100798                              cost of access card  HID 1326 ProxCard II is the value-priced industry choice for prox card access control. Designed for 125 kHz access control, HID 1326 ProxCard II offers 26 bits standard, more than 137 million possible codes, up to 24” read range, and a vertical clamshell card format. Standard 26-Bit/H10301 Format.      0           8   0"
      ]
     },
     "execution_count": 269,
     "metadata": {},
     "output_type": "execute_result"
    }
   ],
   "source": [
    "# wrong 10161 100490 10283\n",
    "id = 100798\n",
    "df_t = df[df.iloc[:, 0] == id].reset_index()\n",
    "df_t = df_t.rename({0:'query_id',1:'query', 2:'passage_text', 3:'label', 4:'passage_id'}, axis=1)\n",
    "df_t['cs'] = 0\n",
    "df_t"
   ]
  },
  {
   "cell_type": "code",
   "execution_count": 270,
   "metadata": {},
   "outputs": [],
   "source": [
    "def cosine_similarity(row):\n",
    "    q = get_average_wv(preprocess(row['query']))\n",
    "    a = get_average_wv(preprocess(row['passage_text']))\n",
    "    return 1 - spatial.distance.cosine(q,a)"
   ]
  },
  {
   "cell_type": "code",
   "execution_count": 271,
   "metadata": {},
   "outputs": [
    {
     "data": {
      "text/html": [
       "<div>\n",
       "<style scoped>\n",
       "    .dataframe tbody tr th:only-of-type {\n",
       "        vertical-align: middle;\n",
       "    }\n",
       "\n",
       "    .dataframe tbody tr th {\n",
       "        vertical-align: top;\n",
       "    }\n",
       "\n",
       "    .dataframe thead th {\n",
       "        text-align: right;\n",
       "    }\n",
       "</style>\n",
       "<table border=\"1\" class=\"dataframe\">\n",
       "  <thead>\n",
       "    <tr style=\"text-align: right;\">\n",
       "      <th></th>\n",
       "      <th>index</th>\n",
       "      <th>query_id</th>\n",
       "      <th>query</th>\n",
       "      <th>passage_text</th>\n",
       "      <th>label</th>\n",
       "      <th>passage_id</th>\n",
       "      <th>cs</th>\n",
       "    </tr>\n",
       "  </thead>\n",
       "  <tbody>\n",
       "    <tr>\n",
       "      <th>0</th>\n",
       "      <td>6</td>\n",
       "      <td>100798</td>\n",
       "      <td>how long before a bearded dragon starts to grow</td>\n",
       "      <td>The average is 15 to 18 inches - however, there are exceptions.</td>\n",
       "      <td>0</td>\n",
       "      <td>9</td>\n",
       "      <td>0.392703</td>\n",
       "    </tr>\n",
       "    <tr>\n",
       "      <th>1</th>\n",
       "      <td>921</td>\n",
       "      <td>100798</td>\n",
       "      <td>how long before a bearded dragon starts to grow</td>\n",
       "      <td>Bearded dragons reach sexual maturity between the ages of 8 months and 18 months. Determining the gender of your bearded dragon before maturity isn't easy. When grown, males are larger than females, with notably bigger heads.</td>\n",
       "      <td>1</td>\n",
       "      <td>4</td>\n",
       "      <td>0.691843</td>\n",
       "    </tr>\n",
       "    <tr>\n",
       "      <th>2</th>\n",
       "      <td>294742</td>\n",
       "      <td>100798</td>\n",
       "      <td>cost of access card</td>\n",
       "      <td>HID 1326 ProxCard II is the value-priced industry choice for prox card access control. Designed for 125 kHz access control, HID 1326 ProxCard II offers 26 bits standard, more than 137 million possible codes, up to 24” read range, and a vertical clamshell card format.</td>\n",
       "      <td>0</td>\n",
       "      <td>9</td>\n",
       "      <td>0.787717</td>\n",
       "    </tr>\n",
       "    <tr>\n",
       "      <th>3</th>\n",
       "      <td>295345</td>\n",
       "      <td>100798</td>\n",
       "      <td>cost of access card</td>\n",
       "      <td>Card Access Control Average Costs. Expect to pay an average of $1,500 to $2,500 per door for a high quality system for up to 150 people. If you’re looking for a card access service that will service 150+ employees and have two to three access doors it will cost upwards of $2,500 to $3,500.</td>\n",
       "      <td>1</td>\n",
       "      <td>0</td>\n",
       "      <td>0.855234</td>\n",
       "    </tr>\n",
       "    <tr>\n",
       "      <th>4</th>\n",
       "      <td>295608</td>\n",
       "      <td>100798</td>\n",
       "      <td>cost of access card</td>\n",
       "      <td>HID 1326 ProxCard II is the value-priced industry choice for prox card access control. Designed for 125 kHz access control, HID 1326 ProxCard II offers 26 bits standard, more than 137 million possible codes, up to 24” read range, and a vertical clamshell card format. Standard 26-Bit/H10301 Format.</td>\n",
       "      <td>0</td>\n",
       "      <td>8</td>\n",
       "      <td>0.772008</td>\n",
       "    </tr>\n",
       "  </tbody>\n",
       "</table>\n",
       "</div>"
      ],
      "text/plain": [
       "    index  query_id                                            query                                                                                                                                                                                                                                                                                                passage_text  label  passage_id        cs\n",
       "0       6    100798  how long before a bearded dragon starts to grow                                                                                                                                                                                                                                             The average is 15 to 18 inches - however, there are exceptions.      0           9  0.392703\n",
       "1     921    100798  how long before a bearded dragon starts to grow                                                                           Bearded dragons reach sexual maturity between the ages of 8 months and 18 months. Determining the gender of your bearded dragon before maturity isn't easy. When grown, males are larger than females, with notably bigger heads.      1           4  0.691843\n",
       "2  294742    100798                              cost of access card                                 HID 1326 ProxCard II is the value-priced industry choice for prox card access control. Designed for 125 kHz access control, HID 1326 ProxCard II offers 26 bits standard, more than 137 million possible codes, up to 24” read range, and a vertical clamshell card format.      0           9  0.787717\n",
       "3  295345    100798                              cost of access card          Card Access Control Average Costs. Expect to pay an average of $1,500 to $2,500 per door for a high quality system for up to 150 people. If you’re looking for a card access service that will service 150+ employees and have two to three access doors it will cost upwards of $2,500 to $3,500.      1           0  0.855234\n",
       "4  295608    100798                              cost of access card  HID 1326 ProxCard II is the value-priced industry choice for prox card access control. Designed for 125 kHz access control, HID 1326 ProxCard II offers 26 bits standard, more than 137 million possible codes, up to 24” read range, and a vertical clamshell card format. Standard 26-Bit/H10301 Format.      0           8  0.772008"
      ]
     },
     "execution_count": 271,
     "metadata": {},
     "output_type": "execute_result"
    }
   ],
   "source": [
    "df_t['cs'] = df_t.apply(lambda row: cosine_similarity(row), axis=1)\n",
    "df_t"
   ]
  },
  {
   "cell_type": "code",
   "execution_count": 272,
   "metadata": {},
   "outputs": [],
   "source": [
    "# def num_replacer(x):\n",
    "#     return re.sub(r'[0-9\\,]+', 'number', x)\n",
    "#     return re.sub(r'[\\n()]+', ' ', x).lower()"
   ]
  },
  {
   "cell_type": "code",
   "execution_count": 274,
   "metadata": {},
   "outputs": [],
   "source": [
    "# t = 'There are 340- -calories in a 1 burger serving of Bubba Burger Sweet Onion Burger. Calorie breakdown: 70% fat, 2% carbs, 28% protein.\t'\n",
    "# num_replacer(t)"
   ]
  },
  {
   "cell_type": "code",
   "execution_count": null,
   "metadata": {},
   "outputs": [],
   "source": []
  },
  {
   "cell_type": "code",
   "execution_count": null,
   "metadata": {},
   "outputs": [],
   "source": []
  },
  {
   "cell_type": "code",
   "execution_count": null,
   "metadata": {},
   "outputs": [],
   "source": []
  }
 ],
 "metadata": {
  "kernelspec": {
   "display_name": "Python 3",
   "language": "python",
   "name": "python3"
  },
  "language_info": {
   "codemirror_mode": {
    "name": "ipython",
    "version": 3
   },
   "file_extension": ".py",
   "mimetype": "text/x-python",
   "name": "python",
   "nbconvert_exporter": "python",
   "pygments_lexer": "ipython3",
   "version": "3.6.7"
  }
 },
 "nbformat": 4,
 "nbformat_minor": 2
}
