{
 "cells": [
  {
   "cell_type": "code",
   "execution_count": 61,
   "metadata": {},
   "outputs": [],
   "source": [
    "from collections import Counter\n",
    "\n",
    "import pandas as pd\n",
    "import torch\n",
    "from torch.utils.data import WeightedRandomSampler, DataLoader"
   ]
  },
  {
   "cell_type": "code",
   "execution_count": 55,
   "metadata": {},
   "outputs": [],
   "source": []
  },
  {
   "cell_type": "code",
   "execution_count": 71,
   "metadata": {},
   "outputs": [
    {
     "data": {
      "text/html": [
       "<div>\n",
       "<style scoped>\n",
       "    .dataframe tbody tr th:only-of-type {\n",
       "        vertical-align: middle;\n",
       "    }\n",
       "\n",
       "    .dataframe tbody tr th {\n",
       "        vertical-align: top;\n",
       "    }\n",
       "\n",
       "    .dataframe thead th {\n",
       "        text-align: right;\n",
       "    }\n",
       "</style>\n",
       "<table border=\"1\" class=\"dataframe\">\n",
       "  <thead>\n",
       "    <tr style=\"text-align: right;\">\n",
       "      <th></th>\n",
       "      <th>0</th>\n",
       "      <th>1</th>\n",
       "      <th>2</th>\n",
       "      <th>3</th>\n",
       "      <th>4</th>\n",
       "    </tr>\n",
       "  </thead>\n",
       "  <tbody>\n",
       "    <tr>\n",
       "      <th>0</th>\n",
       "      <td>10582</td>\n",
       "      <td>time in dayton ohio now</td>\n",
       "      <td>Current Local Time: Dayton, Ohio is in the Eas...</td>\n",
       "      <td>1</td>\n",
       "      <td>0</td>\n",
       "    </tr>\n",
       "    <tr>\n",
       "      <th>1</th>\n",
       "      <td>10592</td>\n",
       "      <td>bryan orthopedic surgeon</td>\n",
       "      <td>Dr. Bryan Ming is an orthopedic surgeon in For...</td>\n",
       "      <td>1</td>\n",
       "      <td>0</td>\n",
       "    </tr>\n",
       "    <tr>\n",
       "      <th>2</th>\n",
       "      <td>100208</td>\n",
       "      <td>how much is a video editor?</td>\n",
       "      <td>500-800 a day freelance, mostly reality, in LA...</td>\n",
       "      <td>0</td>\n",
       "      <td>5</td>\n",
       "    </tr>\n",
       "    <tr>\n",
       "      <th>3</th>\n",
       "      <td>10546</td>\n",
       "      <td>ticket price for metallica concert</td>\n",
       "      <td>No matter what you're looking to spend, Vivid ...</td>\n",
       "      <td>1</td>\n",
       "      <td>6</td>\n",
       "    </tr>\n",
       "    <tr>\n",
       "      <th>4</th>\n",
       "      <td>100548</td>\n",
       "      <td>can you eat potatoes on a diet</td>\n",
       "      <td>Potato has about 100 calories in it, so if you...</td>\n",
       "      <td>0</td>\n",
       "      <td>4</td>\n",
       "    </tr>\n",
       "  </tbody>\n",
       "</table>\n",
       "</div>"
      ],
      "text/plain": [
       "        0                                   1  \\\n",
       "0   10582             time in dayton ohio now   \n",
       "1   10592            bryan orthopedic surgeon   \n",
       "2  100208         how much is a video editor?   \n",
       "3   10546  ticket price for metallica concert   \n",
       "4  100548      can you eat potatoes on a diet   \n",
       "\n",
       "                                                   2  3  4  \n",
       "0  Current Local Time: Dayton, Ohio is in the Eas...  1  0  \n",
       "1  Dr. Bryan Ming is an orthopedic surgeon in For...  1  0  \n",
       "2  500-800 a day freelance, mostly reality, in LA...  0  5  \n",
       "3  No matter what you're looking to spend, Vivid ...  1  6  \n",
       "4  Potato has about 100 calories in it, so if you...  0  4  "
      ]
     },
     "execution_count": 71,
     "metadata": {},
     "output_type": "execute_result"
    }
   ],
   "source": [
    "df = pd.read_csv('../data/bert/train.tsv', sep='\\t', header=None)\n",
    "df.head()"
   ]
  },
  {
   "cell_type": "code",
   "execution_count": 75,
   "metadata": {},
   "outputs": [
    {
     "data": {
      "text/plain": [
       "array([1, 1, 0, 1, 0, 0, 0, 1, 0, 1, 0, 1, 1, 0, 0, 1, 0, 0, 0, 1, 0, 1,\n",
       "       1, 0, 0, 0, 0, 1, 0, 1, 0, 1, 0, 0, 0, 1, 1, 0, 0, 1, 1, 1, 0, 0,\n",
       "       1, 0, 0, 1, 1, 0, 1, 1, 1, 0, 1, 1, 1, 0, 1, 0, 1, 1, 0, 0, 0, 1,\n",
       "       1, 1, 1, 1, 0, 0, 0, 1, 0, 1, 0, 1, 0, 0, 0, 1, 1, 1, 1, 0, 1, 0,\n",
       "       0, 1, 0, 1, 1, 0, 0], dtype=int64)"
      ]
     },
     "execution_count": 75,
     "metadata": {},
     "output_type": "execute_result"
    }
   ],
   "source": [
    "train_targets = df.iloc[:,3].values\n",
    "train_targets"
   ]
  },
  {
   "cell_type": "code",
   "execution_count": 76,
   "metadata": {},
   "outputs": [
    {
     "data": {
      "text/plain": [
       "Counter({1: 47, 0: 48})"
      ]
     },
     "execution_count": 76,
     "metadata": {},
     "output_type": "execute_result"
    }
   ],
   "source": [
    "Counter(train_targets)"
   ]
  },
  {
   "cell_type": "code",
   "execution_count": 81,
   "metadata": {},
   "outputs": [],
   "source": [
    "train_targets = [0, 0, 0, 0, 0, 0, 0, 0, 0, 1, \n",
    "                 0, 0, 0, 0, 0, 0, 0, 0, 0, 1,\n",
    "                 0, 0, 0, 0, 0, 0, 0, 0, 0, 1,\n",
    "                 0, 0, 0, 0, 0, 0, 0, 0, 0, 1,\n",
    "                 0, 0, 0, 0, 0, 0, 0, 0, 0, 1,\n",
    "                 0, 0, 0, 0, 0, 0, 0, 0, 0, 1, \n",
    "                 0, 0, 0, 0, 0, 0, 0, 0, 0, 1,\n",
    "                 0, 0, 0, 0, 0, 0, 0, 0, 0, 1,\n",
    "                 0, 0, 0, 0, 0, 0, 0, 0, 0, 1,\n",
    "                 0, 0, 0, 0, 0, 0, 0, 0, 0, 1]"
   ]
  },
  {
   "cell_type": "code",
   "execution_count": 86,
   "metadata": {},
   "outputs": [
    {
     "name": "stdout",
     "output_type": "stream",
     "text": [
      "[90, 10]\n",
      "tensor([0.0111, 0.1000])\n"
     ]
    }
   ],
   "source": [
    "count = Counter(train_targets)\n",
    "class_sample_counts =[0]*len(count)\n",
    "for k,v in count.items():\n",
    "    class_sample_counts[k] = v\n",
    "print(class_sample_counts)\n",
    "\n",
    "weights = 1. / torch.tensor(class_sample_counts, dtype=torch.float)\n",
    "print(weights)"
   ]
  },
  {
   "cell_type": "code",
   "execution_count": 89,
   "metadata": {},
   "outputs": [
    {
     "data": {
      "text/plain": [
       "tensor([0.0111, 0.0111, 0.0111, 0.0111, 0.0111, 0.0111, 0.0111, 0.0111, 0.0111,\n",
       "        0.1000, 0.0111, 0.0111, 0.0111, 0.0111, 0.0111, 0.0111, 0.0111, 0.0111,\n",
       "        0.0111, 0.1000, 0.0111, 0.0111, 0.0111, 0.0111, 0.0111, 0.0111, 0.0111,\n",
       "        0.0111, 0.0111, 0.1000, 0.0111, 0.0111, 0.0111, 0.0111, 0.0111, 0.0111,\n",
       "        0.0111, 0.0111, 0.0111, 0.1000, 0.0111, 0.0111, 0.0111, 0.0111, 0.0111,\n",
       "        0.0111, 0.0111, 0.0111, 0.0111, 0.1000, 0.0111, 0.0111, 0.0111, 0.0111,\n",
       "        0.0111, 0.0111, 0.0111, 0.0111, 0.0111, 0.1000, 0.0111, 0.0111, 0.0111,\n",
       "        0.0111, 0.0111, 0.0111, 0.0111, 0.0111, 0.0111, 0.1000, 0.0111, 0.0111,\n",
       "        0.0111, 0.0111, 0.0111, 0.0111, 0.0111, 0.0111, 0.0111, 0.1000, 0.0111,\n",
       "        0.0111, 0.0111, 0.0111, 0.0111, 0.0111, 0.0111, 0.0111, 0.0111, 0.1000,\n",
       "        0.0111, 0.0111, 0.0111, 0.0111, 0.0111, 0.0111, 0.0111, 0.0111, 0.0111,\n",
       "        0.1000])"
      ]
     },
     "execution_count": 89,
     "metadata": {},
     "output_type": "execute_result"
    }
   ],
   "source": [
    "samples_weights = weights[train_targets]\n",
    "samples_weights"
   ]
  },
  {
   "cell_type": "code",
   "execution_count": 87,
   "metadata": {},
   "outputs": [],
   "source": [
    "sampler = WeightedRandomSampler(\n",
    "    weights=samples_weights,\n",
    "    num_samples=len(samples_weights),\n",
    "    replacement=True)\n",
    "\n",
    "train_data = ['x', 'x', 'x', 'x', 'x', 'x', 'x', 'x', 'x', '1',\n",
    "             'x', 'x', 'x', 'x', 'x', 'x', 'x', 'x', 'x', '2',\n",
    "             'x', 'x', 'x', 'x', 'x', 'x', 'x', 'x', 'x', '3',\n",
    "             'x', 'x', 'x', 'x', 'x', 'x', 'x', 'x', 'x', '4',\n",
    "             'x', 'x', 'x', 'x', 'x', 'x', 'x', 'x', 'x', '5',\n",
    "             'x', 'x', 'x', 'x', 'x', 'x', 'x', 'x', 'x', '6',\n",
    "             'x', 'x', 'x', 'x', 'x', 'x', 'x', 'x', 'x', '7',\n",
    "             'x', 'x', 'x', 'x', 'x', 'x', 'x', 'x', 'x', '8',\n",
    "             'x', 'x', 'x', 'x', 'x', 'x', 'x', 'x', 'x', '9',\n",
    "             'x', 'x', 'x', 'x', 'x', 'x', 'x', 'x', 'x', '10']\n",
    "\n",
    "train_dataloader = DataLoader(train_data, sampler=sampler, batch_size=10)"
   ]
  },
  {
   "cell_type": "code",
   "execution_count": 88,
   "metadata": {},
   "outputs": [
    {
     "name": "stdout",
     "output_type": "stream",
     "text": [
      "['1', 'x', '6', '3', 'x', 'x', '10', 'x', '3', '8']\n",
      "['x', '4', '8', '1', 'x', 'x', '6', 'x', '3', '6']\n",
      "['2', '1', 'x', '6', '5', '7', 'x', 'x', 'x', '6']\n",
      "['x', '5', '7', 'x', 'x', '6', '1', '2', 'x', 'x']\n",
      "['x', 'x', '8', 'x', '9', '9', '10', '4', '9', 'x']\n",
      "['x', 'x', '6', '9', 'x', '1', '6', '2', '6', '8']\n",
      "['3', 'x', '4', 'x', '5', 'x', 'x', 'x', '9', 'x']\n",
      "['10', '7', 'x', 'x', 'x', '3', 'x', 'x', 'x', '1']\n",
      "['2', '5', 'x', '5', 'x', '6', '3', 'x', '3', '3']\n",
      "['1', '3', '6', '6', '10', 'x', 'x', 'x', '1', 'x']\n"
     ]
    }
   ],
   "source": [
    "for s in train_dataloader:\n",
    "    print(s)"
   ]
  },
  {
   "cell_type": "markdown",
   "metadata": {},
   "source": [
    "### Conclusion: RandomWeightSampler oversamples to make training batches balanced"
   ]
  },
  {
   "cell_type": "code",
   "execution_count": null,
   "metadata": {},
   "outputs": [],
   "source": []
  },
  {
   "cell_type": "code",
   "execution_count": null,
   "metadata": {},
   "outputs": [],
   "source": []
  }
 ],
 "metadata": {
  "kernelspec": {
   "display_name": "Python 3",
   "language": "python",
   "name": "python3"
  },
  "language_info": {
   "codemirror_mode": {
    "name": "ipython",
    "version": 3
   },
   "file_extension": ".py",
   "mimetype": "text/x-python",
   "name": "python",
   "nbconvert_exporter": "python",
   "pygments_lexer": "ipython3",
   "version": "3.6.7"
  }
 },
 "nbformat": 4,
 "nbformat_minor": 2
}
