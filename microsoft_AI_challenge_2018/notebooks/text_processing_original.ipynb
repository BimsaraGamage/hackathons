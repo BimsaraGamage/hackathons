{
 "cells": [
  {
   "cell_type": "markdown",
   "metadata": {
    "_uuid": "e94827fb932bf7407affe2d32b42b683a1c89ec3"
   },
   "source": [
    "# Improve your Score with some Text Preprocessing\n",
    "\n",
    "\n",
    "This kernel is an improved version of @Dieter's work.\n",
    "> https://www.kaggle.com/christofhenkel/how-to-preprocessing-when-using-embeddings\n",
    "\n",
    "This is also how I caught a glimpse of spelling mistakes in the database."
   ]
  },
  {
   "cell_type": "code",
   "execution_count": 16,
   "metadata": {
    "_uuid": "b378958a9606ac48fe0dc54e24bed4cd503e0ac7"
   },
   "outputs": [],
   "source": [
    "import pandas as pd\n",
    "import numpy as np\n",
    "from sklearn.metrics.pairwise import cosine_similarity\n",
    "from scipy.spatial.distance import cosine\n",
    "\n",
    "import operator \n",
    "import re"
   ]
  },
  {
   "cell_type": "markdown",
   "metadata": {
    "_uuid": "6e432bb170a329c79f58f78527bbbe4e857b2c41"
   },
   "source": [
    "## Loading data"
   ]
  },
  {
   "cell_type": "code",
   "execution_count": null,
   "metadata": {
    "_cell_guid": "b1076dfc-b9ad-4769-8c92-a6c4dae69d19",
    "_uuid": "8f2839f25d086af736a60e9eeb907d3b93b6e0e5"
   },
   "outputs": [],
   "source": [
    "df = pd.read_csv('../data/data.tsv', sep='\\t', header=None, names=['query_id', 'query_text', 'passage_text', 'label', 'passage_id'])\n",
    "df = df[[ 'query_text', 'passage_text']]\n",
    "print(df.shape)\n",
    "df.head()"
   ]
  },
  {
   "cell_type": "code",
   "execution_count": 25,
   "metadata": {},
   "outputs": [
    {
     "name": "stdout",
     "output_type": "stream",
     "text": [
      "(10483760, 1)\n"
     ]
    },
    {
     "data": {
      "text/html": [
       "<div>\n",
       "<style scoped>\n",
       "    .dataframe tbody tr th:only-of-type {\n",
       "        vertical-align: middle;\n",
       "    }\n",
       "\n",
       "    .dataframe tbody tr th {\n",
       "        vertical-align: top;\n",
       "    }\n",
       "\n",
       "    .dataframe thead th {\n",
       "        text-align: right;\n",
       "    }\n",
       "</style>\n",
       "<table border=\"1\" class=\"dataframe\">\n",
       "  <thead>\n",
       "    <tr style=\"text-align: right;\">\n",
       "      <th></th>\n",
       "      <th>text</th>\n",
       "    </tr>\n",
       "  </thead>\n",
       "  <tbody>\n",
       "    <tr>\n",
       "      <th>0</th>\n",
       "      <td>. what is a corporation?</td>\n",
       "    </tr>\n",
       "    <tr>\n",
       "      <th>1</th>\n",
       "      <td>A company is incorporated in a specific nation...</td>\n",
       "    </tr>\n",
       "    <tr>\n",
       "      <th>2</th>\n",
       "      <td>. what is a corporation?</td>\n",
       "    </tr>\n",
       "    <tr>\n",
       "      <th>3</th>\n",
       "      <td>Today, there is a growing community of more th...</td>\n",
       "    </tr>\n",
       "    <tr>\n",
       "      <th>4</th>\n",
       "      <td>. what is a corporation?</td>\n",
       "    </tr>\n",
       "  </tbody>\n",
       "</table>\n",
       "</div>"
      ],
      "text/plain": [
       "                                                text\n",
       "0                           . what is a corporation?\n",
       "1  A company is incorporated in a specific nation...\n",
       "2                           . what is a corporation?\n",
       "3  Today, there is a growing community of more th...\n",
       "4                           . what is a corporation?"
      ]
     },
     "execution_count": 25,
     "metadata": {},
     "output_type": "execute_result"
    }
   ],
   "source": [
    "df = pd.DataFrame(np.reshape(df.values, (-1,1)), columns=['text'])\n",
    "print(df.shape)\n",
    "df.head()"
   ]
  },
  {
   "cell_type": "markdown",
   "metadata": {
    "_uuid": "a453d10106aea7f6bf3f9bd952f2e02dd7a7472c"
   },
   "source": [
    "## Loading embeddings"
   ]
  },
  {
   "cell_type": "code",
   "execution_count": null,
   "metadata": {},
   "outputs": [],
   "source": [
    "# http://nlp.stanford.edu/data/glove.840B.300d.zip\n",
    "# paragram\n",
    "# https://drive.google.com/file/d/0B9w48e1rj-MOck1fRGxaZW1LU2M/view?usp=sharing\n",
    "# https://s3-us-west-1.amazonaws.com/fasttext-vectors/wiki-news-300d-1M.vec.zip\n",
    "# https://s3-us-west-1.amazonaws.com/fasttext-vectors/crawl-300d-2M.vec.zip"
   ]
  },
  {
   "cell_type": "code",
   "execution_count": 10,
   "metadata": {
    "_uuid": "807e734e0ce617480c824f8bf26f0672f38397d5"
   },
   "outputs": [],
   "source": [
    "def load_embed(file):\n",
    "    def get_coefs(word,*arr): \n",
    "        return word, np.asarray(arr, dtype='float32')\n",
    "    \n",
    "    if file == '../embeddings/crawl-300d-2M.vec':\n",
    "        embeddings_index = dict(get_coefs(*o.split(\" \")) for o in open(file, encoding='utf-8') if len(o)>100)\n",
    "    else:\n",
    "        embeddings_index = dict(get_coefs(*o.split(\" \")) for o in open(file, encoding='latin'))\n",
    "        \n",
    "    return embeddings_index"
   ]
  },
  {
   "cell_type": "code",
   "execution_count": 11,
   "metadata": {
    "_uuid": "44662473bad36713bbe610e84039145c81e941b2"
   },
   "outputs": [],
   "source": [
    "glove = '../embeddings/glove.840B.300d.txt'\n",
    "paragram =  '../embeddings/paragram_300_sl999.txt'\n",
    "wiki_news = '../embeddings/crawl-300d-2M.vec'"
   ]
  },
  {
   "cell_type": "code",
   "execution_count": null,
   "metadata": {},
   "outputs": [],
   "source": [
    "print(\"Extracting GloVe embedding\")\n",
    "embed_glove = load_embed(glove)\n",
    "print(\"Extracting Paragram embedding\")\n",
    "embed_paragram = load_embed(paragram)"
   ]
  },
  {
   "cell_type": "code",
   "execution_count": 12,
   "metadata": {
    "_uuid": "7a0a98920daa420bf37a910739cda6bc716ba872"
   },
   "outputs": [
    {
     "name": "stdout",
     "output_type": "stream",
     "text": [
      "Extracting FastText embedding\n"
     ]
    }
   ],
   "source": [
    "print(\"Extracting FastText embedding\")\n",
    "embed_fasttext = load_embed(wiki_news)"
   ]
  },
  {
   "cell_type": "code",
   "execution_count": 19,
   "metadata": {},
   "outputs": [
    {
     "data": {
      "text/plain": [
       "0.0"
      ]
     },
     "execution_count": 19,
     "metadata": {},
     "output_type": "execute_result"
    }
   ],
   "source": [
    "cosine(embed_glove['the'], embed_glove['the'])"
   ]
  },
  {
   "cell_type": "code",
   "execution_count": 20,
   "metadata": {},
   "outputs": [
    {
     "data": {
      "text/plain": [
       "0.565854549407959"
      ]
     },
     "execution_count": 20,
     "metadata": {},
     "output_type": "execute_result"
    }
   ],
   "source": [
    "cosine(embed_paragram['the'], embed_glove['the'])"
   ]
  },
  {
   "cell_type": "code",
   "execution_count": 21,
   "metadata": {},
   "outputs": [
    {
     "data": {
      "text/plain": [
       "0.3260217308998108"
      ]
     },
     "execution_count": 21,
     "metadata": {},
     "output_type": "execute_result"
    }
   ],
   "source": [
    "cosine(embed_paragram['like'], embed_glove['like'])"
   ]
  },
  {
   "cell_type": "markdown",
   "metadata": {
    "_uuid": "b5f9048e53a5cb91bdaa518d33fda756f1038562"
   },
   "source": [
    "## Vocabulary and Coverage functions"
   ]
  },
  {
   "cell_type": "code",
   "execution_count": 26,
   "metadata": {
    "_uuid": "c362fc1868aaa53dfc0bd91d453419815eba7c47"
   },
   "outputs": [],
   "source": [
    "def build_vocab(texts):\n",
    "    sentences = texts.apply(lambda x: x.split()).values\n",
    "    vocab = {}\n",
    "    for sentence in sentences:\n",
    "        for word in sentence:\n",
    "            try:\n",
    "                vocab[word] += 1\n",
    "            except KeyError:\n",
    "                vocab[word] = 1\n",
    "    return vocab"
   ]
  },
  {
   "cell_type": "code",
   "execution_count": 27,
   "metadata": {
    "_uuid": "f35a7213fc9a7e80a7c210d11b3a8094d3a8e07e"
   },
   "outputs": [],
   "source": [
    "def check_coverage(vocab, embeddings_index):\n",
    "    known_words = {}\n",
    "    unknown_words = {}\n",
    "    nb_known_words = 0\n",
    "    nb_unknown_words = 0\n",
    "    for word in vocab.keys():\n",
    "        try:\n",
    "            known_words[word] = embeddings_index[word]\n",
    "            nb_known_words += vocab[word]\n",
    "        except:\n",
    "            unknown_words[word] = vocab[word]\n",
    "            nb_unknown_words += vocab[word]\n",
    "            pass\n",
    "\n",
    "    print('Found embeddings for {:.2%} of vocab'.format(len(known_words) / len(vocab)))\n",
    "    print('Found embeddings for  {:.2%} of all text'.format(nb_known_words / (nb_known_words + nb_unknown_words)))\n",
    "    unknown_words = sorted(unknown_words.items(), key=operator.itemgetter(1))[::-1]\n",
    "\n",
    "    return unknown_words"
   ]
  },
  {
   "cell_type": "markdown",
   "metadata": {
    "_uuid": "31a3aff72321746bdf6731236d183ee28931793b"
   },
   "source": [
    "## Starting point"
   ]
  },
  {
   "cell_type": "code",
   "execution_count": 28,
   "metadata": {
    "_uuid": "cbf1970d63ea82cc32817b6d2e5f2b976276a08f"
   },
   "outputs": [],
   "source": [
    "vocab = build_vocab(df['text'])"
   ]
  },
  {
   "cell_type": "code",
   "execution_count": 29,
   "metadata": {
    "_uuid": "42c2b82740ac82f5678a46b7c82b5525616c1304",
    "scrolled": true
   },
   "outputs": [
    {
     "name": "stdout",
     "output_type": "stream",
     "text": [
      "Glove : \n",
      "Found embeddings for 14.40% of vocab\n",
      "Found embeddings for  88.75% of all text\n",
      "Paragram : \n",
      "Found embeddings for 7.60% of vocab\n",
      "Found embeddings for  77.39% of all text\n",
      "FastText : \n",
      "Found embeddings for 15.16% of vocab\n",
      "Found embeddings for  90.50% of all text\n"
     ]
    }
   ],
   "source": [
    "print(\"Glove : \")\n",
    "oov_glove = check_coverage(vocab, embed_glove)\n",
    "print(\"Paragram : \")\n",
    "oov_paragram = check_coverage(vocab, embed_paragram)\n",
    "print(\"FastText : \")\n",
    "oov_fasttext = check_coverage(vocab, embed_fasttext)"
   ]
  },
  {
   "cell_type": "markdown",
   "metadata": {
    "_uuid": "7b32cdaef54a0e7b428d1b82ee53afec9f5dd49b"
   },
   "source": [
    " #### Paragram seems to have a significantly lower coverage. \n",
    ">That's because it does not understand upper letters, let us lower our texts :"
   ]
  },
  {
   "cell_type": "code",
   "execution_count": 30,
   "metadata": {
    "_uuid": "c657fb61a5942ee9807258364be3a2d1058471e6"
   },
   "outputs": [],
   "source": [
    "df['lowered_text'] = df['text'].apply(lambda x: x.lower())"
   ]
  },
  {
   "cell_type": "code",
   "execution_count": 31,
   "metadata": {
    "_uuid": "a3c70ee2f7670eb6278a855130e5d2426238f590"
   },
   "outputs": [],
   "source": [
    "vocab_low = build_vocab(df['lowered_text'])"
   ]
  },
  {
   "cell_type": "code",
   "execution_count": 32,
   "metadata": {
    "_uuid": "6e4f5244153ac68b38213a36c3434b3c3a2a2441"
   },
   "outputs": [
    {
     "name": "stdout",
     "output_type": "stream",
     "text": [
      "Glove : \n",
      "Found embeddings for 9.16% of vocab\n",
      "Found embeddings for  88.62% of all text\n",
      "Paragram : \n",
      "Found embeddings for 12.58% of vocab\n",
      "Found embeddings for  89.07% of all text\n",
      "FastText : \n",
      "Found embeddings for 9.40% of vocab\n",
      "Found embeddings for  90.44% of all text\n"
     ]
    }
   ],
   "source": [
    "print(\"Glove : \")\n",
    "oov_glove = check_coverage(vocab_low, embed_glove)\n",
    "print(\"Paragram : \")\n",
    "oov_paragram = check_coverage(vocab_low, embed_paragram)\n",
    "print(\"FastText : \")\n",
    "oov_fasttext = check_coverage(vocab_low, embed_fasttext)"
   ]
  },
  {
   "cell_type": "markdown",
   "metadata": {
    "_uuid": "5d0ac02d8aec1460f3bdc19f6db815fcb84443a8"
   },
   "source": [
    "#### Better, but we lost a bit of information on the other embeddings.\n",
    "> Therer are words known that are known with upper letters and unknown without. Let us fix that :\n",
    "- word.lower() takes the embedding of word if word.lower() doesn't have an embedding"
   ]
  },
  {
   "cell_type": "code",
   "execution_count": 33,
   "metadata": {
    "_uuid": "7703322c717121d6f8ee06ab7316232c75448ebe"
   },
   "outputs": [],
   "source": [
    "def add_lower(embedding, vocab):\n",
    "    count = 0\n",
    "    for word in vocab:\n",
    "        if word in embedding and word.lower() not in embedding:  \n",
    "            embedding[word.lower()] = embedding[word]\n",
    "            count += 1\n",
    "    print(f\"Added {count} words to embedding\")"
   ]
  },
  {
   "cell_type": "code",
   "execution_count": 34,
   "metadata": {
    "_uuid": "77757cf80eeda36376dca64737c61d3100c1acf4"
   },
   "outputs": [
    {
     "name": "stdout",
     "output_type": "stream",
     "text": [
      "Glove : \n",
      "Added 134402 words to embedding\n",
      "Paragram : \n",
      "Added 25 words to embedding\n",
      "FastText : \n",
      "Added 165456 words to embedding\n"
     ]
    }
   ],
   "source": [
    "print(\"Glove : \")\n",
    "add_lower(embed_glove, vocab)\n",
    "print(\"Paragram : \")\n",
    "add_lower(embed_paragram, vocab)\n",
    "print(\"FastText : \")\n",
    "add_lower(embed_fasttext, vocab)"
   ]
  },
  {
   "cell_type": "code",
   "execution_count": 35,
   "metadata": {
    "_uuid": "1dec1b447767d99aa4814378b85365202e6bc230"
   },
   "outputs": [
    {
     "name": "stdout",
     "output_type": "stream",
     "text": [
      "Glove : \n",
      "Found embeddings for 12.30% of vocab\n",
      "Found embeddings for  89.06% of all text\n",
      "Paragram : \n",
      "Found embeddings for 12.58% of vocab\n",
      "Found embeddings for  89.07% of all text\n",
      "FastText : \n",
      "Found embeddings for 13.27% of vocab\n",
      "Found embeddings for  90.86% of all text\n"
     ]
    }
   ],
   "source": [
    "print(\"Glove : \")\n",
    "oov_glove = check_coverage(vocab_low, embed_glove)\n",
    "print(\"Paragram : \")\n",
    "oov_paragram = check_coverage(vocab_low, embed_paragram)\n",
    "print(\"FastText : \")\n",
    "oov_fasttext = check_coverage(vocab_low, embed_fasttext)"
   ]
  },
  {
   "cell_type": "markdown",
   "metadata": {
    "_uuid": "0cd0a201ddd3558ece968bbede941e7f7aee386d"
   },
   "source": [
    "### What's wrong ?"
   ]
  },
  {
   "cell_type": "code",
   "execution_count": 37,
   "metadata": {
    "_uuid": "68ee5f7fdf4def1aa67f76144ed4df9380087619"
   },
   "outputs": [
    {
     "data": {
      "text/plain": [
       "[('–', 163115),\n",
       " ('however,', 127764),\n",
       " ('—', 91547),\n",
       " ('example,', 80868),\n",
       " ('…', 75125),\n",
       " ('it’s', 69085),\n",
       " ('county,', 57218),\n",
       " ('(or', 54313),\n",
       " ('(the', 48567),\n",
       " ('time,', 47839),\n",
       " ('•', 43404),\n",
       " ('year,', 42919),\n",
       " ('years,', 37443),\n",
       " ('include:', 35574),\n",
       " ('states,', 35568),\n",
       " ('answer:', 35090),\n",
       " (\"what's\", 34995),\n",
       " ('don’t', 34274),\n",
       " ('you’re', 33342),\n",
       " ('day,', 32410),\n",
       " ('1,', 31477),\n",
       " ('water,', 30212),\n",
       " ('is,', 29392),\n",
       " ('system,', 27805),\n",
       " (\"world's\", 26538),\n",
       " ('city,', 26202),\n",
       " ('(a', 26195),\n",
       " ('and,', 25762),\n",
       " ('·', 25609),\n",
       " ('is:', 24803),\n",
       " ('disease,', 24681),\n",
       " ('pain,', 24650),\n",
       " ('(also', 23917),\n",
       " ('body,', 23820),\n",
       " ('cases,', 23743),\n",
       " ('(in', 23606),\n",
       " ('fact,', 22711),\n",
       " ('days,', 22257),\n",
       " ('(see', 22239),\n",
       " (\"earth's\", 21871),\n",
       " ('(and', 21834),\n",
       " ('so,', 21758),\n",
       " ('definition:', 21595),\n",
       " ('that’s', 21225),\n",
       " ('you’ll', 20966),\n",
       " ('symptoms.', 20945),\n",
       " ('2015.', 20621),\n",
       " ('name,', 20355),\n",
       " ('cells,', 20165),\n",
       " ('age,', 19485)]"
      ]
     },
     "execution_count": 37,
     "metadata": {},
     "output_type": "execute_result"
    }
   ],
   "source": [
    "oov_glove[:50]"
   ]
  },
  {
   "cell_type": "markdown",
   "metadata": {
    "_uuid": "768c3eca0b5342473dd9c9e208eb90e82eb13328"
   },
   "source": [
    "#### First faults appearing are : \n",
    "- Contractions \n",
    "- Words with punctuation in them\n",
    "\n",
    "> Let us correct that."
   ]
  },
  {
   "cell_type": "markdown",
   "metadata": {
    "_uuid": "3849b08b9edb1aea040dd61c9fa3f2bb1a58482a"
   },
   "source": [
    "## Contractions"
   ]
  },
  {
   "cell_type": "code",
   "execution_count": 38,
   "metadata": {
    "_uuid": "fb3eb7d653a20b4d8157b08de690b49dfb0148eb"
   },
   "outputs": [],
   "source": [
    "contraction_mapping = {\"ain't\": \"is not\", \"aren't\": \"are not\",\"can't\": \"cannot\", \"'cause\": \"because\", \"could've\": \"could have\", \"couldn't\": \"could not\", \"didn't\": \"did not\",  \"doesn't\": \"does not\", \"don't\": \"do not\", \"hadn't\": \"had not\", \"hasn't\": \"has not\", \"haven't\": \"have not\", \"he'd\": \"he would\",\"he'll\": \"he will\", \"he's\": \"he is\", \"how'd\": \"how did\", \"how'd'y\": \"how do you\", \"how'll\": \"how will\", \"how's\": \"how is\",  \"I'd\": \"I would\", \"I'd've\": \"I would have\", \"I'll\": \"I will\", \"I'll've\": \"I will have\",\"I'm\": \"I am\", \"I've\": \"I have\", \"i'd\": \"i would\", \"i'd've\": \"i would have\", \"i'll\": \"i will\",  \"i'll've\": \"i will have\",\"i'm\": \"i am\", \"i've\": \"i have\", \"isn't\": \"is not\", \"it'd\": \"it would\", \"it'd've\": \"it would have\", \"it'll\": \"it will\", \"it'll've\": \"it will have\",\"it's\": \"it is\", \"let's\": \"let us\", \"ma'am\": \"madam\", \"mayn't\": \"may not\", \"might've\": \"might have\",\"mightn't\": \"might not\",\"mightn't've\": \"might not have\", \"must've\": \"must have\", \"mustn't\": \"must not\", \"mustn't've\": \"must not have\", \"needn't\": \"need not\", \"needn't've\": \"need not have\",\"o'clock\": \"of the clock\", \"oughtn't\": \"ought not\", \"oughtn't've\": \"ought not have\", \"shan't\": \"shall not\", \"sha'n't\": \"shall not\", \"shan't've\": \"shall not have\", \"she'd\": \"she would\", \"she'd've\": \"she would have\", \"she'll\": \"she will\", \"she'll've\": \"she will have\", \"she's\": \"she is\", \"should've\": \"should have\", \"shouldn't\": \"should not\", \"shouldn't've\": \"should not have\", \"so've\": \"so have\",\"so's\": \"so as\", \"this's\": \"this is\",\"that'd\": \"that would\", \"that'd've\": \"that would have\", \"that's\": \"that is\", \"there'd\": \"there would\", \"there'd've\": \"there would have\", \"there's\": \"there is\", \"here's\": \"here is\",\"they'd\": \"they would\", \"they'd've\": \"they would have\", \"they'll\": \"they will\", \"they'll've\": \"they will have\", \"they're\": \"they are\", \"they've\": \"they have\", \"to've\": \"to have\", \"wasn't\": \"was not\", \"we'd\": \"we would\", \"we'd've\": \"we would have\", \"we'll\": \"we will\", \"we'll've\": \"we will have\", \"we're\": \"we are\", \"we've\": \"we have\", \"weren't\": \"were not\", \"what'll\": \"what will\", \"what'll've\": \"what will have\", \"what're\": \"what are\",  \"what's\": \"what is\", \"what've\": \"what have\", \"when's\": \"when is\", \"when've\": \"when have\", \"where'd\": \"where did\", \"where's\": \"where is\", \"where've\": \"where have\", \"who'll\": \"who will\", \"who'll've\": \"who will have\", \"who's\": \"who is\", \"who've\": \"who have\", \"why's\": \"why is\", \"why've\": \"why have\", \"will've\": \"will have\", \"won't\": \"will not\", \"won't've\": \"will not have\", \"would've\": \"would have\", \"wouldn't\": \"would not\", \"wouldn't've\": \"would not have\", \"y'all\": \"you all\", \"y'all'd\": \"you all would\",\"y'all'd've\": \"you all would have\",\"y'all're\": \"you all are\",\"y'all've\": \"you all have\",\"you'd\": \"you would\", \"you'd've\": \"you would have\", \"you'll\": \"you will\", \"you'll've\": \"you will have\", \"you're\": \"you are\", \"you've\": \"you have\" }"
   ]
  },
  {
   "cell_type": "code",
   "execution_count": 39,
   "metadata": {
    "_uuid": "348a75ce1e902dd34eff964b6a511310504fcfa6"
   },
   "outputs": [],
   "source": [
    "def known_contractions(embed):\n",
    "    known = []\n",
    "    for contract in contraction_mapping:\n",
    "        if contract in embed:\n",
    "            known.append(contract)\n",
    "    return known"
   ]
  },
  {
   "cell_type": "code",
   "execution_count": 40,
   "metadata": {
    "_uuid": "e9e43ac139947e32fd3a9f357ebbe1110a56d875"
   },
   "outputs": [
    {
     "name": "stdout",
     "output_type": "stream",
     "text": [
      "- Known Contractions -\n",
      "   Glove :\n",
      "[\"can't\", \"'cause\", \"didn't\", \"doesn't\", \"don't\", \"I'd\", \"I'll\", \"I'm\", \"I've\", \"i'd\", \"i'll\", \"i'm\", \"i've\", \"it's\", \"ma'am\", \"o'clock\", \"that's\", \"you'll\", \"you're\"]\n",
      "   Paragram :\n",
      "[\"can't\", \"'cause\", \"didn't\", \"doesn't\", \"don't\", \"i'd\", \"i'll\", \"i'm\", \"i've\", \"it's\", \"ma'am\", \"o'clock\", \"that's\", \"you'll\", \"you're\"]\n",
      "   FastText :\n",
      "[\"can't\", \"'cause\", \"didn't\", \"doesn't\", \"don't\", \"haven't\", \"he's\", \"I'd\", \"I'll\", \"I'm\", \"I've\", \"i'd\", \"i'll\", \"i'm\", \"i've\", \"isn't\", \"it's\", \"she's\", \"that's\", \"there's\", \"they're\", \"we're\", \"won't\", \"you'll\", \"you're\"]\n"
     ]
    }
   ],
   "source": [
    "print(\"- Known Contractions -\")\n",
    "print(\"   Glove :\")\n",
    "print(known_contractions(embed_glove))\n",
    "print(\"   Paragram :\")\n",
    "print(known_contractions(embed_paragram))\n",
    "print(\"   FastText :\")\n",
    "print(known_contractions(embed_fasttext))"
   ]
  },
  {
   "cell_type": "markdown",
   "metadata": {
    "_uuid": "a082b84860096732f927b97c421bb0a4c6579ca2"
   },
   "source": [
    "#### FastText does not understand contractions\n",
    "> We use the map to replace them"
   ]
  },
  {
   "cell_type": "code",
   "execution_count": 41,
   "metadata": {
    "_uuid": "d7d6f63b2da86b33d2650114630c57d47f3cc567"
   },
   "outputs": [],
   "source": [
    "def clean_contractions(text, mapping):\n",
    "    specials = [\"’\", \"‘\", \"´\", \"`\"]\n",
    "    for s in specials:\n",
    "        text = text.replace(s, \"'\")\n",
    "    text = ' '.join([mapping[t] if t in mapping else t for t in text.split(\" \")])\n",
    "    return text"
   ]
  },
  {
   "cell_type": "code",
   "execution_count": 42,
   "metadata": {
    "_uuid": "eeebeb5d860a0d5c5d8c9cdfc30ed652cea17634"
   },
   "outputs": [],
   "source": [
    "df['treated_text'] = df['lowered_text'].apply(lambda x: clean_contractions(x, contraction_mapping))"
   ]
  },
  {
   "cell_type": "code",
   "execution_count": 44,
   "metadata": {
    "_uuid": "490030c049c9c5d32e892da02816de053f8a252e"
   },
   "outputs": [
    {
     "name": "stdout",
     "output_type": "stream",
     "text": [
      "Glove : \n",
      "Found embeddings for 12.41% of vocab\n",
      "Found embeddings for  89.27% of all text\n",
      "Paragram : \n",
      "Found embeddings for 12.68% of vocab\n",
      "Found embeddings for  89.28% of all text\n",
      "FastText : \n",
      "Found embeddings for 13.38% of vocab\n",
      "Found embeddings for  90.98% of all text\n"
     ]
    }
   ],
   "source": [
    "vocab = build_vocab(df['treated_text'])\n",
    "print(\"Glove : \")\n",
    "oov_glove = check_coverage(vocab, embed_glove)\n",
    "print(\"Paragram : \")\n",
    "oov_paragram = check_coverage(vocab, embed_paragram)\n",
    "print(\"FastText : \")\n",
    "oov_fasttext = check_coverage(vocab, embed_fasttext)"
   ]
  },
  {
   "cell_type": "markdown",
   "metadata": {
    "_uuid": "dba213d3a9fefce81a3ab41e2ba95846f87da997"
   },
   "source": [
    "## Now, let us deal with special characters"
   ]
  },
  {
   "cell_type": "code",
   "execution_count": 45,
   "metadata": {
    "_uuid": "70f766c527f6b7d87a0213306d20db49a5cc014f"
   },
   "outputs": [],
   "source": [
    "punct = \"/-'?!.,#$%\\'()*+-/:;<=>@[\\\\]^_`{|}~\" + '\"\"“”’' + '∞θ÷α•à−β∅³π‘₹´°£€\\×™√²—–&'"
   ]
  },
  {
   "cell_type": "code",
   "execution_count": 46,
   "metadata": {
    "_uuid": "c95828228f2b28c55a02890c5a882037cad18262"
   },
   "outputs": [],
   "source": [
    "def unknown_punct(embed, punct):\n",
    "    unknown = ''\n",
    "    for p in punct:\n",
    "        if p not in embed:\n",
    "            unknown += p\n",
    "            unknown += ' '\n",
    "    return unknown"
   ]
  },
  {
   "cell_type": "code",
   "execution_count": 47,
   "metadata": {
    "_uuid": "69129cad1f08fda5912051d273db012f9adb081a"
   },
   "outputs": [
    {
     "name": "stdout",
     "output_type": "stream",
     "text": [
      "Glove :\n",
      "“ ” ’ ∞ θ ÷ α • à − β ∅ ³ π ‘ ₹ ´ ° £ € × ™ √ ² — – \n",
      "Paragram :\n",
      "“ ” ’ ∞ θ ÷ α • à − β ∅ ³ π ‘ ₹ ´ ° £ € × ™ √ ² — – \n",
      "FastText :\n",
      "_ ` \n"
     ]
    }
   ],
   "source": [
    "print(\"Glove :\")\n",
    "print(unknown_punct(embed_glove, punct))\n",
    "print(\"Paragram :\")\n",
    "print(unknown_punct(embed_paragram, punct))\n",
    "print(\"FastText :\")\n",
    "print(unknown_punct(embed_fasttext, punct))"
   ]
  },
  {
   "cell_type": "markdown",
   "metadata": {
    "_uuid": "b0b4dc88770ed22b650dcd590a343f8169dbd9d2"
   },
   "source": [
    "#### FastText seems to have a better knowledge of special characters \n",
    "> We use a map to replace unknown characters with known ones.\n",
    "\n",
    "> We make sure there are spaces between words and punctuation\n"
   ]
  },
  {
   "cell_type": "code",
   "execution_count": 48,
   "metadata": {
    "_uuid": "2ebe824ff42bc0f93aca2884b430cc96c12857b8"
   },
   "outputs": [],
   "source": [
    "punct_mapping = {\"‘\": \"'\", \"₹\": \"e\", \"´\": \"'\", \"°\": \"\", \"€\": \"e\", \"™\": \"tm\", \"√\": \" sqrt \", \"×\": \"x\", \"²\": \"2\", \"—\": \"-\", \"–\": \"-\", \"’\": \"'\", \"_\": \"-\", \"`\": \"'\", '“': '\"', '”': '\"', '“': '\"', \"£\": \"e\", '∞': 'infinity', 'θ': 'theta', '÷': '/', 'α': 'alpha', '•': '.', 'à': 'a', '−': '-', 'β': 'beta', '∅': '', '³': '3', 'π': 'pi', }"
   ]
  },
  {
   "cell_type": "code",
   "execution_count": 49,
   "metadata": {
    "_uuid": "a3825a0af80d6443e6e2665edadf2c394d8c92ff"
   },
   "outputs": [],
   "source": [
    "def clean_special_chars(text, punct, mapping):\n",
    "    for p in mapping:\n",
    "        text = text.replace(p, mapping[p])\n",
    "    \n",
    "    for p in punct:\n",
    "        text = text.replace(p, f' {p} ')\n",
    "    \n",
    "    specials = {'\\u200b': ' ', '…': ' ... ', '\\ufeff': '', 'करना': '', 'है': ''}  # Other special characters that I have to deal with in last\n",
    "    for s in specials:\n",
    "        text = text.replace(s, specials[s])\n",
    "    \n",
    "    return text"
   ]
  },
  {
   "cell_type": "code",
   "execution_count": 51,
   "metadata": {
    "_uuid": "b47c945e6f02c2a9f72aedd72da4681695cb20dd"
   },
   "outputs": [],
   "source": [
    "df['treated_text'] = df['treated_text'].apply(lambda x: clean_special_chars(x, punct, punct_mapping))"
   ]
  },
  {
   "cell_type": "code",
   "execution_count": 53,
   "metadata": {
    "_uuid": "1d89484c4cd04be56e6d81ea6b2b9ded41371ef8"
   },
   "outputs": [
    {
     "name": "stdout",
     "output_type": "stream",
     "text": [
      "Glove : \n",
      "Found embeddings for 37.70% of vocab\n",
      "Found embeddings for  99.51% of all text\n",
      "Paragram : \n",
      "Found embeddings for 42.79% of vocab\n",
      "Found embeddings for  99.54% of all text\n",
      "FastText : \n",
      "Found embeddings for 38.64% of vocab\n",
      "Found embeddings for  99.58% of all text\n"
     ]
    }
   ],
   "source": [
    "vocab = build_vocab(df['treated_text'])\n",
    "print(\"Glove : \")\n",
    "oov_glove = check_coverage(vocab, embed_glove)\n",
    "print(\"Paragram : \")\n",
    "oov_paragram = check_coverage(vocab, embed_paragram)\n",
    "print(\"FastText : \")\n",
    "oov_fasttext = check_coverage(vocab, embed_fasttext)"
   ]
  },
  {
   "cell_type": "code",
   "execution_count": 54,
   "metadata": {
    "_uuid": "4d206d53f696e7d9ee2f7463c8514c2f3bf6ce15",
    "scrolled": true
   },
   "outputs": [
    {
     "data": {
      "text/plain": [
       "[('47474', 3242),\n",
       " ('sylls', 3027),\n",
       " ('efinition', 2865),\n",
       " ('com®', 2765),\n",
       " ('allacronyms', 2507),\n",
       " ('syll', 2208),\n",
       " ('pagessm', 2111),\n",
       " ('audioenglish', 1562),\n",
       " ('onfidence', 1148),\n",
       " ('soulurge', 961),\n",
       " ('irections', 877),\n",
       " ('powerthesaurus', 838),\n",
       " ('itamin', 752),\n",
       " ('epending', 700),\n",
       " ('onlineslangdictionary', 679),\n",
       " ('1½', 662),\n",
       " ('auses', 649),\n",
       " ('59½', 636),\n",
       " ('wunderphotos', 630),\n",
       " ('wutv', 625),\n",
       " ('noncount', 625),\n",
       " ('homewyse', 622),\n",
       " ('eaning', 612),\n",
       " ('rewardsfor', 585),\n",
       " ('››', 547),\n",
       " ('nstructions', 537),\n",
       " ('ypically', 533),\n",
       " ('motion®', 504),\n",
       " ('lexilogos', 503),\n",
       " ('mayoclinic', 488),\n",
       " ('censusviewer', 483),\n",
       " ('2″', 441),\n",
       " ('ummary', 440),\n",
       " ('mail®', 440),\n",
       " ('acronymfinder', 418),\n",
       " ('4″', 408),\n",
       " ('70½', 400),\n",
       " ('wikianswers®', 399),\n",
       " ('uszip', 397),\n",
       " ('1⁄2', 395),\n",
       " ('windows®', 390),\n",
       " ('©1988', 385),\n",
       " ('5′', 385),\n",
       " ('iconsimon', 378),\n",
       " ('yourselfers', 378),\n",
       " ('intel®', 366),\n",
       " ('lexibase', 365),\n",
       " ('ackground', 364),\n",
       " ('zpass', 363),\n",
       " ('omments', 363),\n",
       " ('uscle', 355),\n",
       " ('iktionary', 354),\n",
       " ('microsoft®', 354),\n",
       " ('2½', 354),\n",
       " ('nswered', 347),\n",
       " ('79f', 346),\n",
       " ('targetdiv', 345),\n",
       " ('rigin', 343),\n",
       " ('aamgnrc4', 338),\n",
       " ('thagomizer', 329),\n",
       " ('s®', 329),\n",
       " ('aminobutyric', 325),\n",
       " ('ypical', 322),\n",
       " ('§§', 315),\n",
       " ('botox®', 314),\n",
       " ('creutzfeldt', 311),\n",
       " ('5″', 297),\n",
       " ('help·info', 296),\n",
       " ('usnaviguide', 290),\n",
       " ('3½', 290),\n",
       " ('holonyms', 289),\n",
       " ('kasandbox', 286),\n",
       " ('kastatic', 286),\n",
       " ('weatherbase', 286),\n",
       " ('xtotal', 282),\n",
       " ('dupipeline', 281),\n",
       " ('express®', 281),\n",
       " ('elevance', 280),\n",
       " ('hemical', 267),\n",
       " ('epatitis', 263),\n",
       " ('forrent', 263),\n",
       " ('medullaris', 261),\n",
       " ('qisnippet', 259),\n",
       " ('meronyms', 251),\n",
       " ('adslot', 250),\n",
       " ('1″', 249),\n",
       " ('catala', 248),\n",
       " ('alcium', 246),\n",
       " ('pronouncenames', 246),\n",
       " ('45359237', 243),\n",
       " ('epimysium', 240),\n",
       " ('biturl', 238),\n",
       " ('ubmit', 237),\n",
       " ('enetic', 232),\n",
       " ('addedittext', 231),\n",
       " ('8″', 231),\n",
       " ('kutools', 230),\n",
       " ('tendineae', 229),\n",
       " ('stti', 228),\n",
       " ('heritage®', 226)]"
      ]
     },
     "execution_count": 54,
     "metadata": {},
     "output_type": "execute_result"
    }
   ],
   "source": [
    "oov_fasttext[:100]"
   ]
  },
  {
   "cell_type": "markdown",
   "metadata": {
    "_uuid": "63a73741168e19b59ff8efaf167e2fe113725d7e"
   },
   "source": [
    "### What's still missing ? \n",
    "- Unknown words\n",
    "- Acronyms\n",
    "- Spelling mistakes"
   ]
  },
  {
   "cell_type": "markdown",
   "metadata": {
    "_uuid": "6be1bab080b82dfbc131fb77c0beecb5767263d3"
   },
   "source": [
    "## We can correct manually most frequent mispells"
   ]
  },
  {
   "cell_type": "markdown",
   "metadata": {
    "_uuid": "2fd418d76ecf3f4e9264c684e728bf26aafc4237"
   },
   "source": [
    "#### For example, here are some mistakes and their frequency\n",
    "- qoura : 85 times\n",
    "- mastrubation : 38 times\n",
    "- demonitisation : 30 times\n",
    "- …"
   ]
  },
  {
   "cell_type": "code",
   "execution_count": 55,
   "metadata": {
    "_uuid": "74b14fa49c71d1041f936642886830079966a2a3"
   },
   "outputs": [],
   "source": [
    "mispell_dict1 = {'colour': 'color', 'centre': 'center', 'favourite': 'favorite', 'travelling': 'traveling', 'counselling': 'counseling', 'theatre': 'theater', 'cancelled': 'canceled', 'labour': 'labor', 'organisation': 'organization', 'wwii': 'world war 2', 'citicise': 'criticize', 'youtu ': 'youtube ', 'Qoura': 'Quora', 'sallary': 'salary', 'Whta': 'What', 'narcisist': 'narcissist', 'howdo': 'how do', 'whatare': 'what are', 'howcan': 'how can', 'howmuch': 'how much', 'howmany': 'how many', 'whydo': 'why do', 'doI': 'do I', 'theBest': 'the best', 'howdoes': 'how does', 'mastrubation': 'masturbation', 'mastrubate': 'masturbate', \"mastrubating\": 'masturbating', 'pennis': 'penis', 'Etherium': 'Ethereum', 'narcissit': 'narcissist', 'bigdata': 'big data', '2k17': '2017', '2k18': '2018', 'qouta': 'quota', 'exboyfriend': 'ex boyfriend', 'airhostess': 'air hostess', \"whst\": 'what', 'watsapp': 'whatsapp', 'demonitisation': 'demonetization', 'demonitization': 'demonetization', 'demonetisation': 'demonetization'}"
   ]
  },
  {
   "cell_type": "code",
   "execution_count": null,
   "metadata": {},
   "outputs": [],
   "source": [
    "mispell_dict2 = {''}\n",
    "mispell_dict = {**mispell_dict1, **mispell_dict2}"
   ]
  },
  {
   "cell_type": "code",
   "execution_count": 56,
   "metadata": {
    "_uuid": "2bdc15dd0f50de811510fd870fcaae9c137c42c3"
   },
   "outputs": [],
   "source": [
    "def correct_spelling(x, dic):\n",
    "    for word in dic.keys():\n",
    "        x = x.replace(word, dic[word])\n",
    "    return x"
   ]
  },
  {
   "cell_type": "code",
   "execution_count": 58,
   "metadata": {
    "_uuid": "c887a0a6f7498724a2c377e9e29fac683ea3a59b"
   },
   "outputs": [],
   "source": [
    "df['treated_text'] = df['treated_text'].apply(lambda x: correct_spelling(x, mispell_dict))"
   ]
  },
  {
   "cell_type": "code",
   "execution_count": 60,
   "metadata": {
    "_uuid": "63aba43671245f1ebc87540a8bd49a174791c378"
   },
   "outputs": [
    {
     "name": "stdout",
     "output_type": "stream",
     "text": [
      "Glove : \n",
      "Found embeddings for 37.70% of vocab\n",
      "Found embeddings for  99.51% of all text\n",
      "Paragram : \n",
      "Found embeddings for 42.78% of vocab\n",
      "Found embeddings for  99.54% of all text\n",
      "FastText : \n",
      "Found embeddings for 38.63% of vocab\n",
      "Found embeddings for  99.58% of all text\n"
     ]
    }
   ],
   "source": [
    "vocab = build_vocab(df['treated_text'])\n",
    "print(\"Glove : \")\n",
    "oov_glove = check_coverage(vocab, embed_glove)\n",
    "print(\"Paragram : \")\n",
    "oov_paragram = check_coverage(vocab, embed_paragram)\n",
    "print(\"FastText : \")\n",
    "oov_fasttext = check_coverage(vocab, embed_fasttext)"
   ]
  },
  {
   "cell_type": "markdown",
   "metadata": {
    "_uuid": "a7bd1d4908fdcb485434c056a72bdd04555bf91d"
   },
   "source": [
    "### That's all for now !\n",
    "\n",
    "#### Improvement ideas: \n",
    "> Replace acronyms with their meaning\n",
    "\n",
    "> Replace unknown words with a more general term : \n",
    " - ex : fortnite, pubg -> video game\n",
    " \n",
    " ### *Thanks for reading ! *"
   ]
  },
  {
   "cell_type": "code",
   "execution_count": null,
   "metadata": {},
   "outputs": [],
   "source": []
  }
 ],
 "metadata": {
  "kernelspec": {
   "display_name": "Python 3",
   "language": "python",
   "name": "python3"
  },
  "language_info": {
   "codemirror_mode": {
    "name": "ipython",
    "version": 3
   },
   "file_extension": ".py",
   "mimetype": "text/x-python",
   "name": "python",
   "nbconvert_exporter": "python",
   "pygments_lexer": "ipython3",
   "version": "3.6.7"
  }
 },
 "nbformat": 4,
 "nbformat_minor": 2
}
