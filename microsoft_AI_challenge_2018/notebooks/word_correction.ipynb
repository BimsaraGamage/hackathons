{
 "cells": [
  {
   "cell_type": "code",
   "execution_count": 31,
   "metadata": {},
   "outputs": [],
   "source": [
    "import os, re, pickle\n",
    "from collections import Counter\n",
    "\n",
    "import pandas as pd"
   ]
  },
  {
   "cell_type": "code",
   "execution_count": 32,
   "metadata": {},
   "outputs": [
    {
     "data": {
      "text/html": [
       "<div>\n",
       "<style scoped>\n",
       "    .dataframe tbody tr th:only-of-type {\n",
       "        vertical-align: middle;\n",
       "    }\n",
       "\n",
       "    .dataframe tbody tr th {\n",
       "        vertical-align: top;\n",
       "    }\n",
       "\n",
       "    .dataframe thead th {\n",
       "        text-align: right;\n",
       "    }\n",
       "</style>\n",
       "<table border=\"1\" class=\"dataframe\">\n",
       "  <thead>\n",
       "    <tr style=\"text-align: right;\">\n",
       "      <th></th>\n",
       "      <th>CompanyId</th>\n",
       "      <th>crn</th>\n",
       "      <th>matched_crn</th>\n",
       "      <th>SectorName</th>\n",
       "      <th>IndustryName</th>\n",
       "      <th>IndustryTemplateCode</th>\n",
       "      <th>MsId</th>\n",
       "    </tr>\n",
       "  </thead>\n",
       "  <tbody>\n",
       "    <tr>\n",
       "      <th>0</th>\n",
       "      <td>0C000009IN</td>\n",
       "      <td>cash and bank balaaces</td>\n",
       "      <td>cash and bank balance</td>\n",
       "      <td>communication services</td>\n",
       "      <td>telecom services</td>\n",
       "      <td>n</td>\n",
       "      <td>IFBS000300</td>\n",
       "    </tr>\n",
       "    <tr>\n",
       "      <th>1</th>\n",
       "      <td>0C000009IN</td>\n",
       "      <td>borrowings</td>\n",
       "      <td>borrowing</td>\n",
       "      <td>communication services</td>\n",
       "      <td>telecom services</td>\n",
       "      <td>n</td>\n",
       "      <td>IFBS000480</td>\n",
       "    </tr>\n",
       "    <tr>\n",
       "      <th>2</th>\n",
       "      <td>0C000009IN</td>\n",
       "      <td>deferred tax liabilities</td>\n",
       "      <td>deferred tax liability</td>\n",
       "      <td>communication services</td>\n",
       "      <td>telecom services</td>\n",
       "      <td>n</td>\n",
       "      <td>IFBS000710</td>\n",
       "    </tr>\n",
       "    <tr>\n",
       "      <th>3</th>\n",
       "      <td>0C000009IN</td>\n",
       "      <td>borrowings</td>\n",
       "      <td>borrowing</td>\n",
       "      <td>communication services</td>\n",
       "      <td>telecom services</td>\n",
       "      <td>n</td>\n",
       "      <td>IFBS001290</td>\n",
       "    </tr>\n",
       "    <tr>\n",
       "      <th>4</th>\n",
       "      <td>0C000009IN</td>\n",
       "      <td>other current liabilities</td>\n",
       "      <td>other current liability</td>\n",
       "      <td>communication services</td>\n",
       "      <td>telecom services</td>\n",
       "      <td>n</td>\n",
       "      <td>IFBS001570</td>\n",
       "    </tr>\n",
       "  </tbody>\n",
       "</table>\n",
       "</div>"
      ],
      "text/plain": [
       "    CompanyId                        crn              matched_crn  \\\n",
       "0  0C000009IN     cash and bank balaaces    cash and bank balance   \n",
       "1  0C000009IN                 borrowings                borrowing   \n",
       "2  0C000009IN   deferred tax liabilities   deferred tax liability   \n",
       "3  0C000009IN                 borrowings                borrowing   \n",
       "4  0C000009IN  other current liabilities  other current liability   \n",
       "\n",
       "               SectorName      IndustryName IndustryTemplateCode        MsId  \n",
       "0  communication services  telecom services                    n  IFBS000300  \n",
       "1  communication services  telecom services                    n  IFBS000480  \n",
       "2  communication services  telecom services                    n  IFBS000710  \n",
       "3  communication services  telecom services                    n  IFBS001290  \n",
       "4  communication services  telecom services                    n  IFBS001570  "
      ]
     },
     "execution_count": 32,
     "metadata": {},
     "output_type": "execute_result"
    }
   ],
   "source": [
    "path = '../../../data/MEDS/Demo Dataset/Datapoint Classifier/BS'\n",
    "filename = 'Data_point_BS.csv'\n",
    "output_filename = filename.split('.')[0] + '-ulmfit.csv'\n",
    "df = pd.read_csv(os.path.join(path, filename))\n",
    "df.head()"
   ]
  },
  {
   "cell_type": "code",
   "execution_count": 33,
   "metadata": {},
   "outputs": [
    {
     "data": {
      "text/html": [
       "<div>\n",
       "<style scoped>\n",
       "    .dataframe tbody tr th:only-of-type {\n",
       "        vertical-align: middle;\n",
       "    }\n",
       "\n",
       "    .dataframe tbody tr th {\n",
       "        vertical-align: top;\n",
       "    }\n",
       "\n",
       "    .dataframe thead th {\n",
       "        text-align: right;\n",
       "    }\n",
       "</style>\n",
       "<table border=\"1\" class=\"dataframe\">\n",
       "  <thead>\n",
       "    <tr style=\"text-align: right;\">\n",
       "      <th></th>\n",
       "      <th>label</th>\n",
       "      <th>text</th>\n",
       "    </tr>\n",
       "  </thead>\n",
       "  <tbody>\n",
       "    <tr>\n",
       "      <th>0</th>\n",
       "      <td>IFBS000300</td>\n",
       "      <td>cash and bank balaaces</td>\n",
       "    </tr>\n",
       "    <tr>\n",
       "      <th>1</th>\n",
       "      <td>IFBS000480</td>\n",
       "      <td>borrowings</td>\n",
       "    </tr>\n",
       "    <tr>\n",
       "      <th>2</th>\n",
       "      <td>IFBS000710</td>\n",
       "      <td>deferred tax liabilities</td>\n",
       "    </tr>\n",
       "    <tr>\n",
       "      <th>3</th>\n",
       "      <td>IFBS001290</td>\n",
       "      <td>borrowings</td>\n",
       "    </tr>\n",
       "    <tr>\n",
       "      <th>4</th>\n",
       "      <td>IFBS001570</td>\n",
       "      <td>other current liabilities</td>\n",
       "    </tr>\n",
       "  </tbody>\n",
       "</table>\n",
       "</div>"
      ],
      "text/plain": [
       "        label                       text\n",
       "0  IFBS000300     cash and bank balaaces\n",
       "1  IFBS000480                 borrowings\n",
       "2  IFBS000710   deferred tax liabilities\n",
       "3  IFBS001290                 borrowings\n",
       "4  IFBS001570  other current liabilities"
      ]
     },
     "execution_count": 33,
     "metadata": {},
     "output_type": "execute_result"
    }
   ],
   "source": [
    "df = df[['MsId', 'crn']].rename(columns={'crn': 'text', 'MsId': 'label'})\n",
    "df = df[df.text == df.text]\n",
    "df.head()"
   ]
  },
  {
   "cell_type": "code",
   "execution_count": 34,
   "metadata": {},
   "outputs": [
    {
     "data": {
      "text/plain": [
       "'cash and bank balaaces borrowings deferred tax liabilities borrowings other current liabilities intangible assets under development capital work in progres s goodwill on consolidation other non curren'"
      ]
     },
     "execution_count": 34,
     "metadata": {},
     "output_type": "execute_result"
    }
   ],
   "source": [
    "text = ' '.join(df['text'].values)\n",
    "text[:200]"
   ]
  },
  {
   "cell_type": "code",
   "execution_count": 35,
   "metadata": {},
   "outputs": [],
   "source": [
    "# Loading english_words\n",
    "with open ('english_words', 'rb') as f:\n",
    "    english_words = pickle.load(f)\n",
    "    \n",
    "def words(sentence): \n",
    "        all_words = re.findall(r'\\w+', sentence.lower())\n",
    "        return [w for w in all_words if len(w)>2]\n",
    "\n",
    "count_dictionary = Counter(words(text))"
   ]
  },
  {
   "cell_type": "code",
   "execution_count": 36,
   "metadata": {},
   "outputs": [
    {
     "name": "stdout",
     "output_type": "stream",
     "text": [
      "cash bank balaaces borrowings defered tax liabiities borrowings\n"
     ]
    }
   ],
   "source": [
    "def correction(word):\n",
    "    \"Most probable spelling correction for word.\"\n",
    "    \n",
    "    def P(word, N=sum(count_dictionary.values())): \n",
    "        \"Probability of `word`.\"\n",
    "        return count_dictionary[word] / N\n",
    "\n",
    "    def candidates(word): \n",
    "        \"Generate possible spelling corrections for word.\"\n",
    "        return (known([word]) or known(edits1(word)) or known(edits2(word)) or [word])\n",
    "\n",
    "    def known(words): \n",
    "        \"The subset of `words` that appear in the dictionary of count_dictionary.\"\n",
    "        return set(w for w in words if w in count_dictionary)\n",
    "\n",
    "    def edits1(word):\n",
    "        \"All edits that are one edit away from `word`.\"\n",
    "        letters    = 'abcdefghijklmnopqrstuvwxyz'\n",
    "        splits     = [(word[:i], word[i:])    for i in range(len(word) + 1)]\n",
    "        deletes    = [L + R[1:]               for L, R in splits if R]\n",
    "        transposes = [L + R[1] + R[0] + R[2:] for L, R in splits if len(R)>1]\n",
    "        replaces   = [L + c + R[1:]           for L, R in splits if R for c in letters]\n",
    "        inserts    = [L + c + R               for L, R in splits for c in letters]\n",
    "        return set(deletes + transposes + replaces + inserts)\n",
    "\n",
    "    def edits2(word): \n",
    "        \"All edits that are two edits away from `word`.\"\n",
    "        return (e2 for e1 in edits1(word) for e2 in edits1(e1))\n",
    "\n",
    "    return max(candidates(word), key=P)\n",
    "\n",
    "def correct_sentence(sentence):\n",
    "    '''Returns a corrected sentence'''\n",
    "#     sentence = text_corrector(sentence)\n",
    "#     return ' '.join(correction(w.replace('\\'s','').replace('\\'','')) for w in sentence.split())\n",
    "    return ' '.join(correction((w)) if w not in english_words else w for w in sentence.split() )\n",
    "    \n",
    "words = ['csh', 'bank', 'balaaces', 'borowings', 'defered', 'taxx', 'liabiities', 'borowings']\n",
    "print(correct_sentence(' '.join(words)))"
   ]
  },
  {
   "cell_type": "code",
   "execution_count": 30,
   "metadata": {},
   "outputs": [
    {
     "data": {
      "text/plain": [
       "TextBlob(\"cash bank balances borrowings deferred tax liabilities borrowings\")"
      ]
     },
     "execution_count": 30,
     "metadata": {},
     "output_type": "execute_result"
    }
   ],
   "source": [
    "from textblob import TextBlob\n",
    "line = ' '.join(words)\n",
    "TextBlob(line).correct()"
   ]
  },
  {
   "cell_type": "code",
   "execution_count": null,
   "metadata": {},
   "outputs": [],
   "source": []
  },
  {
   "cell_type": "code",
   "execution_count": null,
   "metadata": {},
   "outputs": [],
   "source": []
  }
 ],
 "metadata": {
  "kernelspec": {
   "display_name": "Python 3",
   "language": "python",
   "name": "python3"
  },
  "language_info": {
   "codemirror_mode": {
    "name": "ipython",
    "version": 3
   },
   "file_extension": ".py",
   "mimetype": "text/x-python",
   "name": "python",
   "nbconvert_exporter": "python",
   "pygments_lexer": "ipython3",
   "version": "3.6.5"
  }
 },
 "nbformat": 4,
 "nbformat_minor": 2
}
